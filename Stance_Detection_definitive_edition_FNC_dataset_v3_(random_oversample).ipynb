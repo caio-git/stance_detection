{
  "nbformat": 4,
  "nbformat_minor": 0,
  "metadata": {
    "colab": {
      "name": "Stance Detection definitive edition FNC dataset v3 (random oversample).ipynb",
      "provenance": [],
      "collapsed_sections": [],
      "machine_shape": "hm",
      "mount_file_id": "1xd44_3qB2xa7M5w_Mvuh3ob_VwaU-JlY",
      "authorship_tag": "ABX9TyO3Kw8qgsCLIFBemI5Oza+k",
      "include_colab_link": true
    },
    "kernelspec": {
      "display_name": "Python 3",
      "name": "python3"
    },
    "language_info": {
      "name": "python"
    }
  },
  "cells": [
    {
      "cell_type": "markdown",
      "metadata": {
        "id": "view-in-github",
        "colab_type": "text"
      },
      "source": [
        "<a href=\"https://colab.research.google.com/github/caio-git/stance_detection/blob/main/Stance_Detection_definitive_edition_FNC_dataset_v3_(random_oversample).ipynb\" target=\"_parent\"><img src=\"https://colab.research.google.com/assets/colab-badge.svg\" alt=\"Open In Colab\"/></a>"
      ]
    },
    {
      "cell_type": "markdown",
      "metadata": {
        "id": "Deql4HODEFl0"
      },
      "source": [
        "## Importing libs and data"
      ]
    },
    {
      "cell_type": "code",
      "metadata": {
        "colab": {
          "base_uri": "https://localhost:8080/"
        },
        "id": "Jq0vknvV4VUW",
        "outputId": "df1fd0c5-2d06-452b-8afd-2c8e89394c63"
      },
      "source": [
        "import pandas as pd\n",
        "import re, nltk, string, scipy\n",
        "from sklearn.feature_extraction.text import TfidfVectorizer\n",
        "from sklearn.model_selection import train_test_split, GridSearchCV, cross_val_score\n",
        "from sklearn.linear_model import LogisticRegression\n",
        "from sklearn.metrics import plot_confusion_matrix, accuracy_score, confusion_matrix, classification_report, roc_curve, roc_auc_score, make_scorer, precision_score\n",
        "from sklearn.naive_bayes import MultinomialNB, ComplementNB, GaussianNB\n",
        "from sklearn.ensemble import RandomForestClassifier\n",
        "from sklearn.neural_network import MLPClassifier\n",
        "from sklearn.model_selection import RandomizedSearchCV\n",
        "from joblib import dump, load\n",
        "from sklearn import preprocessing\n",
        "import numpy as np\n",
        "import matplotlib.pyplot as plt\n",
        "import seaborn as sns\n",
        "#from sklearn.metrics.pairwise import cosine_similarity\n",
        "nltk.download('punkt')\n",
        "nltk.download('wordnet')\n",
        "nltk.download('stopwords')\n",
        "#nltk.download('rslp')\n",
        "!pip install unidecode\n",
        "import unidecode"
      ],
      "execution_count": null,
      "outputs": [
        {
          "output_type": "stream",
          "text": [
            "[nltk_data] Downloading package punkt to /root/nltk_data...\n",
            "[nltk_data]   Unzipping tokenizers/punkt.zip.\n",
            "[nltk_data] Downloading package wordnet to /root/nltk_data...\n",
            "[nltk_data]   Unzipping corpora/wordnet.zip.\n",
            "[nltk_data] Downloading package stopwords to /root/nltk_data...\n",
            "[nltk_data]   Unzipping corpora/stopwords.zip.\n",
            "Collecting unidecode\n",
            "  Downloading Unidecode-1.2.0-py2.py3-none-any.whl (241 kB)\n",
            "\u001b[K     |████████████████████████████████| 241 kB 14.0 MB/s \n",
            "\u001b[?25hInstalling collected packages: unidecode\n",
            "Successfully installed unidecode-1.2.0\n"
          ],
          "name": "stdout"
        }
      ]
    },
    {
      "cell_type": "code",
      "metadata": {
        "colab": {
          "base_uri": "https://localhost:8080/"
        },
        "id": "PNdWxnflChpQ",
        "outputId": "26fdcd7a-5e8b-4d0b-dc97-0a3092afcb73"
      },
      "source": [
        "!wget -O /content/stance_detection_3.zip https://github.com/caio-git/datasets/blob/main/train_test_FNC.zip?raw=true\n",
        "!unzip /content/stance_detection_3.zip"
      ],
      "execution_count": null,
      "outputs": [
        {
          "output_type": "stream",
          "text": [
            "--2021-09-03 18:07:09--  https://github.com/caio-git/datasets/blob/main/train_test_FNC.zip?raw=true\n",
            "Resolving github.com (github.com)... 140.82.121.4\n",
            "Connecting to github.com (github.com)|140.82.121.4|:443... connected.\n",
            "HTTP request sent, awaiting response... 302 Found\n",
            "Location: https://github.com/caio-git/datasets/raw/main/train_test_FNC.zip [following]\n",
            "--2021-09-03 18:07:09--  https://github.com/caio-git/datasets/raw/main/train_test_FNC.zip\n",
            "Reusing existing connection to github.com:443.\n",
            "HTTP request sent, awaiting response... 302 Found\n",
            "Location: https://raw.githubusercontent.com/caio-git/datasets/main/train_test_FNC.zip [following]\n",
            "--2021-09-03 18:07:09--  https://raw.githubusercontent.com/caio-git/datasets/main/train_test_FNC.zip\n",
            "Resolving raw.githubusercontent.com (raw.githubusercontent.com)... 185.199.109.133, 185.199.108.133, 185.199.110.133, ...\n",
            "Connecting to raw.githubusercontent.com (raw.githubusercontent.com)|185.199.109.133|:443... connected.\n",
            "HTTP request sent, awaiting response... 200 OK\n",
            "Length: 2782575 (2.7M) [application/zip]\n",
            "Saving to: ‘/content/stance_detection_3.zip’\n",
            "\n",
            "/content/stance_det 100%[===================>]   2.65M  --.-KB/s    in 0.03s   \n",
            "\n",
            "2021-09-03 18:07:10 (95.9 MB/s) - ‘/content/stance_detection_3.zip’ saved [2782575/2782575]\n",
            "\n",
            "Archive:  /content/stance_detection_3.zip\n",
            "  inflating: train_bodies_origin.csv  \n",
            "  inflating: train_stances_origin.csv  \n"
          ],
          "name": "stdout"
        }
      ]
    },
    {
      "cell_type": "code",
      "metadata": {
        "colab": {
          "base_uri": "https://localhost:8080/",
          "height": 204
        },
        "id": "BBCP3XQZSJjC",
        "outputId": "e4d6fd15-1563-4d44-c26d-f5d1d346dcc5"
      },
      "source": [
        "df_bodies = pd.read_csv('/content/train_bodies_origin.csv', index_col=False)\n",
        "df_bodies.head()"
      ],
      "execution_count": null,
      "outputs": [
        {
          "output_type": "execute_result",
          "data": {
            "text/html": [
              "<div>\n",
              "<style scoped>\n",
              "    .dataframe tbody tr th:only-of-type {\n",
              "        vertical-align: middle;\n",
              "    }\n",
              "\n",
              "    .dataframe tbody tr th {\n",
              "        vertical-align: top;\n",
              "    }\n",
              "\n",
              "    .dataframe thead th {\n",
              "        text-align: right;\n",
              "    }\n",
              "</style>\n",
              "<table border=\"1\" class=\"dataframe\">\n",
              "  <thead>\n",
              "    <tr style=\"text-align: right;\">\n",
              "      <th></th>\n",
              "      <th>Body ID</th>\n",
              "      <th>articleBody</th>\n",
              "    </tr>\n",
              "  </thead>\n",
              "  <tbody>\n",
              "    <tr>\n",
              "      <th>0</th>\n",
              "      <td>0</td>\n",
              "      <td>A small meteorite crashed into a wooded area i...</td>\n",
              "    </tr>\n",
              "    <tr>\n",
              "      <th>1</th>\n",
              "      <td>4</td>\n",
              "      <td>Last week we hinted at what was to come as Ebo...</td>\n",
              "    </tr>\n",
              "    <tr>\n",
              "      <th>2</th>\n",
              "      <td>5</td>\n",
              "      <td>(NEWSER) – Wonder how long a Quarter Pounder w...</td>\n",
              "    </tr>\n",
              "    <tr>\n",
              "      <th>3</th>\n",
              "      <td>6</td>\n",
              "      <td>Posting photos of a gun-toting child online, I...</td>\n",
              "    </tr>\n",
              "    <tr>\n",
              "      <th>4</th>\n",
              "      <td>7</td>\n",
              "      <td>At least 25 suspected Boko Haram insurgents we...</td>\n",
              "    </tr>\n",
              "  </tbody>\n",
              "</table>\n",
              "</div>"
            ],
            "text/plain": [
              "   Body ID                                        articleBody\n",
              "0        0  A small meteorite crashed into a wooded area i...\n",
              "1        4  Last week we hinted at what was to come as Ebo...\n",
              "2        5  (NEWSER) – Wonder how long a Quarter Pounder w...\n",
              "3        6  Posting photos of a gun-toting child online, I...\n",
              "4        7  At least 25 suspected Boko Haram insurgents we..."
            ]
          },
          "metadata": {
            "tags": []
          },
          "execution_count": 3
        }
      ]
    },
    {
      "cell_type": "code",
      "metadata": {
        "colab": {
          "base_uri": "https://localhost:8080/",
          "height": 204
        },
        "id": "jJrvQeT65vhI",
        "outputId": "48ef2385-ae47-4594-db1f-7f14e20a315d"
      },
      "source": [
        "df_stances = pd.read_csv('/content/train_stances_origin.csv', index_col=False)\n",
        "df_stances.head()"
      ],
      "execution_count": null,
      "outputs": [
        {
          "output_type": "execute_result",
          "data": {
            "text/html": [
              "<div>\n",
              "<style scoped>\n",
              "    .dataframe tbody tr th:only-of-type {\n",
              "        vertical-align: middle;\n",
              "    }\n",
              "\n",
              "    .dataframe tbody tr th {\n",
              "        vertical-align: top;\n",
              "    }\n",
              "\n",
              "    .dataframe thead th {\n",
              "        text-align: right;\n",
              "    }\n",
              "</style>\n",
              "<table border=\"1\" class=\"dataframe\">\n",
              "  <thead>\n",
              "    <tr style=\"text-align: right;\">\n",
              "      <th></th>\n",
              "      <th>Headline</th>\n",
              "      <th>Body ID</th>\n",
              "      <th>Stance</th>\n",
              "    </tr>\n",
              "  </thead>\n",
              "  <tbody>\n",
              "    <tr>\n",
              "      <th>0</th>\n",
              "      <td>Police find mass graves with at least '15 bodi...</td>\n",
              "      <td>712</td>\n",
              "      <td>unrelated</td>\n",
              "    </tr>\n",
              "    <tr>\n",
              "      <th>1</th>\n",
              "      <td>Hundreds of Palestinians flee floods in Gaza a...</td>\n",
              "      <td>158</td>\n",
              "      <td>agree</td>\n",
              "    </tr>\n",
              "    <tr>\n",
              "      <th>2</th>\n",
              "      <td>Christian Bale passes on role of Steve Jobs, a...</td>\n",
              "      <td>137</td>\n",
              "      <td>unrelated</td>\n",
              "    </tr>\n",
              "    <tr>\n",
              "      <th>3</th>\n",
              "      <td>HBO and Apple in Talks for $15/Month Apple TV ...</td>\n",
              "      <td>1034</td>\n",
              "      <td>unrelated</td>\n",
              "    </tr>\n",
              "    <tr>\n",
              "      <th>4</th>\n",
              "      <td>Spider burrowed through tourist's stomach and ...</td>\n",
              "      <td>1923</td>\n",
              "      <td>disagree</td>\n",
              "    </tr>\n",
              "  </tbody>\n",
              "</table>\n",
              "</div>"
            ],
            "text/plain": [
              "                                            Headline  Body ID     Stance\n",
              "0  Police find mass graves with at least '15 bodi...      712  unrelated\n",
              "1  Hundreds of Palestinians flee floods in Gaza a...      158      agree\n",
              "2  Christian Bale passes on role of Steve Jobs, a...      137  unrelated\n",
              "3  HBO and Apple in Talks for $15/Month Apple TV ...     1034  unrelated\n",
              "4  Spider burrowed through tourist's stomach and ...     1923   disagree"
            ]
          },
          "metadata": {
            "tags": []
          },
          "execution_count": 4
        }
      ]
    },
    {
      "cell_type": "code",
      "metadata": {
        "colab": {
          "base_uri": "https://localhost:8080/",
          "height": 204
        },
        "id": "IRcpnGY27AxN",
        "outputId": "f3856f55-abeb-4256-83c8-9cdb654d1fe2"
      },
      "source": [
        "df_merged = df_bodies.merge(df_stances, left_on='Body ID', right_on='Body ID')\n",
        "df_merged.rename(columns={'articleBody':'news', 'Headline':'headline', 'Stance':'tag'}, inplace=True)\n",
        "df = df_merged.drop(columns='Body ID')\n",
        "df.head()"
      ],
      "execution_count": null,
      "outputs": [
        {
          "output_type": "execute_result",
          "data": {
            "text/html": [
              "<div>\n",
              "<style scoped>\n",
              "    .dataframe tbody tr th:only-of-type {\n",
              "        vertical-align: middle;\n",
              "    }\n",
              "\n",
              "    .dataframe tbody tr th {\n",
              "        vertical-align: top;\n",
              "    }\n",
              "\n",
              "    .dataframe thead th {\n",
              "        text-align: right;\n",
              "    }\n",
              "</style>\n",
              "<table border=\"1\" class=\"dataframe\">\n",
              "  <thead>\n",
              "    <tr style=\"text-align: right;\">\n",
              "      <th></th>\n",
              "      <th>news</th>\n",
              "      <th>headline</th>\n",
              "      <th>tag</th>\n",
              "    </tr>\n",
              "  </thead>\n",
              "  <tbody>\n",
              "    <tr>\n",
              "      <th>0</th>\n",
              "      <td>A small meteorite crashed into a wooded area i...</td>\n",
              "      <td>Soldier shot, Parliament locked down after gun...</td>\n",
              "      <td>unrelated</td>\n",
              "    </tr>\n",
              "    <tr>\n",
              "      <th>1</th>\n",
              "      <td>A small meteorite crashed into a wooded area i...</td>\n",
              "      <td>Tourist dubbed ‘Spider Man’ after spider burro...</td>\n",
              "      <td>unrelated</td>\n",
              "    </tr>\n",
              "    <tr>\n",
              "      <th>2</th>\n",
              "      <td>A small meteorite crashed into a wooded area i...</td>\n",
              "      <td>Luke Somers 'killed in failed rescue attempt i...</td>\n",
              "      <td>unrelated</td>\n",
              "    </tr>\n",
              "    <tr>\n",
              "      <th>3</th>\n",
              "      <td>A small meteorite crashed into a wooded area i...</td>\n",
              "      <td>BREAKING: Soldier shot at War Memorial in Ottawa</td>\n",
              "      <td>unrelated</td>\n",
              "    </tr>\n",
              "    <tr>\n",
              "      <th>4</th>\n",
              "      <td>A small meteorite crashed into a wooded area i...</td>\n",
              "      <td>Giant 8ft 9in catfish weighing 19 stone caught...</td>\n",
              "      <td>unrelated</td>\n",
              "    </tr>\n",
              "  </tbody>\n",
              "</table>\n",
              "</div>"
            ],
            "text/plain": [
              "                                                news  ...        tag\n",
              "0  A small meteorite crashed into a wooded area i...  ...  unrelated\n",
              "1  A small meteorite crashed into a wooded area i...  ...  unrelated\n",
              "2  A small meteorite crashed into a wooded area i...  ...  unrelated\n",
              "3  A small meteorite crashed into a wooded area i...  ...  unrelated\n",
              "4  A small meteorite crashed into a wooded area i...  ...  unrelated\n",
              "\n",
              "[5 rows x 3 columns]"
            ]
          },
          "metadata": {
            "tags": []
          },
          "execution_count": 5
        }
      ]
    },
    {
      "cell_type": "code",
      "metadata": {
        "id": "UofpasqsLyp6"
      },
      "source": [
        ""
      ],
      "execution_count": null,
      "outputs": []
    },
    {
      "cell_type": "code",
      "metadata": {
        "colab": {
          "base_uri": "https://localhost:8080/",
          "height": 204
        },
        "id": "2AEHwMvpL0Iq",
        "outputId": "7903451b-dbc2-4fda-8eeb-b4e220d13296"
      },
      "source": [
        "df_test_bodies = pd.read_csv('https://github.com/FakeNewsChallenge/fnc-1/blob/master/competition_test_bodies.csv?raw=true', index_col=False)\n",
        "df_test_bodies.head()"
      ],
      "execution_count": null,
      "outputs": [
        {
          "output_type": "execute_result",
          "data": {
            "text/html": [
              "<div>\n",
              "<style scoped>\n",
              "    .dataframe tbody tr th:only-of-type {\n",
              "        vertical-align: middle;\n",
              "    }\n",
              "\n",
              "    .dataframe tbody tr th {\n",
              "        vertical-align: top;\n",
              "    }\n",
              "\n",
              "    .dataframe thead th {\n",
              "        text-align: right;\n",
              "    }\n",
              "</style>\n",
              "<table border=\"1\" class=\"dataframe\">\n",
              "  <thead>\n",
              "    <tr style=\"text-align: right;\">\n",
              "      <th></th>\n",
              "      <th>Body ID</th>\n",
              "      <th>articleBody</th>\n",
              "    </tr>\n",
              "  </thead>\n",
              "  <tbody>\n",
              "    <tr>\n",
              "      <th>0</th>\n",
              "      <td>1</td>\n",
              "      <td>Al-Sisi has denied Israeli reports stating tha...</td>\n",
              "    </tr>\n",
              "    <tr>\n",
              "      <th>1</th>\n",
              "      <td>2</td>\n",
              "      <td>A bereaved Afghan mother took revenge on the T...</td>\n",
              "    </tr>\n",
              "    <tr>\n",
              "      <th>2</th>\n",
              "      <td>3</td>\n",
              "      <td>CNBC is reporting Tesla has chosen Nevada as t...</td>\n",
              "    </tr>\n",
              "    <tr>\n",
              "      <th>3</th>\n",
              "      <td>12</td>\n",
              "      <td>A 4-inch version of the iPhone 6 is said to be...</td>\n",
              "    </tr>\n",
              "    <tr>\n",
              "      <th>4</th>\n",
              "      <td>19</td>\n",
              "      <td>GR editor’s Note\\n\\nThere are no reports in th...</td>\n",
              "    </tr>\n",
              "  </tbody>\n",
              "</table>\n",
              "</div>"
            ],
            "text/plain": [
              "   Body ID                                        articleBody\n",
              "0        1  Al-Sisi has denied Israeli reports stating tha...\n",
              "1        2  A bereaved Afghan mother took revenge on the T...\n",
              "2        3  CNBC is reporting Tesla has chosen Nevada as t...\n",
              "3       12  A 4-inch version of the iPhone 6 is said to be...\n",
              "4       19  GR editor’s Note\\n\\nThere are no reports in th..."
            ]
          },
          "metadata": {
            "tags": []
          },
          "execution_count": 6
        }
      ]
    },
    {
      "cell_type": "code",
      "metadata": {
        "colab": {
          "base_uri": "https://localhost:8080/",
          "height": 204
        },
        "id": "TMkphM_aL0Is",
        "outputId": "aa8227b5-0c48-4888-85ca-33b83d3891c9"
      },
      "source": [
        "df_test_stances = pd.read_csv('https://github.com/FakeNewsChallenge/fnc-1/blob/master/competition_test_stances.csv?raw=true', index_col=False)\n",
        "df_test_stances.head()"
      ],
      "execution_count": null,
      "outputs": [
        {
          "output_type": "execute_result",
          "data": {
            "text/html": [
              "<div>\n",
              "<style scoped>\n",
              "    .dataframe tbody tr th:only-of-type {\n",
              "        vertical-align: middle;\n",
              "    }\n",
              "\n",
              "    .dataframe tbody tr th {\n",
              "        vertical-align: top;\n",
              "    }\n",
              "\n",
              "    .dataframe thead th {\n",
              "        text-align: right;\n",
              "    }\n",
              "</style>\n",
              "<table border=\"1\" class=\"dataframe\">\n",
              "  <thead>\n",
              "    <tr style=\"text-align: right;\">\n",
              "      <th></th>\n",
              "      <th>Headline</th>\n",
              "      <th>Body ID</th>\n",
              "      <th>Stance</th>\n",
              "    </tr>\n",
              "  </thead>\n",
              "  <tbody>\n",
              "    <tr>\n",
              "      <th>0</th>\n",
              "      <td>Ferguson riots: Pregnant woman loses eye after...</td>\n",
              "      <td>2008</td>\n",
              "      <td>unrelated</td>\n",
              "    </tr>\n",
              "    <tr>\n",
              "      <th>1</th>\n",
              "      <td>Crazy Conservatives Are Sure a Gitmo Detainee ...</td>\n",
              "      <td>1550</td>\n",
              "      <td>unrelated</td>\n",
              "    </tr>\n",
              "    <tr>\n",
              "      <th>2</th>\n",
              "      <td>A Russian Guy Says His Justin Bieber Ringtone ...</td>\n",
              "      <td>2</td>\n",
              "      <td>unrelated</td>\n",
              "    </tr>\n",
              "    <tr>\n",
              "      <th>3</th>\n",
              "      <td>Zombie Cat: Buried Kitty Believed Dead, Meows ...</td>\n",
              "      <td>1793</td>\n",
              "      <td>unrelated</td>\n",
              "    </tr>\n",
              "    <tr>\n",
              "      <th>4</th>\n",
              "      <td>Argentina's President Adopts Boy to End Werewo...</td>\n",
              "      <td>37</td>\n",
              "      <td>unrelated</td>\n",
              "    </tr>\n",
              "  </tbody>\n",
              "</table>\n",
              "</div>"
            ],
            "text/plain": [
              "                                            Headline  Body ID     Stance\n",
              "0  Ferguson riots: Pregnant woman loses eye after...     2008  unrelated\n",
              "1  Crazy Conservatives Are Sure a Gitmo Detainee ...     1550  unrelated\n",
              "2  A Russian Guy Says His Justin Bieber Ringtone ...        2  unrelated\n",
              "3  Zombie Cat: Buried Kitty Believed Dead, Meows ...     1793  unrelated\n",
              "4  Argentina's President Adopts Boy to End Werewo...       37  unrelated"
            ]
          },
          "metadata": {
            "tags": []
          },
          "execution_count": 7
        }
      ]
    },
    {
      "cell_type": "code",
      "metadata": {
        "colab": {
          "base_uri": "https://localhost:8080/",
          "height": 204
        },
        "id": "hw6tMbQzL0Is",
        "outputId": "94dab9c8-23cb-45a0-9e9b-c8a353cc85df"
      },
      "source": [
        "df_test_merged = df_test_bodies.merge(df_test_stances, left_on='Body ID', right_on='Body ID')\n",
        "df_test_merged.rename(columns={'articleBody':'news', 'Headline':'headline', 'Stance':'tag'}, inplace=True)\n",
        "df_test = df_test_merged.drop(columns='Body ID')\n",
        "df_test.head()"
      ],
      "execution_count": null,
      "outputs": [
        {
          "output_type": "execute_result",
          "data": {
            "text/html": [
              "<div>\n",
              "<style scoped>\n",
              "    .dataframe tbody tr th:only-of-type {\n",
              "        vertical-align: middle;\n",
              "    }\n",
              "\n",
              "    .dataframe tbody tr th {\n",
              "        vertical-align: top;\n",
              "    }\n",
              "\n",
              "    .dataframe thead th {\n",
              "        text-align: right;\n",
              "    }\n",
              "</style>\n",
              "<table border=\"1\" class=\"dataframe\">\n",
              "  <thead>\n",
              "    <tr style=\"text-align: right;\">\n",
              "      <th></th>\n",
              "      <th>news</th>\n",
              "      <th>headline</th>\n",
              "      <th>tag</th>\n",
              "    </tr>\n",
              "  </thead>\n",
              "  <tbody>\n",
              "    <tr>\n",
              "      <th>0</th>\n",
              "      <td>Al-Sisi has denied Israeli reports stating tha...</td>\n",
              "      <td>Apple installing safes in-store to protect gol...</td>\n",
              "      <td>unrelated</td>\n",
              "    </tr>\n",
              "    <tr>\n",
              "      <th>1</th>\n",
              "      <td>Al-Sisi has denied Israeli reports stating tha...</td>\n",
              "      <td>El-Sisi denies claims he'll give Sinai land to...</td>\n",
              "      <td>agree</td>\n",
              "    </tr>\n",
              "    <tr>\n",
              "      <th>2</th>\n",
              "      <td>Al-Sisi has denied Israeli reports stating tha...</td>\n",
              "      <td>Apple to keep gold Watch Editions in special i...</td>\n",
              "      <td>unrelated</td>\n",
              "    </tr>\n",
              "    <tr>\n",
              "      <th>3</th>\n",
              "      <td>Al-Sisi has denied Israeli reports stating tha...</td>\n",
              "      <td>Apple Stores to Keep Gold “Edition” Apple Watc...</td>\n",
              "      <td>unrelated</td>\n",
              "    </tr>\n",
              "    <tr>\n",
              "      <th>4</th>\n",
              "      <td>Al-Sisi has denied Israeli reports stating tha...</td>\n",
              "      <td>South Korean woman's hair 'eaten' by robot vac...</td>\n",
              "      <td>unrelated</td>\n",
              "    </tr>\n",
              "  </tbody>\n",
              "</table>\n",
              "</div>"
            ],
            "text/plain": [
              "                                                news  ...        tag\n",
              "0  Al-Sisi has denied Israeli reports stating tha...  ...  unrelated\n",
              "1  Al-Sisi has denied Israeli reports stating tha...  ...      agree\n",
              "2  Al-Sisi has denied Israeli reports stating tha...  ...  unrelated\n",
              "3  Al-Sisi has denied Israeli reports stating tha...  ...  unrelated\n",
              "4  Al-Sisi has denied Israeli reports stating tha...  ...  unrelated\n",
              "\n",
              "[5 rows x 3 columns]"
            ]
          },
          "metadata": {
            "tags": []
          },
          "execution_count": 8
        }
      ]
    },
    {
      "cell_type": "markdown",
      "metadata": {
        "id": "igz23m0S44cw"
      },
      "source": [
        "## Text preprocessing"
      ]
    },
    {
      "cell_type": "code",
      "metadata": {
        "id": "mEgj7Vl7WmIB"
      },
      "source": [
        "stopwords = nltk.corpus.stopwords.words('english')\n",
        "#stopwords = [unidecode.unidecode(word) for word in stopwords]\n",
        "from nltk.stem import PorterStemmer \n",
        "stemmer = PorterStemmer()"
      ],
      "execution_count": null,
      "outputs": []
    },
    {
      "cell_type": "code",
      "metadata": {
        "id": "lsNN-e4AoZs3"
      },
      "source": [
        "def text_preprocess(text):\n",
        "  text = re.sub(r'\\s+', ' ', text) \n",
        "  text = unidecode.unidecode(text)\n",
        "  text = re.sub('[^a-zA-Z\\s]', '', text)\n",
        "  text = text.lower()\n",
        "\n",
        "  tokens = []\n",
        "  for token in nltk.word_tokenize(text):\n",
        "    tokens.append(token)\n",
        "      \n",
        "  tokens = [stemmer.stem(token) for token in tokens if token not in stopwords and token not in string.punctuation]\n",
        "  preprocessed_text = ' '.join([str(word) for word in tokens if not word.isdigit()])\n",
        "\n",
        "  return preprocessed_text"
      ],
      "execution_count": null,
      "outputs": []
    },
    {
      "cell_type": "code",
      "metadata": {
        "id": "sghirO75NdJi"
      },
      "source": [
        "df['news_preprocessed'] = df['news'].apply(text_preprocess)\n",
        "df['headline_preprocessed'] = df['headline'].apply(text_preprocess)\n",
        "df.drop(columns=['news', 'headline'], inplace=True)"
      ],
      "execution_count": null,
      "outputs": []
    },
    {
      "cell_type": "code",
      "metadata": {
        "id": "PANCpcwAN4ZQ"
      },
      "source": [
        "df_test['news_preprocessed'] = df_test['news'].apply(text_preprocess)\n",
        "df_test['headline_preprocessed'] = df_test['headline'].apply(text_preprocess)\n",
        "df_test.drop(columns=['news', 'headline'], inplace=True)"
      ],
      "execution_count": null,
      "outputs": []
    },
    {
      "cell_type": "code",
      "metadata": {
        "colab": {
          "base_uri": "https://localhost:8080/",
          "height": 204
        },
        "id": "46clD5KKEUCR",
        "outputId": "c7e6e856-3136-4ab7-8426-eb1d770d3f4d"
      },
      "source": [
        "df.head()"
      ],
      "execution_count": null,
      "outputs": [
        {
          "output_type": "execute_result",
          "data": {
            "text/html": [
              "<div>\n",
              "<style scoped>\n",
              "    .dataframe tbody tr th:only-of-type {\n",
              "        vertical-align: middle;\n",
              "    }\n",
              "\n",
              "    .dataframe tbody tr th {\n",
              "        vertical-align: top;\n",
              "    }\n",
              "\n",
              "    .dataframe thead th {\n",
              "        text-align: right;\n",
              "    }\n",
              "</style>\n",
              "<table border=\"1\" class=\"dataframe\">\n",
              "  <thead>\n",
              "    <tr style=\"text-align: right;\">\n",
              "      <th></th>\n",
              "      <th>tag</th>\n",
              "      <th>news_preprocessed</th>\n",
              "      <th>headline_preprocessed</th>\n",
              "    </tr>\n",
              "  </thead>\n",
              "  <tbody>\n",
              "    <tr>\n",
              "      <th>0</th>\n",
              "      <td>unrelated</td>\n",
              "      <td>small meteorit crash wood area nicaragua capit...</td>\n",
              "      <td>soldier shot parliament lock gunfir erupt war ...</td>\n",
              "    </tr>\n",
              "    <tr>\n",
              "      <th>1</th>\n",
              "      <td>unrelated</td>\n",
              "      <td>small meteorit crash wood area nicaragua capit...</td>\n",
              "      <td>tourist dub spider man spider burrow skin day</td>\n",
              "    </tr>\n",
              "    <tr>\n",
              "      <th>2</th>\n",
              "      <td>unrelated</td>\n",
              "      <td>small meteorit crash wood area nicaragua capit...</td>\n",
              "      <td>luke somer kill fail rescu attempt yemen</td>\n",
              "    </tr>\n",
              "    <tr>\n",
              "      <th>3</th>\n",
              "      <td>unrelated</td>\n",
              "      <td>small meteorit crash wood area nicaragua capit...</td>\n",
              "      <td>break soldier shot war memori ottawa</td>\n",
              "    </tr>\n",
              "    <tr>\n",
              "      <th>4</th>\n",
              "      <td>unrelated</td>\n",
              "      <td>small meteorit crash wood area nicaragua capit...</td>\n",
              "      <td>giant ft catfish weigh stone caught itali thou...</td>\n",
              "    </tr>\n",
              "  </tbody>\n",
              "</table>\n",
              "</div>"
            ],
            "text/plain": [
              "         tag  ...                              headline_preprocessed\n",
              "0  unrelated  ...  soldier shot parliament lock gunfir erupt war ...\n",
              "1  unrelated  ...      tourist dub spider man spider burrow skin day\n",
              "2  unrelated  ...           luke somer kill fail rescu attempt yemen\n",
              "3  unrelated  ...               break soldier shot war memori ottawa\n",
              "4  unrelated  ...  giant ft catfish weigh stone caught itali thou...\n",
              "\n",
              "[5 rows x 3 columns]"
            ]
          },
          "metadata": {
            "tags": []
          },
          "execution_count": 13
        }
      ]
    },
    {
      "cell_type": "code",
      "metadata": {
        "colab": {
          "base_uri": "https://localhost:8080/",
          "height": 204
        },
        "id": "ReGfmNznPFqM",
        "outputId": "f30d800e-7a2b-4e81-b17d-034368a0015f"
      },
      "source": [
        "df_test.head()"
      ],
      "execution_count": null,
      "outputs": [
        {
          "output_type": "execute_result",
          "data": {
            "text/html": [
              "<div>\n",
              "<style scoped>\n",
              "    .dataframe tbody tr th:only-of-type {\n",
              "        vertical-align: middle;\n",
              "    }\n",
              "\n",
              "    .dataframe tbody tr th {\n",
              "        vertical-align: top;\n",
              "    }\n",
              "\n",
              "    .dataframe thead th {\n",
              "        text-align: right;\n",
              "    }\n",
              "</style>\n",
              "<table border=\"1\" class=\"dataframe\">\n",
              "  <thead>\n",
              "    <tr style=\"text-align: right;\">\n",
              "      <th></th>\n",
              "      <th>tag</th>\n",
              "      <th>news_preprocessed</th>\n",
              "      <th>headline_preprocessed</th>\n",
              "    </tr>\n",
              "  </thead>\n",
              "  <tbody>\n",
              "    <tr>\n",
              "      <th>0</th>\n",
              "      <td>unrelated</td>\n",
              "      <td>alsisi deni isra report state offer extend gaz...</td>\n",
              "      <td>appl instal safe instor protect gold watch edit</td>\n",
              "    </tr>\n",
              "    <tr>\n",
              "      <th>1</th>\n",
              "      <td>agree</td>\n",
              "      <td>alsisi deni isra report state offer extend gaz...</td>\n",
              "      <td>elsisi deni claim hell give sinai land palesti...</td>\n",
              "    </tr>\n",
              "    <tr>\n",
              "      <th>2</th>\n",
              "      <td>unrelated</td>\n",
              "      <td>alsisi deni isra report state offer extend gaz...</td>\n",
              "      <td>appl keep gold watch edit special instor safe</td>\n",
              "    </tr>\n",
              "    <tr>\n",
              "      <th>3</th>\n",
              "      <td>unrelated</td>\n",
              "      <td>alsisi deni isra report state offer extend gaz...</td>\n",
              "      <td>appl store keep gold edit appl watch custom safe</td>\n",
              "    </tr>\n",
              "    <tr>\n",
              "      <th>4</th>\n",
              "      <td>unrelated</td>\n",
              "      <td>alsisi deni isra report state offer extend gaz...</td>\n",
              "      <td>south korean woman hair eaten robot vacuum cle...</td>\n",
              "    </tr>\n",
              "  </tbody>\n",
              "</table>\n",
              "</div>"
            ],
            "text/plain": [
              "         tag  ...                              headline_preprocessed\n",
              "0  unrelated  ...    appl instal safe instor protect gold watch edit\n",
              "1      agree  ...  elsisi deni claim hell give sinai land palesti...\n",
              "2  unrelated  ...      appl keep gold watch edit special instor safe\n",
              "3  unrelated  ...   appl store keep gold edit appl watch custom safe\n",
              "4  unrelated  ...  south korean woman hair eaten robot vacuum cle...\n",
              "\n",
              "[5 rows x 3 columns]"
            ]
          },
          "metadata": {
            "tags": []
          },
          "execution_count": 14
        }
      ]
    },
    {
      "cell_type": "markdown",
      "metadata": {
        "id": "MYHTppaa5Dpl"
      },
      "source": [
        "## Cosine similarity feature extraction"
      ]
    },
    {
      "cell_type": "code",
      "metadata": {
        "id": "qstE4uXE1HMY"
      },
      "source": [
        "vectorizer_for_cos_sim = TfidfVectorizer(ngram_range=(1,2), lowercase=True, stop_words=stopwords)"
      ],
      "execution_count": null,
      "outputs": []
    },
    {
      "cell_type": "code",
      "metadata": {
        "id": "oijQO1WQA5C3"
      },
      "source": [
        "def cos_sim_extractor(news_headline_df):\n",
        "  news_and_headline = []\n",
        "  news_and_headline.append(news_headline_df['news_preprocessed'])\n",
        "  news_and_headline.append(news_headline_df['headline_preprocessed'])\n",
        "  tfidf = vectorizer_for_cos_sim.fit_transform(news_and_headline)\n",
        "  cosine_similarity_news_headline = (tfidf * tfidf.T).A\n",
        "  return cosine_similarity_news_headline[0][1]"
      ],
      "execution_count": null,
      "outputs": []
    },
    {
      "cell_type": "code",
      "metadata": {
        "id": "x6ZR4GZ9BO87"
      },
      "source": [
        "df['cosine_similarity_value'] = df.apply(cos_sim_extractor, axis=1)"
      ],
      "execution_count": null,
      "outputs": []
    },
    {
      "cell_type": "code",
      "metadata": {
        "id": "jsconfqKPP63"
      },
      "source": [
        "df_test['cosine_similarity_value'] = df_test.apply(cos_sim_extractor, axis=1)"
      ],
      "execution_count": null,
      "outputs": []
    },
    {
      "cell_type": "markdown",
      "metadata": {
        "id": "mrAqPsvu-Lv3"
      },
      "source": [
        "## Word superposition feature extraction"
      ]
    },
    {
      "cell_type": "code",
      "metadata": {
        "id": "cSrx-bqVKvk8"
      },
      "source": [
        "def superposition_counter(df_x_train):\n",
        "  news = set(df_x_train['news_preprocessed'].split(' '))\n",
        "  headline = set(df_x_train['headline_preprocessed'].split(' '))\n",
        "  superposition = len((news).intersection(headline)) / float(len(news.union(headline)))  \n",
        "  return superposition"
      ],
      "execution_count": null,
      "outputs": []
    },
    {
      "cell_type": "code",
      "metadata": {
        "id": "M4HoSBgTJqM4"
      },
      "source": [
        "df['superposition'] = df.apply(superposition_counter, axis=1)"
      ],
      "execution_count": null,
      "outputs": []
    },
    {
      "cell_type": "code",
      "metadata": {
        "id": "Rk-_b7a-QBNs"
      },
      "source": [
        "df_test['superposition'] = df_test.apply(superposition_counter, axis=1)"
      ],
      "execution_count": null,
      "outputs": []
    },
    {
      "cell_type": "markdown",
      "metadata": {
        "id": "FjcOEDyF_Ilk"
      },
      "source": [
        "## Train test split"
      ]
    },
    {
      "cell_type": "code",
      "metadata": {
        "colab": {
          "base_uri": "https://localhost:8080/"
        },
        "id": "VrkkVNYn4tWr",
        "outputId": "2c5162d5-f868-4354-d899-5c88b6f68797"
      },
      "source": [
        "df.tag.value_counts()"
      ],
      "execution_count": null,
      "outputs": [
        {
          "output_type": "execute_result",
          "data": {
            "text/plain": [
              "unrelated    36545\n",
              "discuss       8909\n",
              "agree         3678\n",
              "disagree       840\n",
              "Name: tag, dtype: int64"
            ]
          },
          "metadata": {
            "tags": []
          },
          "execution_count": 22
        }
      ]
    },
    {
      "cell_type": "code",
      "metadata": {
        "id": "Y8_bvW0j5O3x"
      },
      "source": [
        "count_unrelated, count_discuss, count_agree, count_disagree = df.tag.value_counts()"
      ],
      "execution_count": null,
      "outputs": []
    },
    {
      "cell_type": "code",
      "metadata": {
        "id": "aPpnZTsa5nZh"
      },
      "source": [
        "df_unrelated = df[df['tag'] == 'unrelated']\n",
        "df_discuss = df[df['tag'] == 'discuss']\n",
        "df_agree = df[df['tag'] == 'agree']\n",
        "df_disagree = df[df['tag'] == 'disagree']"
      ],
      "execution_count": null,
      "outputs": []
    },
    {
      "cell_type": "code",
      "metadata": {
        "colab": {
          "base_uri": "https://localhost:8080/"
        },
        "id": "eo0U6meq9pUf",
        "outputId": "dfb80770-1ecb-425a-a4bf-91a93b17d01d"
      },
      "source": [
        "df_discuss_over = df_discuss.sample(count_unrelated, replace=True)\n",
        "df_agree_over = df_agree.sample(count_unrelated, replace=True)\n",
        "df_disagree_over = df_disagree.sample(count_unrelated, replace=True)\n",
        "\n",
        "df_over = pd.concat([df_unrelated, df_discuss_over, df_agree_over, df_disagree_over], axis=0)\n",
        "\n",
        "print('Random oversampling:')\n",
        "print(df_over.tag.value_counts())"
      ],
      "execution_count": null,
      "outputs": [
        {
          "output_type": "stream",
          "text": [
            "Random oversampling:\n",
            "discuss      36545\n",
            "disagree     36545\n",
            "agree        36545\n",
            "unrelated    36545\n",
            "Name: tag, dtype: int64\n"
          ],
          "name": "stdout"
        }
      ]
    },
    {
      "cell_type": "code",
      "metadata": {
        "colab": {
          "base_uri": "https://localhost:8080/",
          "height": 359
        },
        "id": "LPbJYLiH_LsB",
        "outputId": "d7e981d5-076f-4772-9ac4-05a5144cb02a"
      },
      "source": [
        "df_over.sample(10)"
      ],
      "execution_count": null,
      "outputs": [
        {
          "output_type": "execute_result",
          "data": {
            "text/html": [
              "<div>\n",
              "<style scoped>\n",
              "    .dataframe tbody tr th:only-of-type {\n",
              "        vertical-align: middle;\n",
              "    }\n",
              "\n",
              "    .dataframe tbody tr th {\n",
              "        vertical-align: top;\n",
              "    }\n",
              "\n",
              "    .dataframe thead th {\n",
              "        text-align: right;\n",
              "    }\n",
              "</style>\n",
              "<table border=\"1\" class=\"dataframe\">\n",
              "  <thead>\n",
              "    <tr style=\"text-align: right;\">\n",
              "      <th></th>\n",
              "      <th>tag</th>\n",
              "      <th>news_preprocessed</th>\n",
              "      <th>headline_preprocessed</th>\n",
              "      <th>cosine_similarity_value</th>\n",
              "      <th>superposition</th>\n",
              "    </tr>\n",
              "  </thead>\n",
              "  <tbody>\n",
              "    <tr>\n",
              "      <th>34221</th>\n",
              "      <td>discuss</td>\n",
              "      <td>man behind ottawa shoot canadian convert islam...</td>\n",
              "      <td>updat soldier gunman die ottawa rampag identifi</td>\n",
              "      <td>0.052635</td>\n",
              "      <td>0.027586</td>\n",
              "    </tr>\n",
              "    <tr>\n",
              "      <th>19207</th>\n",
              "      <td>discuss</td>\n",
              "      <td>seth rogen set star steve wozniak opposit chri...</td>\n",
              "      <td>seth rogen star steve wozniak soni steve job b...</td>\n",
              "      <td>0.265452</td>\n",
              "      <td>0.067227</td>\n",
              "    </tr>\n",
              "    <tr>\n",
              "      <th>9252</th>\n",
              "      <td>unrelated</td>\n",
              "      <td>woman claim olymp swimmer michael phelp girlfr...</td>\n",
              "      <td>isi milit allegedli contract ebola</td>\n",
              "      <td>0.008289</td>\n",
              "      <td>0.008850</td>\n",
              "    </tr>\n",
              "    <tr>\n",
              "      <th>23872</th>\n",
              "      <td>agree</td>\n",
              "      <td>rachel martin speak carol leonnig washington p...</td>\n",
              "      <td>white hous fenc jumper push past femal guard</td>\n",
              "      <td>0.145837</td>\n",
              "      <td>0.166667</td>\n",
              "    </tr>\n",
              "    <tr>\n",
              "      <th>33688</th>\n",
              "      <td>disagree</td>\n",
              "      <td>christian bale star steve job aaron sorkin upc...</td>\n",
              "      <td>batman set play steve job upcom biopic</td>\n",
              "      <td>0.249992</td>\n",
              "      <td>0.086957</td>\n",
              "    </tr>\n",
              "    <tr>\n",
              "      <th>18904</th>\n",
              "      <td>unrelated</td>\n",
              "      <td>pentagon investig claim admit one load miss wo...</td>\n",
              "      <td>isi behead us journalist jame foley post youtub</td>\n",
              "      <td>0.047891</td>\n",
              "      <td>0.009709</td>\n",
              "    </tr>\n",
              "    <tr>\n",
              "      <th>13923</th>\n",
              "      <td>unrelated</td>\n",
              "      <td>suresh kumar set upon local indian citi gangan...</td>\n",
              "      <td>christian bale talk play steve job danni boyl ...</td>\n",
              "      <td>0.000000</td>\n",
              "      <td>0.000000</td>\n",
              "    </tr>\n",
              "    <tr>\n",
              "      <th>31478</th>\n",
              "      <td>discuss</td>\n",
              "      <td>design first wearabl devic appl watch appl loo...</td>\n",
              "      <td>appl forc nix key health featur smartwatch report</td>\n",
              "      <td>0.101844</td>\n",
              "      <td>0.024155</td>\n",
              "    </tr>\n",
              "    <tr>\n",
              "      <th>43165</th>\n",
              "      <td>discuss</td>\n",
              "      <td>fbi allegedli interview man whose video chat f...</td>\n",
              "      <td>video messag app say audio record michael brow...</td>\n",
              "      <td>0.126511</td>\n",
              "      <td>0.055046</td>\n",
              "    </tr>\n",
              "    <tr>\n",
              "      <th>47727</th>\n",
              "      <td>unrelated</td>\n",
              "      <td>two nation lead expert use deadli forc polic w...</td>\n",
              "      <td>wild misinform brian william explain mike seid...</td>\n",
              "      <td>0.002520</td>\n",
              "      <td>0.002950</td>\n",
              "    </tr>\n",
              "  </tbody>\n",
              "</table>\n",
              "</div>"
            ],
            "text/plain": [
              "             tag  ... superposition\n",
              "34221    discuss  ...      0.027586\n",
              "19207    discuss  ...      0.067227\n",
              "9252   unrelated  ...      0.008850\n",
              "23872      agree  ...      0.166667\n",
              "33688   disagree  ...      0.086957\n",
              "18904  unrelated  ...      0.009709\n",
              "13923  unrelated  ...      0.000000\n",
              "31478    discuss  ...      0.024155\n",
              "43165    discuss  ...      0.055046\n",
              "47727  unrelated  ...      0.002950\n",
              "\n",
              "[10 rows x 5 columns]"
            ]
          },
          "metadata": {
            "tags": []
          },
          "execution_count": 26
        }
      ]
    },
    {
      "cell_type": "code",
      "metadata": {
        "id": "b9Gli4phK4uG"
      },
      "source": [
        "X_train = df_over.drop(columns=['tag'])\n",
        "y_train = df_over['tag']"
      ],
      "execution_count": null,
      "outputs": []
    },
    {
      "cell_type": "code",
      "metadata": {
        "colab": {
          "base_uri": "https://localhost:8080/"
        },
        "id": "slm_QSyts9Jb",
        "outputId": "e149aa25-1645-415d-ca21-3d346bb60922"
      },
      "source": [
        "y_train.value_counts()"
      ],
      "execution_count": null,
      "outputs": [
        {
          "output_type": "execute_result",
          "data": {
            "text/plain": [
              "discuss      36545\n",
              "disagree     36545\n",
              "agree        36545\n",
              "unrelated    36545\n",
              "Name: tag, dtype: int64"
            ]
          },
          "metadata": {
            "tags": []
          },
          "execution_count": 28
        }
      ]
    },
    {
      "cell_type": "code",
      "metadata": {
        "colab": {
          "base_uri": "https://localhost:8080/",
          "height": 204
        },
        "id": "M4k1Lqs6Qr3M",
        "outputId": "41626c96-c381-42fd-ddba-d7409de3d08f"
      },
      "source": [
        "X_train.head()"
      ],
      "execution_count": null,
      "outputs": [
        {
          "output_type": "execute_result",
          "data": {
            "text/html": [
              "<div>\n",
              "<style scoped>\n",
              "    .dataframe tbody tr th:only-of-type {\n",
              "        vertical-align: middle;\n",
              "    }\n",
              "\n",
              "    .dataframe tbody tr th {\n",
              "        vertical-align: top;\n",
              "    }\n",
              "\n",
              "    .dataframe thead th {\n",
              "        text-align: right;\n",
              "    }\n",
              "</style>\n",
              "<table border=\"1\" class=\"dataframe\">\n",
              "  <thead>\n",
              "    <tr style=\"text-align: right;\">\n",
              "      <th></th>\n",
              "      <th>news_preprocessed</th>\n",
              "      <th>headline_preprocessed</th>\n",
              "      <th>cosine_similarity_value</th>\n",
              "      <th>superposition</th>\n",
              "    </tr>\n",
              "  </thead>\n",
              "  <tbody>\n",
              "    <tr>\n",
              "      <th>0</th>\n",
              "      <td>small meteorit crash wood area nicaragua capit...</td>\n",
              "      <td>soldier shot parliament lock gunfir erupt war ...</td>\n",
              "      <td>0.000000</td>\n",
              "      <td>0.000000</td>\n",
              "    </tr>\n",
              "    <tr>\n",
              "      <th>1</th>\n",
              "      <td>small meteorit crash wood area nicaragua capit...</td>\n",
              "      <td>tourist dub spider man spider burrow skin day</td>\n",
              "      <td>0.000000</td>\n",
              "      <td>0.000000</td>\n",
              "    </tr>\n",
              "    <tr>\n",
              "      <th>2</th>\n",
              "      <td>small meteorit crash wood area nicaragua capit...</td>\n",
              "      <td>luke somer kill fail rescu attempt yemen</td>\n",
              "      <td>0.000000</td>\n",
              "      <td>0.000000</td>\n",
              "    </tr>\n",
              "    <tr>\n",
              "      <th>3</th>\n",
              "      <td>small meteorit crash wood area nicaragua capit...</td>\n",
              "      <td>break soldier shot war memori ottawa</td>\n",
              "      <td>0.000000</td>\n",
              "      <td>0.000000</td>\n",
              "    </tr>\n",
              "    <tr>\n",
              "      <th>4</th>\n",
              "      <td>small meteorit crash wood area nicaragua capit...</td>\n",
              "      <td>giant ft catfish weigh stone caught itali thou...</td>\n",
              "      <td>0.004274</td>\n",
              "      <td>0.007353</td>\n",
              "    </tr>\n",
              "  </tbody>\n",
              "</table>\n",
              "</div>"
            ],
            "text/plain": [
              "                                   news_preprocessed  ... superposition\n",
              "0  small meteorit crash wood area nicaragua capit...  ...      0.000000\n",
              "1  small meteorit crash wood area nicaragua capit...  ...      0.000000\n",
              "2  small meteorit crash wood area nicaragua capit...  ...      0.000000\n",
              "3  small meteorit crash wood area nicaragua capit...  ...      0.000000\n",
              "4  small meteorit crash wood area nicaragua capit...  ...      0.007353\n",
              "\n",
              "[5 rows x 4 columns]"
            ]
          },
          "metadata": {
            "tags": []
          },
          "execution_count": 29
        }
      ]
    },
    {
      "cell_type": "code",
      "metadata": {
        "id": "aXEKTBJ0Q8Mg"
      },
      "source": [
        "X_test = df_test.drop(columns=['tag'])\n",
        "y_test = df_test['tag']"
      ],
      "execution_count": null,
      "outputs": []
    },
    {
      "cell_type": "code",
      "metadata": {
        "colab": {
          "base_uri": "https://localhost:8080/"
        },
        "id": "WDeVXSerR3gF",
        "outputId": "9d251ad1-3eb9-4b38-c585-fdffed645c56"
      },
      "source": [
        "y_test.value_counts()"
      ],
      "execution_count": null,
      "outputs": [
        {
          "output_type": "execute_result",
          "data": {
            "text/plain": [
              "unrelated    18349\n",
              "discuss       4464\n",
              "agree         1903\n",
              "disagree       697\n",
              "Name: tag, dtype: int64"
            ]
          },
          "metadata": {
            "tags": []
          },
          "execution_count": 31
        }
      ]
    },
    {
      "cell_type": "code",
      "metadata": {
        "colab": {
          "base_uri": "https://localhost:8080/",
          "height": 204
        },
        "id": "t3RZZ2nuR719",
        "outputId": "8d1e26a8-d2ec-431d-8b51-bda9d55847c3"
      },
      "source": [
        "X_test.head()"
      ],
      "execution_count": null,
      "outputs": [
        {
          "output_type": "execute_result",
          "data": {
            "text/html": [
              "<div>\n",
              "<style scoped>\n",
              "    .dataframe tbody tr th:only-of-type {\n",
              "        vertical-align: middle;\n",
              "    }\n",
              "\n",
              "    .dataframe tbody tr th {\n",
              "        vertical-align: top;\n",
              "    }\n",
              "\n",
              "    .dataframe thead th {\n",
              "        text-align: right;\n",
              "    }\n",
              "</style>\n",
              "<table border=\"1\" class=\"dataframe\">\n",
              "  <thead>\n",
              "    <tr style=\"text-align: right;\">\n",
              "      <th></th>\n",
              "      <th>news_preprocessed</th>\n",
              "      <th>headline_preprocessed</th>\n",
              "      <th>cosine_similarity_value</th>\n",
              "      <th>superposition</th>\n",
              "    </tr>\n",
              "  </thead>\n",
              "  <tbody>\n",
              "    <tr>\n",
              "      <th>0</th>\n",
              "      <td>alsisi deni isra report state offer extend gaz...</td>\n",
              "      <td>appl instal safe instor protect gold watch edit</td>\n",
              "      <td>0.000000</td>\n",
              "      <td>0.0000</td>\n",
              "    </tr>\n",
              "    <tr>\n",
              "      <th>1</th>\n",
              "      <td>alsisi deni isra report state offer extend gaz...</td>\n",
              "      <td>elsisi deni claim hell give sinai land palesti...</td>\n",
              "      <td>0.032716</td>\n",
              "      <td>0.0625</td>\n",
              "    </tr>\n",
              "    <tr>\n",
              "      <th>2</th>\n",
              "      <td>alsisi deni isra report state offer extend gaz...</td>\n",
              "      <td>appl keep gold watch edit special instor safe</td>\n",
              "      <td>0.000000</td>\n",
              "      <td>0.0000</td>\n",
              "    </tr>\n",
              "    <tr>\n",
              "      <th>3</th>\n",
              "      <td>alsisi deni isra report state offer extend gaz...</td>\n",
              "      <td>appl store keep gold edit appl watch custom safe</td>\n",
              "      <td>0.000000</td>\n",
              "      <td>0.0000</td>\n",
              "    </tr>\n",
              "    <tr>\n",
              "      <th>4</th>\n",
              "      <td>alsisi deni isra report state offer extend gaz...</td>\n",
              "      <td>south korean woman hair eaten robot vacuum cle...</td>\n",
              "      <td>0.000000</td>\n",
              "      <td>0.0000</td>\n",
              "    </tr>\n",
              "  </tbody>\n",
              "</table>\n",
              "</div>"
            ],
            "text/plain": [
              "                                   news_preprocessed  ... superposition\n",
              "0  alsisi deni isra report state offer extend gaz...  ...        0.0000\n",
              "1  alsisi deni isra report state offer extend gaz...  ...        0.0625\n",
              "2  alsisi deni isra report state offer extend gaz...  ...        0.0000\n",
              "3  alsisi deni isra report state offer extend gaz...  ...        0.0000\n",
              "4  alsisi deni isra report state offer extend gaz...  ...        0.0000\n",
              "\n",
              "[5 rows x 4 columns]"
            ]
          },
          "metadata": {
            "tags": []
          },
          "execution_count": 32
        }
      ]
    },
    {
      "cell_type": "code",
      "metadata": {
        "id": "ofB5ZX3wLyIw"
      },
      "source": [
        "#X_train, X_test, y_train, y_test = train_test_split(X, y, test_size=0.3, random_state=42)"
      ],
      "execution_count": null,
      "outputs": []
    },
    {
      "cell_type": "markdown",
      "metadata": {
        "id": "a_FZ_8Hw_w_6"
      },
      "source": [
        "## TF-IDF feature extraction from Training and Test sets"
      ]
    },
    {
      "cell_type": "code",
      "metadata": {
        "id": "Pgn2olpzh-t2"
      },
      "source": [
        "news_vectorizer = TfidfVectorizer(ngram_range=(1, 2), lowercase=True, stop_words=stopwords)\n",
        "train_news_tfidf = news_vectorizer.fit_transform(X_train['news_preprocessed'])\n",
        "test_news_tfidf = news_vectorizer.transform(X_test['news_preprocessed'])\n",
        "\n",
        "headline_vectorizer = TfidfVectorizer(ngram_range=(1, 2), lowercase=True, stop_words=stopwords)\n",
        "train_headline_tfidf = headline_vectorizer.fit_transform(X_train['headline_preprocessed'])\n",
        "test_headline_tfidf = headline_vectorizer.transform(X_test['headline_preprocessed'])"
      ],
      "execution_count": null,
      "outputs": []
    },
    {
      "cell_type": "code",
      "metadata": {
        "id": "HW3Cbfd2seCK"
      },
      "source": [
        ""
      ],
      "execution_count": null,
      "outputs": []
    },
    {
      "cell_type": "code",
      "metadata": {
        "colab": {
          "base_uri": "https://localhost:8080/"
        },
        "id": "Iq7tN2E7tcLy",
        "outputId": "0b715f31-0cc5-4b03-bb64-09e52df61a26"
      },
      "source": [
        "tfidf_news_len = news_vectorizer.get_feature_names()\n",
        "tfidf_headline_len = headline_vectorizer.get_feature_names()\n",
        "print('number of news ti-idf tokens: ' + str(len(tfidf_news_len)) + '\\nnumber of headline ti-idf tokens: ' + str(len(tfidf_headline_len)))"
      ],
      "execution_count": null,
      "outputs": [
        {
          "output_type": "stream",
          "text": [
            "number of news ti-idf tokens: 216471\n",
            "number of headline ti-idf tokens: 10392\n"
          ],
          "name": "stdout"
        }
      ]
    },
    {
      "cell_type": "code",
      "metadata": {
        "colab": {
          "base_uri": "https://localhost:8080/"
        },
        "id": "UnasoYLAgEeC",
        "outputId": "87e2b961-0b73-45e3-c227-6400f20683b5"
      },
      "source": [
        "feature_names = np.array(tfidf_news_len)\n",
        "sorted_by_idf = np.argsort(news_vectorizer.idf_)\n",
        "print(\"Features with highest idf:\\n{}\\n\".format(feature_names[sorted_by_idf[-10:]]))\n",
        "print(\"Features with lowest idf:\\n{}\".format(feature_names[sorted_by_idf[:10]]))"
      ],
      "execution_count": null,
      "outputs": [
        {
          "output_type": "stream",
          "text": [
            "Features with highest idf:\n",
            "['crank furthermor' 'place volum' 'made intern' 'son rais' 'memori much'\n",
            " 'lock around' 'give newborn' 'sinc bendgat' 'issu one' 'devic ident']\n",
            "\n",
            "Features with lowest idf:\n",
            "['said' 'report' 'one' 'say' 'also' 'told' 'time' 'peopl' 'would' 'like']\n"
          ],
          "name": "stdout"
        }
      ]
    },
    {
      "cell_type": "markdown",
      "metadata": {
        "id": "0qUnGBgrDllL"
      },
      "source": [
        "## Adjusting data for ML input"
      ]
    },
    {
      "cell_type": "code",
      "metadata": {
        "id": "zNpbdlMIBQAs"
      },
      "source": [
        "training_superposition = scipy.sparse.coo_matrix(X_train.superposition.values)\n",
        "test_superposition = scipy.sparse.coo_matrix(X_test.superposition.values)\n",
        "training_cos_sim = scipy.sparse.coo_matrix(X_train.cosine_similarity_value.values)\n",
        "test_cos_sim = scipy.sparse.coo_matrix(X_test.cosine_similarity_value.values)\n",
        "\n",
        "training_tfidf = scipy.sparse.hstack([train_news_tfidf, train_headline_tfidf])\n",
        "test_tfidf = scipy.sparse.hstack([test_news_tfidf, test_headline_tfidf])\n",
        "\n",
        "training_features = scipy.sparse.bmat([[training_tfidf, training_cos_sim.T, training_superposition.T]])\n",
        "test_features = scipy.sparse.bmat([[test_tfidf, test_cos_sim.T, test_superposition.T]])\n",
        "\n",
        "#training_features = scipy.sparse.bmat([[training_tfidf, training_cos_sim.T]])\n",
        "#test_features = scipy.sparse.bmat([[test_tfidf, test_cos_sim.T]])"
      ],
      "execution_count": null,
      "outputs": []
    },
    {
      "cell_type": "code",
      "metadata": {
        "id": "KWBwN72STLKy"
      },
      "source": [
        "df_X_train = X_train.drop(columns=['news_preprocessed', 'headline_preprocessed'])"
      ],
      "execution_count": null,
      "outputs": []
    },
    {
      "cell_type": "code",
      "metadata": {
        "id": "g1pGewZYQxUq"
      },
      "source": [
        "#training_features_normalized = preprocessing.normalize(training_features)"
      ],
      "execution_count": null,
      "outputs": []
    },
    {
      "cell_type": "code",
      "metadata": {
        "id": "HCagaHYCREqo"
      },
      "source": [
        "#test_features_normalized = preprocessing.normalize(test_features)"
      ],
      "execution_count": null,
      "outputs": []
    },
    {
      "cell_type": "code",
      "metadata": {
        "id": "IPqsRUMeUSWd"
      },
      "source": [
        "df_X_test = X_test.drop(columns=['news_preprocessed', 'headline_preprocessed'])"
      ],
      "execution_count": null,
      "outputs": []
    },
    {
      "cell_type": "markdown",
      "metadata": {
        "id": "bBxduCkfDy7X"
      },
      "source": [
        "### Logistic Regression (cosine similarity and word superposition)"
      ]
    },
    {
      "cell_type": "markdown",
      "metadata": {
        "id": "wBMt5lzIcP66"
      },
      "source": [
        "Tunning Hyperparameters"
      ]
    },
    {
      "cell_type": "code",
      "metadata": {
        "id": "mfQ9ytx0oeY8"
      },
      "source": [
        "logistic_regression_clf = LogisticRegression(max_iter=1024)"
      ],
      "execution_count": null,
      "outputs": []
    },
    {
      "cell_type": "code",
      "metadata": {
        "id": "Hru-FK8zo0Oi"
      },
      "source": [
        "param_dist_lr = {'penalty' : ['l1', 'l2'],\n",
        "              'C' : np.logspace(-4, 4, 20),\n",
        "              'solver' : ['liblinear']}"
      ],
      "execution_count": null,
      "outputs": []
    },
    {
      "cell_type": "code",
      "metadata": {
        "id": "9GDwSArMsv5F"
      },
      "source": [
        "scorer = make_scorer(accuracy_score)"
      ],
      "execution_count": null,
      "outputs": []
    },
    {
      "cell_type": "code",
      "metadata": {
        "id": "yELNSOVyoO4S"
      },
      "source": [
        "random_search_lr =\\\n",
        "    RandomizedSearchCV(\n",
        "        estimator=logistic_regression_clf,\n",
        "        param_distributions=param_dist_lr,        \n",
        "        cv=5,\n",
        "        scoring=scorer)"
      ],
      "execution_count": null,
      "outputs": []
    },
    {
      "cell_type": "code",
      "metadata": {
        "id": "Xhn0omo9qjKO"
      },
      "source": [
        "#rs_logistic_regression_clf = random_search_lr.fit(df_X_train, y_train)"
      ],
      "execution_count": null,
      "outputs": []
    },
    {
      "cell_type": "code",
      "metadata": {
        "id": "HRT3Q8JUKtzA"
      },
      "source": [
        "#dump(rs_logistic_regression_clf, '/content/drive/MyDrive/Colab Notebooks/Stance Detection definitive edition FNC dataset v3 (random oversample)/rs_logistic_regression_clf_2021_07_27.joblib')\n",
        "rs_logistic_regression_clf = load('/content/drive/MyDrive/Colab Notebooks/Stance Detection definitive edition FNC dataset v3 (random oversample)/rs_logistic_regression_clf_2021_07_27.joblib')"
      ],
      "execution_count": null,
      "outputs": []
    },
    {
      "cell_type": "code",
      "metadata": {
        "colab": {
          "base_uri": "https://localhost:8080/",
          "height": 306
        },
        "id": "jUPuSRl-Ope-",
        "outputId": "088bde8d-2256-42bf-8feb-b38d30879218"
      },
      "source": [
        "cross_val_score(estimator=rs_logistic_regression_clf, X=df_X_test, y=y_test, cv=5)"
      ],
      "execution_count": null,
      "outputs": [
        {
          "output_type": "error",
          "ename": "KeyboardInterrupt",
          "evalue": "ignored",
          "traceback": [
            "\u001b[0;31m---------------------------------------------------------------------------\u001b[0m",
            "\u001b[0;31mKeyboardInterrupt\u001b[0m                         Traceback (most recent call last)",
            "\u001b[0;32m<ipython-input-40-73f91a223343>\u001b[0m in \u001b[0;36m<module>\u001b[0;34m()\u001b[0m\n\u001b[0;32m----> 1\u001b[0;31m \u001b[0mcross_val_score\u001b[0m\u001b[0;34m(\u001b[0m\u001b[0mestimator\u001b[0m\u001b[0;34m=\u001b[0m\u001b[0mrs_logistic_regression_clf\u001b[0m\u001b[0;34m,\u001b[0m \u001b[0mX\u001b[0m\u001b[0;34m=\u001b[0m\u001b[0mdf_X_test\u001b[0m\u001b[0;34m,\u001b[0m \u001b[0my\u001b[0m\u001b[0;34m=\u001b[0m\u001b[0my_test\u001b[0m\u001b[0;34m,\u001b[0m \u001b[0mcv\u001b[0m\u001b[0;34m=\u001b[0m\u001b[0;36m5\u001b[0m\u001b[0;34m)\u001b[0m\u001b[0;34m\u001b[0m\u001b[0;34m\u001b[0m\u001b[0m\n\u001b[0m",
            "\u001b[0;32m/usr/local/lib/python3.7/dist-packages/sklearn/model_selection/_validation.py\u001b[0m in \u001b[0;36mcross_val_score\u001b[0;34m(estimator, X, y, groups, scoring, cv, n_jobs, verbose, fit_params, pre_dispatch, error_score)\u001b[0m\n\u001b[1;32m    388\u001b[0m                                 \u001b[0mfit_params\u001b[0m\u001b[0;34m=\u001b[0m\u001b[0mfit_params\u001b[0m\u001b[0;34m,\u001b[0m\u001b[0;34m\u001b[0m\u001b[0;34m\u001b[0m\u001b[0m\n\u001b[1;32m    389\u001b[0m                                 \u001b[0mpre_dispatch\u001b[0m\u001b[0;34m=\u001b[0m\u001b[0mpre_dispatch\u001b[0m\u001b[0;34m,\u001b[0m\u001b[0;34m\u001b[0m\u001b[0;34m\u001b[0m\u001b[0m\n\u001b[0;32m--> 390\u001b[0;31m                                 error_score=error_score)\n\u001b[0m\u001b[1;32m    391\u001b[0m     \u001b[0;32mreturn\u001b[0m \u001b[0mcv_results\u001b[0m\u001b[0;34m[\u001b[0m\u001b[0;34m'test_score'\u001b[0m\u001b[0;34m]\u001b[0m\u001b[0;34m\u001b[0m\u001b[0;34m\u001b[0m\u001b[0m\n\u001b[1;32m    392\u001b[0m \u001b[0;34m\u001b[0m\u001b[0m\n",
            "\u001b[0;32m/usr/local/lib/python3.7/dist-packages/sklearn/model_selection/_validation.py\u001b[0m in \u001b[0;36mcross_validate\u001b[0;34m(estimator, X, y, groups, scoring, cv, n_jobs, verbose, fit_params, pre_dispatch, return_train_score, return_estimator, error_score)\u001b[0m\n\u001b[1;32m    234\u001b[0m             \u001b[0mreturn_times\u001b[0m\u001b[0;34m=\u001b[0m\u001b[0;32mTrue\u001b[0m\u001b[0;34m,\u001b[0m \u001b[0mreturn_estimator\u001b[0m\u001b[0;34m=\u001b[0m\u001b[0mreturn_estimator\u001b[0m\u001b[0;34m,\u001b[0m\u001b[0;34m\u001b[0m\u001b[0;34m\u001b[0m\u001b[0m\n\u001b[1;32m    235\u001b[0m             error_score=error_score)\n\u001b[0;32m--> 236\u001b[0;31m         for train, test in cv.split(X, y, groups))\n\u001b[0m\u001b[1;32m    237\u001b[0m \u001b[0;34m\u001b[0m\u001b[0m\n\u001b[1;32m    238\u001b[0m     \u001b[0mzipped_scores\u001b[0m \u001b[0;34m=\u001b[0m \u001b[0mlist\u001b[0m\u001b[0;34m(\u001b[0m\u001b[0mzip\u001b[0m\u001b[0;34m(\u001b[0m\u001b[0;34m*\u001b[0m\u001b[0mscores\u001b[0m\u001b[0;34m)\u001b[0m\u001b[0;34m)\u001b[0m\u001b[0;34m\u001b[0m\u001b[0;34m\u001b[0m\u001b[0m\n",
            "\u001b[0;32m/usr/local/lib/python3.7/dist-packages/joblib/parallel.py\u001b[0m in \u001b[0;36m__call__\u001b[0;34m(self, iterable)\u001b[0m\n\u001b[1;32m   1042\u001b[0m                 \u001b[0mself\u001b[0m\u001b[0;34m.\u001b[0m\u001b[0m_iterating\u001b[0m \u001b[0;34m=\u001b[0m \u001b[0mself\u001b[0m\u001b[0;34m.\u001b[0m\u001b[0m_original_iterator\u001b[0m \u001b[0;32mis\u001b[0m \u001b[0;32mnot\u001b[0m \u001b[0;32mNone\u001b[0m\u001b[0;34m\u001b[0m\u001b[0;34m\u001b[0m\u001b[0m\n\u001b[1;32m   1043\u001b[0m \u001b[0;34m\u001b[0m\u001b[0m\n\u001b[0;32m-> 1044\u001b[0;31m             \u001b[0;32mwhile\u001b[0m \u001b[0mself\u001b[0m\u001b[0;34m.\u001b[0m\u001b[0mdispatch_one_batch\u001b[0m\u001b[0;34m(\u001b[0m\u001b[0miterator\u001b[0m\u001b[0;34m)\u001b[0m\u001b[0;34m:\u001b[0m\u001b[0;34m\u001b[0m\u001b[0;34m\u001b[0m\u001b[0m\n\u001b[0m\u001b[1;32m   1045\u001b[0m                 \u001b[0;32mpass\u001b[0m\u001b[0;34m\u001b[0m\u001b[0;34m\u001b[0m\u001b[0m\n\u001b[1;32m   1046\u001b[0m \u001b[0;34m\u001b[0m\u001b[0m\n",
            "\u001b[0;32m/usr/local/lib/python3.7/dist-packages/joblib/parallel.py\u001b[0m in \u001b[0;36mdispatch_one_batch\u001b[0;34m(self, iterator)\u001b[0m\n\u001b[1;32m    857\u001b[0m                 \u001b[0;32mreturn\u001b[0m \u001b[0;32mFalse\u001b[0m\u001b[0;34m\u001b[0m\u001b[0;34m\u001b[0m\u001b[0m\n\u001b[1;32m    858\u001b[0m             \u001b[0;32melse\u001b[0m\u001b[0;34m:\u001b[0m\u001b[0;34m\u001b[0m\u001b[0;34m\u001b[0m\u001b[0m\n\u001b[0;32m--> 859\u001b[0;31m                 \u001b[0mself\u001b[0m\u001b[0;34m.\u001b[0m\u001b[0m_dispatch\u001b[0m\u001b[0;34m(\u001b[0m\u001b[0mtasks\u001b[0m\u001b[0;34m)\u001b[0m\u001b[0;34m\u001b[0m\u001b[0;34m\u001b[0m\u001b[0m\n\u001b[0m\u001b[1;32m    860\u001b[0m                 \u001b[0;32mreturn\u001b[0m \u001b[0;32mTrue\u001b[0m\u001b[0;34m\u001b[0m\u001b[0;34m\u001b[0m\u001b[0m\n\u001b[1;32m    861\u001b[0m \u001b[0;34m\u001b[0m\u001b[0m\n",
            "\u001b[0;32m/usr/local/lib/python3.7/dist-packages/joblib/parallel.py\u001b[0m in \u001b[0;36m_dispatch\u001b[0;34m(self, batch)\u001b[0m\n\u001b[1;32m    775\u001b[0m         \u001b[0;32mwith\u001b[0m \u001b[0mself\u001b[0m\u001b[0;34m.\u001b[0m\u001b[0m_lock\u001b[0m\u001b[0;34m:\u001b[0m\u001b[0;34m\u001b[0m\u001b[0;34m\u001b[0m\u001b[0m\n\u001b[1;32m    776\u001b[0m             \u001b[0mjob_idx\u001b[0m \u001b[0;34m=\u001b[0m \u001b[0mlen\u001b[0m\u001b[0;34m(\u001b[0m\u001b[0mself\u001b[0m\u001b[0;34m.\u001b[0m\u001b[0m_jobs\u001b[0m\u001b[0;34m)\u001b[0m\u001b[0;34m\u001b[0m\u001b[0;34m\u001b[0m\u001b[0m\n\u001b[0;32m--> 777\u001b[0;31m             \u001b[0mjob\u001b[0m \u001b[0;34m=\u001b[0m \u001b[0mself\u001b[0m\u001b[0;34m.\u001b[0m\u001b[0m_backend\u001b[0m\u001b[0;34m.\u001b[0m\u001b[0mapply_async\u001b[0m\u001b[0;34m(\u001b[0m\u001b[0mbatch\u001b[0m\u001b[0;34m,\u001b[0m \u001b[0mcallback\u001b[0m\u001b[0;34m=\u001b[0m\u001b[0mcb\u001b[0m\u001b[0;34m)\u001b[0m\u001b[0;34m\u001b[0m\u001b[0;34m\u001b[0m\u001b[0m\n\u001b[0m\u001b[1;32m    778\u001b[0m             \u001b[0;31m# A job can complete so quickly than its callback is\u001b[0m\u001b[0;34m\u001b[0m\u001b[0;34m\u001b[0m\u001b[0;34m\u001b[0m\u001b[0m\n\u001b[1;32m    779\u001b[0m             \u001b[0;31m# called before we get here, causing self._jobs to\u001b[0m\u001b[0;34m\u001b[0m\u001b[0;34m\u001b[0m\u001b[0;34m\u001b[0m\u001b[0m\n",
            "\u001b[0;32m/usr/local/lib/python3.7/dist-packages/joblib/_parallel_backends.py\u001b[0m in \u001b[0;36mapply_async\u001b[0;34m(self, func, callback)\u001b[0m\n\u001b[1;32m    206\u001b[0m     \u001b[0;32mdef\u001b[0m \u001b[0mapply_async\u001b[0m\u001b[0;34m(\u001b[0m\u001b[0mself\u001b[0m\u001b[0;34m,\u001b[0m \u001b[0mfunc\u001b[0m\u001b[0;34m,\u001b[0m \u001b[0mcallback\u001b[0m\u001b[0;34m=\u001b[0m\u001b[0;32mNone\u001b[0m\u001b[0;34m)\u001b[0m\u001b[0;34m:\u001b[0m\u001b[0;34m\u001b[0m\u001b[0;34m\u001b[0m\u001b[0m\n\u001b[1;32m    207\u001b[0m         \u001b[0;34m\"\"\"Schedule a func to be run\"\"\"\u001b[0m\u001b[0;34m\u001b[0m\u001b[0;34m\u001b[0m\u001b[0m\n\u001b[0;32m--> 208\u001b[0;31m         \u001b[0mresult\u001b[0m \u001b[0;34m=\u001b[0m \u001b[0mImmediateResult\u001b[0m\u001b[0;34m(\u001b[0m\u001b[0mfunc\u001b[0m\u001b[0;34m)\u001b[0m\u001b[0;34m\u001b[0m\u001b[0;34m\u001b[0m\u001b[0m\n\u001b[0m\u001b[1;32m    209\u001b[0m         \u001b[0;32mif\u001b[0m \u001b[0mcallback\u001b[0m\u001b[0;34m:\u001b[0m\u001b[0;34m\u001b[0m\u001b[0;34m\u001b[0m\u001b[0m\n\u001b[1;32m    210\u001b[0m             \u001b[0mcallback\u001b[0m\u001b[0;34m(\u001b[0m\u001b[0mresult\u001b[0m\u001b[0;34m)\u001b[0m\u001b[0;34m\u001b[0m\u001b[0;34m\u001b[0m\u001b[0m\n",
            "\u001b[0;32m/usr/local/lib/python3.7/dist-packages/joblib/_parallel_backends.py\u001b[0m in \u001b[0;36m__init__\u001b[0;34m(self, batch)\u001b[0m\n\u001b[1;32m    570\u001b[0m         \u001b[0;31m# Don't delay the application, to avoid keeping the input\u001b[0m\u001b[0;34m\u001b[0m\u001b[0;34m\u001b[0m\u001b[0;34m\u001b[0m\u001b[0m\n\u001b[1;32m    571\u001b[0m         \u001b[0;31m# arguments in memory\u001b[0m\u001b[0;34m\u001b[0m\u001b[0;34m\u001b[0m\u001b[0;34m\u001b[0m\u001b[0m\n\u001b[0;32m--> 572\u001b[0;31m         \u001b[0mself\u001b[0m\u001b[0;34m.\u001b[0m\u001b[0mresults\u001b[0m \u001b[0;34m=\u001b[0m \u001b[0mbatch\u001b[0m\u001b[0;34m(\u001b[0m\u001b[0;34m)\u001b[0m\u001b[0;34m\u001b[0m\u001b[0;34m\u001b[0m\u001b[0m\n\u001b[0m\u001b[1;32m    573\u001b[0m \u001b[0;34m\u001b[0m\u001b[0m\n\u001b[1;32m    574\u001b[0m     \u001b[0;32mdef\u001b[0m \u001b[0mget\u001b[0m\u001b[0;34m(\u001b[0m\u001b[0mself\u001b[0m\u001b[0;34m)\u001b[0m\u001b[0;34m:\u001b[0m\u001b[0;34m\u001b[0m\u001b[0;34m\u001b[0m\u001b[0m\n",
            "\u001b[0;32m/usr/local/lib/python3.7/dist-packages/joblib/parallel.py\u001b[0m in \u001b[0;36m__call__\u001b[0;34m(self)\u001b[0m\n\u001b[1;32m    261\u001b[0m         \u001b[0;32mwith\u001b[0m \u001b[0mparallel_backend\u001b[0m\u001b[0;34m(\u001b[0m\u001b[0mself\u001b[0m\u001b[0;34m.\u001b[0m\u001b[0m_backend\u001b[0m\u001b[0;34m,\u001b[0m \u001b[0mn_jobs\u001b[0m\u001b[0;34m=\u001b[0m\u001b[0mself\u001b[0m\u001b[0;34m.\u001b[0m\u001b[0m_n_jobs\u001b[0m\u001b[0;34m)\u001b[0m\u001b[0;34m:\u001b[0m\u001b[0;34m\u001b[0m\u001b[0;34m\u001b[0m\u001b[0m\n\u001b[1;32m    262\u001b[0m             return [func(*args, **kwargs)\n\u001b[0;32m--> 263\u001b[0;31m                     for func, args, kwargs in self.items]\n\u001b[0m\u001b[1;32m    264\u001b[0m \u001b[0;34m\u001b[0m\u001b[0m\n\u001b[1;32m    265\u001b[0m     \u001b[0;32mdef\u001b[0m \u001b[0m__reduce__\u001b[0m\u001b[0;34m(\u001b[0m\u001b[0mself\u001b[0m\u001b[0;34m)\u001b[0m\u001b[0;34m:\u001b[0m\u001b[0;34m\u001b[0m\u001b[0;34m\u001b[0m\u001b[0m\n",
            "\u001b[0;32m/usr/local/lib/python3.7/dist-packages/joblib/parallel.py\u001b[0m in \u001b[0;36m<listcomp>\u001b[0;34m(.0)\u001b[0m\n\u001b[1;32m    261\u001b[0m         \u001b[0;32mwith\u001b[0m \u001b[0mparallel_backend\u001b[0m\u001b[0;34m(\u001b[0m\u001b[0mself\u001b[0m\u001b[0;34m.\u001b[0m\u001b[0m_backend\u001b[0m\u001b[0;34m,\u001b[0m \u001b[0mn_jobs\u001b[0m\u001b[0;34m=\u001b[0m\u001b[0mself\u001b[0m\u001b[0;34m.\u001b[0m\u001b[0m_n_jobs\u001b[0m\u001b[0;34m)\u001b[0m\u001b[0;34m:\u001b[0m\u001b[0;34m\u001b[0m\u001b[0;34m\u001b[0m\u001b[0m\n\u001b[1;32m    262\u001b[0m             return [func(*args, **kwargs)\n\u001b[0;32m--> 263\u001b[0;31m                     for func, args, kwargs in self.items]\n\u001b[0m\u001b[1;32m    264\u001b[0m \u001b[0;34m\u001b[0m\u001b[0m\n\u001b[1;32m    265\u001b[0m     \u001b[0;32mdef\u001b[0m \u001b[0m__reduce__\u001b[0m\u001b[0;34m(\u001b[0m\u001b[0mself\u001b[0m\u001b[0;34m)\u001b[0m\u001b[0;34m:\u001b[0m\u001b[0;34m\u001b[0m\u001b[0;34m\u001b[0m\u001b[0m\n",
            "\u001b[0;32m/usr/local/lib/python3.7/dist-packages/sklearn/model_selection/_validation.py\u001b[0m in \u001b[0;36m_fit_and_score\u001b[0;34m(estimator, X, y, scorer, train, test, verbose, parameters, fit_params, return_train_score, return_parameters, return_n_test_samples, return_times, return_estimator, error_score)\u001b[0m\n\u001b[1;32m    513\u001b[0m             \u001b[0mestimator\u001b[0m\u001b[0;34m.\u001b[0m\u001b[0mfit\u001b[0m\u001b[0;34m(\u001b[0m\u001b[0mX_train\u001b[0m\u001b[0;34m,\u001b[0m \u001b[0;34m**\u001b[0m\u001b[0mfit_params\u001b[0m\u001b[0;34m)\u001b[0m\u001b[0;34m\u001b[0m\u001b[0;34m\u001b[0m\u001b[0m\n\u001b[1;32m    514\u001b[0m         \u001b[0;32melse\u001b[0m\u001b[0;34m:\u001b[0m\u001b[0;34m\u001b[0m\u001b[0;34m\u001b[0m\u001b[0m\n\u001b[0;32m--> 515\u001b[0;31m             \u001b[0mestimator\u001b[0m\u001b[0;34m.\u001b[0m\u001b[0mfit\u001b[0m\u001b[0;34m(\u001b[0m\u001b[0mX_train\u001b[0m\u001b[0;34m,\u001b[0m \u001b[0my_train\u001b[0m\u001b[0;34m,\u001b[0m \u001b[0;34m**\u001b[0m\u001b[0mfit_params\u001b[0m\u001b[0;34m)\u001b[0m\u001b[0;34m\u001b[0m\u001b[0;34m\u001b[0m\u001b[0m\n\u001b[0m\u001b[1;32m    516\u001b[0m \u001b[0;34m\u001b[0m\u001b[0m\n\u001b[1;32m    517\u001b[0m     \u001b[0;32mexcept\u001b[0m \u001b[0mException\u001b[0m \u001b[0;32mas\u001b[0m \u001b[0me\u001b[0m\u001b[0;34m:\u001b[0m\u001b[0;34m\u001b[0m\u001b[0;34m\u001b[0m\u001b[0m\n",
            "\u001b[0;32m/usr/local/lib/python3.7/dist-packages/sklearn/model_selection/_search.py\u001b[0m in \u001b[0;36mfit\u001b[0;34m(self, X, y, groups, **fit_params)\u001b[0m\n\u001b[1;32m    653\u001b[0m         \u001b[0mn_splits\u001b[0m \u001b[0;34m=\u001b[0m \u001b[0mcv\u001b[0m\u001b[0;34m.\u001b[0m\u001b[0mget_n_splits\u001b[0m\u001b[0;34m(\u001b[0m\u001b[0mX\u001b[0m\u001b[0;34m,\u001b[0m \u001b[0my\u001b[0m\u001b[0;34m,\u001b[0m \u001b[0mgroups\u001b[0m\u001b[0;34m)\u001b[0m\u001b[0;34m\u001b[0m\u001b[0;34m\u001b[0m\u001b[0m\n\u001b[1;32m    654\u001b[0m \u001b[0;34m\u001b[0m\u001b[0m\n\u001b[0;32m--> 655\u001b[0;31m         \u001b[0mbase_estimator\u001b[0m \u001b[0;34m=\u001b[0m \u001b[0mclone\u001b[0m\u001b[0;34m(\u001b[0m\u001b[0mself\u001b[0m\u001b[0;34m.\u001b[0m\u001b[0mestimator\u001b[0m\u001b[0;34m)\u001b[0m\u001b[0;34m\u001b[0m\u001b[0;34m\u001b[0m\u001b[0m\n\u001b[0m\u001b[1;32m    656\u001b[0m \u001b[0;34m\u001b[0m\u001b[0m\n\u001b[1;32m    657\u001b[0m         parallel = Parallel(n_jobs=self.n_jobs, verbose=self.verbose,\n",
            "\u001b[0;32m/usr/local/lib/python3.7/dist-packages/sklearn/base.py\u001b[0m in \u001b[0;36mclone\u001b[0;34m(estimator, safe)\u001b[0m\n\u001b[1;32m     67\u001b[0m                             % (repr(estimator), type(estimator)))\n\u001b[1;32m     68\u001b[0m     \u001b[0mklass\u001b[0m \u001b[0;34m=\u001b[0m \u001b[0mestimator\u001b[0m\u001b[0;34m.\u001b[0m\u001b[0m__class__\u001b[0m\u001b[0;34m\u001b[0m\u001b[0;34m\u001b[0m\u001b[0m\n\u001b[0;32m---> 69\u001b[0;31m     \u001b[0mnew_object_params\u001b[0m \u001b[0;34m=\u001b[0m \u001b[0mestimator\u001b[0m\u001b[0;34m.\u001b[0m\u001b[0mget_params\u001b[0m\u001b[0;34m(\u001b[0m\u001b[0mdeep\u001b[0m\u001b[0;34m=\u001b[0m\u001b[0;32mFalse\u001b[0m\u001b[0;34m)\u001b[0m\u001b[0;34m\u001b[0m\u001b[0;34m\u001b[0m\u001b[0m\n\u001b[0m\u001b[1;32m     70\u001b[0m     \u001b[0;32mfor\u001b[0m \u001b[0mname\u001b[0m\u001b[0;34m,\u001b[0m \u001b[0mparam\u001b[0m \u001b[0;32min\u001b[0m \u001b[0mnew_object_params\u001b[0m\u001b[0;34m.\u001b[0m\u001b[0mitems\u001b[0m\u001b[0;34m(\u001b[0m\u001b[0;34m)\u001b[0m\u001b[0;34m:\u001b[0m\u001b[0;34m\u001b[0m\u001b[0;34m\u001b[0m\u001b[0m\n\u001b[1;32m     71\u001b[0m         \u001b[0mnew_object_params\u001b[0m\u001b[0;34m[\u001b[0m\u001b[0mname\u001b[0m\u001b[0;34m]\u001b[0m \u001b[0;34m=\u001b[0m \u001b[0mclone\u001b[0m\u001b[0;34m(\u001b[0m\u001b[0mparam\u001b[0m\u001b[0;34m,\u001b[0m \u001b[0msafe\u001b[0m\u001b[0;34m=\u001b[0m\u001b[0;32mFalse\u001b[0m\u001b[0;34m)\u001b[0m\u001b[0;34m\u001b[0m\u001b[0;34m\u001b[0m\u001b[0m\n",
            "\u001b[0;32m/usr/local/lib/python3.7/dist-packages/sklearn/base.py\u001b[0m in \u001b[0;36mget_params\u001b[0;34m(self, deep)\u001b[0m\n\u001b[1;32m    187\u001b[0m         \"\"\"\n\u001b[1;32m    188\u001b[0m         \u001b[0mout\u001b[0m \u001b[0;34m=\u001b[0m \u001b[0mdict\u001b[0m\u001b[0;34m(\u001b[0m\u001b[0;34m)\u001b[0m\u001b[0;34m\u001b[0m\u001b[0;34m\u001b[0m\u001b[0m\n\u001b[0;32m--> 189\u001b[0;31m         \u001b[0;32mfor\u001b[0m \u001b[0mkey\u001b[0m \u001b[0;32min\u001b[0m \u001b[0mself\u001b[0m\u001b[0;34m.\u001b[0m\u001b[0m_get_param_names\u001b[0m\u001b[0;34m(\u001b[0m\u001b[0;34m)\u001b[0m\u001b[0;34m:\u001b[0m\u001b[0;34m\u001b[0m\u001b[0;34m\u001b[0m\u001b[0m\n\u001b[0m\u001b[1;32m    190\u001b[0m             \u001b[0;32mtry\u001b[0m\u001b[0;34m:\u001b[0m\u001b[0;34m\u001b[0m\u001b[0;34m\u001b[0m\u001b[0m\n\u001b[1;32m    191\u001b[0m                 \u001b[0mvalue\u001b[0m \u001b[0;34m=\u001b[0m \u001b[0mgetattr\u001b[0m\u001b[0;34m(\u001b[0m\u001b[0mself\u001b[0m\u001b[0;34m,\u001b[0m \u001b[0mkey\u001b[0m\u001b[0;34m)\u001b[0m\u001b[0;34m\u001b[0m\u001b[0;34m\u001b[0m\u001b[0m\n",
            "\u001b[0;32m/usr/local/lib/python3.7/dist-packages/sklearn/base.py\u001b[0m in \u001b[0;36m_get_param_names\u001b[0;34m(cls)\u001b[0m\n\u001b[1;32m    158\u001b[0m         \u001b[0minit_signature\u001b[0m \u001b[0;34m=\u001b[0m \u001b[0minspect\u001b[0m\u001b[0;34m.\u001b[0m\u001b[0msignature\u001b[0m\u001b[0;34m(\u001b[0m\u001b[0minit\u001b[0m\u001b[0;34m)\u001b[0m\u001b[0;34m\u001b[0m\u001b[0;34m\u001b[0m\u001b[0m\n\u001b[1;32m    159\u001b[0m         \u001b[0;31m# Consider the constructor parameters excluding 'self'\u001b[0m\u001b[0;34m\u001b[0m\u001b[0;34m\u001b[0m\u001b[0;34m\u001b[0m\u001b[0m\n\u001b[0;32m--> 160\u001b[0;31m         parameters = [p for p in init_signature.parameters.values()\n\u001b[0m\u001b[1;32m    161\u001b[0m                       if p.name != 'self' and p.kind != p.VAR_KEYWORD]\n\u001b[1;32m    162\u001b[0m         \u001b[0;32mfor\u001b[0m \u001b[0mp\u001b[0m \u001b[0;32min\u001b[0m \u001b[0mparameters\u001b[0m\u001b[0;34m:\u001b[0m\u001b[0;34m\u001b[0m\u001b[0;34m\u001b[0m\u001b[0m\n",
            "\u001b[0;32m/usr/local/lib/python3.7/dist-packages/sklearn/base.py\u001b[0m in \u001b[0;36m<listcomp>\u001b[0;34m(.0)\u001b[0m\n\u001b[1;32m    159\u001b[0m         \u001b[0;31m# Consider the constructor parameters excluding 'self'\u001b[0m\u001b[0;34m\u001b[0m\u001b[0;34m\u001b[0m\u001b[0;34m\u001b[0m\u001b[0m\n\u001b[1;32m    160\u001b[0m         parameters = [p for p in init_signature.parameters.values()\n\u001b[0;32m--> 161\u001b[0;31m                       if p.name != 'self' and p.kind != p.VAR_KEYWORD]\n\u001b[0m\u001b[1;32m    162\u001b[0m         \u001b[0;32mfor\u001b[0m \u001b[0mp\u001b[0m \u001b[0;32min\u001b[0m \u001b[0mparameters\u001b[0m\u001b[0;34m:\u001b[0m\u001b[0;34m\u001b[0m\u001b[0;34m\u001b[0m\u001b[0m\n\u001b[1;32m    163\u001b[0m             \u001b[0;32mif\u001b[0m \u001b[0mp\u001b[0m\u001b[0;34m.\u001b[0m\u001b[0mkind\u001b[0m \u001b[0;34m==\u001b[0m \u001b[0mp\u001b[0m\u001b[0;34m.\u001b[0m\u001b[0mVAR_POSITIONAL\u001b[0m\u001b[0;34m:\u001b[0m\u001b[0;34m\u001b[0m\u001b[0;34m\u001b[0m\u001b[0m\n",
            "\u001b[0;31mKeyboardInterrupt\u001b[0m: "
          ]
        }
      ]
    },
    {
      "cell_type": "code",
      "metadata": {
        "colab": {
          "base_uri": "https://localhost:8080/"
        },
        "id": "rS6BPkDKulXP",
        "outputId": "febd6db4-2fdc-4c54-a217-3989af1a03fc"
      },
      "source": [
        "rs_logistic_regression_clf.best_score_"
      ],
      "execution_count": null,
      "outputs": [
        {
          "output_type": "execute_result",
          "data": {
            "text/plain": [
              "0.5126898344506772"
            ]
          },
          "metadata": {
            "tags": []
          },
          "execution_count": 41
        }
      ]
    },
    {
      "cell_type": "code",
      "metadata": {
        "colab": {
          "base_uri": "https://localhost:8080/"
        },
        "id": "1c61CyoAu5Kd",
        "outputId": "b3b0b1ca-04d1-44e3-f3b6-920e53941df4"
      },
      "source": [
        "rs_logistic_regression_clf.best_params_"
      ],
      "execution_count": null,
      "outputs": [
        {
          "output_type": "execute_result",
          "data": {
            "text/plain": [
              "{'C': 4.281332398719396, 'penalty': 'l1', 'solver': 'liblinear'}"
            ]
          },
          "metadata": {
            "tags": []
          },
          "execution_count": 42
        }
      ]
    },
    {
      "cell_type": "code",
      "metadata": {
        "colab": {
          "base_uri": "https://localhost:8080/"
        },
        "id": "3F94KNO3u9fC",
        "outputId": "4d6b7e3c-82fd-40bb-e67b-9dc25233ef7d"
      },
      "source": [
        "rs_logistic_regression_clf.best_estimator_"
      ],
      "execution_count": null,
      "outputs": [
        {
          "output_type": "execute_result",
          "data": {
            "text/plain": [
              "LogisticRegression(C=4.281332398719396, class_weight=None, dual=False,\n",
              "                   fit_intercept=True, intercept_scaling=1, l1_ratio=None,\n",
              "                   max_iter=1024, multi_class='auto', n_jobs=None, penalty='l1',\n",
              "                   random_state=None, solver='liblinear', tol=0.0001, verbose=0,\n",
              "                   warm_start=False)"
            ]
          },
          "metadata": {
            "tags": []
          },
          "execution_count": 43
        }
      ]
    },
    {
      "cell_type": "code",
      "metadata": {
        "colab": {
          "base_uri": "https://localhost:8080/"
        },
        "id": "lHnkaH-2vYzc",
        "outputId": "b5b8cb0c-6705-43a0-c83c-6ee95c8a2033"
      },
      "source": [
        "# Print the optimal parameters and best score\n",
        "print(\"Tuned Logistic Regression Parameter: {}\".format(rs_logistic_regression_clf.best_params_))\n",
        "print(\"Tuned Logistic Regression Accuracy: {}\".format(rs_logistic_regression_clf.best_score_))\n",
        "print(\"Tuned Logistic Regression Estimator:  {}\".format(rs_logistic_regression_clf.best_estimator_))"
      ],
      "execution_count": null,
      "outputs": [
        {
          "output_type": "stream",
          "text": [
            "Tuned Logistic Regression Parameter: {'solver': 'liblinear', 'penalty': 'l1', 'C': 4.281332398719396}\n",
            "Tuned Logistic Regression Accuracy: 0.5126898344506772\n",
            "Tuned Logistic Regression Estimator:  LogisticRegression(C=4.281332398719396, class_weight=None, dual=False,\n",
            "                   fit_intercept=True, intercept_scaling=1, l1_ratio=None,\n",
            "                   max_iter=1024, multi_class='auto', n_jobs=None, penalty='l1',\n",
            "                   random_state=None, solver='liblinear', tol=0.0001, verbose=0,\n",
            "                   warm_start=False)\n"
          ],
          "name": "stdout"
        }
      ]
    },
    {
      "cell_type": "code",
      "metadata": {
        "colab": {
          "base_uri": "https://localhost:8080/"
        },
        "id": "v228dEi2vM6Q",
        "outputId": "70ceb143-1ba0-4f1d-87f1-6eff3f35d477"
      },
      "source": [
        "y_pred_lr = rs_logistic_regression_clf.predict(df_X_test)\n",
        "print(classification_report(y_test, y_pred_lr))"
      ],
      "execution_count": null,
      "outputs": [
        {
          "output_type": "stream",
          "text": [
            "              precision    recall  f1-score   support\n",
            "\n",
            "       agree       0.27      0.44      0.33      1903\n",
            "    disagree       0.11      0.44      0.18       697\n",
            "     discuss       0.63      0.19      0.29      4464\n",
            "   unrelated       0.97      0.97      0.97     18349\n",
            "\n",
            "    accuracy                           0.78     25413\n",
            "   macro avg       0.50      0.51      0.44     25413\n",
            "weighted avg       0.84      0.78      0.78     25413\n",
            "\n"
          ],
          "name": "stdout"
        }
      ]
    },
    {
      "cell_type": "code",
      "metadata": {
        "colab": {
          "base_uri": "https://localhost:8080/"
        },
        "id": "KvKNmf12i6mF",
        "outputId": "2c177976-ffce-4a48-bc55-195a8504da2b"
      },
      "source": [
        "lr_accuracy = rs_logistic_regression_clf.score(df_X_test, y_test)\n",
        "round(lr_accuracy, 4)"
      ],
      "execution_count": null,
      "outputs": [
        {
          "output_type": "execute_result",
          "data": {
            "text/plain": [
              "0.7764"
            ]
          },
          "metadata": {
            "tags": []
          },
          "execution_count": 50
        }
      ]
    },
    {
      "cell_type": "code",
      "metadata": {
        "colab": {
          "base_uri": "https://localhost:8080/"
        },
        "id": "fEi24apOpdPA",
        "outputId": "53798f4f-f914-41b5-85f1-65bf22b669f7"
      },
      "source": [
        "cm_lr = confusion_matrix(y_test, y_pred_lr)\n",
        "for i in range(4):\n",
        "  print('')      \n",
        "  for y in range(4):\n",
        "    print(cm_lr[i, y], end='\\t')"
      ],
      "execution_count": null,
      "outputs": [
        {
          "output_type": "stream",
          "text": [
            "\n",
            "831\t584\t383\t105\t\n",
            "178\t309\t91\t119\t\n",
            "1959\t1417\t827\t261\t\n",
            "109\t468\t9\t17763\t"
          ],
          "name": "stdout"
        }
      ]
    },
    {
      "cell_type": "code",
      "metadata": {
        "colab": {
          "base_uri": "https://localhost:8080/"
        },
        "id": "hQtUYoNSm5AI",
        "outputId": "4e0eb462-afbe-4a97-cd39-6f09eee44045"
      },
      "source": [
        "cm_lr = cm_lr.astype('float') / cm_lr.sum(axis=1)[:, np.newaxis]\n",
        "cm_lr.diagonal()\n",
        "cm_lr_classes_accuracy = [round(a, 4) for a in cm_lr.diagonal()]\n",
        "for i in range(4):\n",
        "  print(cm_lr_classes_accuracy[i])"
      ],
      "execution_count": null,
      "outputs": [
        {
          "output_type": "stream",
          "text": [
            "0.4367\n",
            "0.4433\n",
            "0.1853\n",
            "0.9681\n"
          ],
          "name": "stdout"
        }
      ]
    },
    {
      "cell_type": "code",
      "metadata": {
        "id": "nSKtCdTfZUQw"
      },
      "source": [
        "#tn, fp, fn, tp = confusion_matrix(y_test, y_pred_lr).ravel()\n",
        "#(tn, fp, fn, tp)"
      ],
      "execution_count": null,
      "outputs": []
    },
    {
      "cell_type": "code",
      "metadata": {
        "colab": {
          "base_uri": "https://localhost:8080/",
          "height": 629
        },
        "id": "x7HDI1yrYfKN",
        "outputId": "0b9f33ee-5fba-4a76-d87e-be8396749ed6"
      },
      "source": [
        "fig, ax = plt.subplots(figsize=(11,11))\n",
        "ax.set_title('Logistic Regression\\n(features: cosine similarity and word superposition)', fontdict = {'family':'sans-serif', 'weight':'normal', 'size': 14})\n",
        "plot_confusion_matrix(rs_logistic_regression_clf, df_X_test, y_test, values_format='d', cmap='Blues', ax=ax)\n",
        "plt.show()"
      ],
      "execution_count": null,
      "outputs": [
        {
          "output_type": "display_data",
          "data": {
            "image/png": "[encoded data removed]",
            "text/plain": [
              "<Figure size 792x792 with 2 Axes>"
            ]
          },
          "metadata": {
            "tags": []
          }
        }
      ]
    },
    {
      "cell_type": "code",
      "metadata": {
        "colab": {
          "base_uri": "https://localhost:8080/"
        },
        "id": "mUFhjD6tX9Qv",
        "outputId": "bd7c57bc-b205-4ceb-a427-d8ae122efbab"
      },
      "source": [
        "cm_lr = cm_lr.astype('float') / cm_lr.sum(axis=1)[:, np.newaxis]\n",
        "cm_lr.diagonal()"
      ],
      "execution_count": null,
      "outputs": [
        {
          "output_type": "execute_result",
          "data": {
            "text/plain": [
              "array([0.43667893, 0.44332855, 0.18525986, 0.96806365])"
            ]
          },
          "metadata": {
            "tags": []
          },
          "execution_count": 54
        }
      ]
    },
    {
      "cell_type": "code",
      "metadata": {
        "colab": {
          "base_uri": "https://localhost:8080/",
          "height": 629
        },
        "id": "2E3N9-pqbo3w",
        "outputId": "b9a88f60-271e-4f61-8548-81011e6ab724"
      },
      "source": [
        "fig, ax = plt.subplots(figsize=(11,11))\n",
        "ax.set_title('Logistic Regression\\n(features: cosine similarity and word superposition)', fontdict = {'family':'sans-serif', 'weight':'normal', 'size': 14})\n",
        "plot_confusion_matrix(rs_logistic_regression_clf, df_X_test, y_test, cmap='Blues', ax=ax, normalize='true')\n",
        "plt.show()"
      ],
      "execution_count": null,
      "outputs": [
        {
          "output_type": "display_data",
          "data": {
            "image/png": "[encoded data removed]",
            "text/plain": [
              "<Figure size 792x792 with 2 Axes>"
            ]
          },
          "metadata": {
            "tags": []
          }
        }
      ]
    },
    {
      "cell_type": "markdown",
      "metadata": {
        "id": "JsEHhlRt4AR9"
      },
      "source": [
        "Avaliação sobre os dados de treino"
      ]
    },
    {
      "cell_type": "code",
      "metadata": {
        "colab": {
          "base_uri": "https://localhost:8080/"
        },
        "id": "x_1KCGE44LXC",
        "outputId": "af7354b8-c31e-441d-f302-98ef5f5a5d1b"
      },
      "source": [
        "y_pred_lr_train = rs_logistic_regression_clf.predict(df_X_train)\n",
        "print(classification_report(y_train, y_pred_lr_train))"
      ],
      "execution_count": null,
      "outputs": [
        {
          "output_type": "stream",
          "text": [
            "              precision    recall  f1-score   support\n",
            "\n",
            "       agree       0.39      0.39      0.39     36545\n",
            "    disagree       0.37      0.47      0.42     36545\n",
            "     discuss       0.37      0.22      0.28     36545\n",
            "   unrelated       0.85      0.97      0.91     36545\n",
            "\n",
            "    accuracy                           0.51    146180\n",
            "   macro avg       0.50      0.51      0.50    146180\n",
            "weighted avg       0.50      0.51      0.50    146180\n",
            "\n"
          ],
          "name": "stdout"
        }
      ]
    },
    {
      "cell_type": "code",
      "metadata": {
        "colab": {
          "base_uri": "https://localhost:8080/"
        },
        "id": "0a7OZWYU5c9t",
        "outputId": "3acbfc15-f745-4bdc-e3f2-d1faeb25602d"
      },
      "source": [
        "lr_accuracy_train = rs_logistic_regression_clf.score(df_X_train, y_train)\n",
        "round(lr_accuracy_train, 4)"
      ],
      "execution_count": null,
      "outputs": [
        {
          "output_type": "execute_result",
          "data": {
            "text/plain": [
              "0.5136"
            ]
          },
          "metadata": {
            "tags": []
          },
          "execution_count": 59
        }
      ]
    },
    {
      "cell_type": "code",
      "metadata": {
        "id": "KmU-vBRB6OSa"
      },
      "source": [
        "cm_lr = confusion_matrix(y_test, y_pred_lr)\n",
        "for i in range(4):\n",
        "  print('')      \n",
        "  for y in range(4):\n",
        "    print(cm_lr[i, y], end='\\t')"
      ],
      "execution_count": null,
      "outputs": []
    },
    {
      "cell_type": "markdown",
      "metadata": {
        "id": "PKe7JfcrE-Ta"
      },
      "source": [
        "## Logistic Regression (all features)"
      ]
    },
    {
      "cell_type": "markdown",
      "metadata": {
        "id": "Ap_bZ7qL9MmQ"
      },
      "source": [
        "Tunning Hyperparameters"
      ]
    },
    {
      "cell_type": "code",
      "metadata": {
        "id": "aKuU5lTH9MmY"
      },
      "source": [
        "logistic_regression_all = LogisticRegression(max_iter=1024)"
      ],
      "execution_count": null,
      "outputs": []
    },
    {
      "cell_type": "code",
      "metadata": {
        "id": "LG2Vp90O7FMb"
      },
      "source": [
        "logistic_regression_all = LogisticRegression(max_iter=1024)\n",
        "rs_logistic_regression_all = logistic_regression_all.fit(training_features, y_train)"
      ],
      "execution_count": null,
      "outputs": []
    },
    {
      "cell_type": "code",
      "metadata": {
        "id": "ExBnXQ5I9MmY"
      },
      "source": [
        "'''param_dist = {'penalty' : ['l1', 'l2'],\n",
        "              'C' : np.logspace(-4, 4, 20),\n",
        "              'solver' : ['liblinear']}'''"
      ],
      "execution_count": null,
      "outputs": []
    },
    {
      "cell_type": "code",
      "metadata": {
        "id": "usyqUf5z9MmZ"
      },
      "source": [
        "scorer = make_scorer(accuracy_score)"
      ],
      "execution_count": null,
      "outputs": []
    },
    {
      "cell_type": "code",
      "metadata": {
        "id": "HpbB9JE99MmZ"
      },
      "source": [
        "'''random_search_lr_all =\\\n",
        "    RandomizedSearchCV(\n",
        "        estimator=logistic_regression_all,\n",
        "        param_distributions=param_dist,        \n",
        "        cv=5,\n",
        "        scoring=scorer)'''"
      ],
      "execution_count": null,
      "outputs": []
    },
    {
      "cell_type": "code",
      "metadata": {
        "id": "J-FbdsNt9MmZ"
      },
      "source": [
        "#rs_logistic_regression_all = random_search_lr_all.fit(training_features, y_train)"
      ],
      "execution_count": null,
      "outputs": []
    },
    {
      "cell_type": "code",
      "metadata": {
        "id": "WxUB-kZiNyEO"
      },
      "source": [
        "#dump(rs_logistic_regression_all, '/content/drive/MyDrive/Colab Notebooks/Stance Detection definitive edition FNC dataset v3 (random oversample)/rs_logistic_regression_all_2021_07_27.joblib')\n",
        "rs_logistic_regression_all = load('/content/drive/MyDrive/Colab Notebooks/Stance Detection definitive edition FNC dataset v3 (random oversample)/rs_logistic_regression_all_2021_07_27.joblib')"
      ],
      "execution_count": null,
      "outputs": []
    },
    {
      "cell_type": "code",
      "metadata": {
        "colab": {
          "base_uri": "https://localhost:8080/",
          "height": 163
        },
        "id": "35NarHO79MmZ",
        "outputId": "672bb6a0-b692-48cb-a605-5bdb0f2a6a27"
      },
      "source": [
        "#rs_logistic_regression_all.best_score_"
      ],
      "execution_count": null,
      "outputs": [
        {
          "output_type": "error",
          "ename": "AttributeError",
          "evalue": "ignored",
          "traceback": [
            "\u001b[0;31m---------------------------------------------------------------------------\u001b[0m",
            "\u001b[0;31mAttributeError\u001b[0m                            Traceback (most recent call last)",
            "\u001b[0;32m<ipython-input-84-467347baae06>\u001b[0m in \u001b[0;36m<module>\u001b[0;34m()\u001b[0m\n\u001b[0;32m----> 1\u001b[0;31m \u001b[0mrs_logistic_regression_all\u001b[0m\u001b[0;34m.\u001b[0m\u001b[0mbest_score_\u001b[0m\u001b[0;34m\u001b[0m\u001b[0;34m\u001b[0m\u001b[0m\n\u001b[0m",
            "\u001b[0;31mAttributeError\u001b[0m: 'LogisticRegression' object has no attribute 'best_score_'"
          ]
        }
      ]
    },
    {
      "cell_type": "code",
      "metadata": {
        "colab": {
          "base_uri": "https://localhost:8080/"
        },
        "id": "uMfWtlxz9MmZ",
        "outputId": "eb295213-f17f-4f23-9271-452e36deb4de"
      },
      "source": [
        "#rs_logistic_regression_all.best_params_"
      ],
      "execution_count": null,
      "outputs": [
        {
          "output_type": "execute_result",
          "data": {
            "text/plain": [
              "{'C': 29.763514416313132, 'penalty': 'l2', 'solver': 'liblinear'}"
            ]
          },
          "metadata": {
            "tags": []
          },
          "execution_count": 62
        }
      ]
    },
    {
      "cell_type": "code",
      "metadata": {
        "colab": {
          "base_uri": "https://localhost:8080/"
        },
        "id": "QXcbwzrB9Mma",
        "outputId": "2d2a60d1-81f8-4e91-a03f-811dca7d45a6"
      },
      "source": [
        "#rs_logistic_regression_clf.best_estimator_"
      ],
      "execution_count": null,
      "outputs": [
        {
          "output_type": "execute_result",
          "data": {
            "text/plain": [
              "LogisticRegression(C=4.281332398719396, class_weight=None, dual=False,\n",
              "                   fit_intercept=True, intercept_scaling=1, l1_ratio=None,\n",
              "                   max_iter=1024, multi_class='auto', n_jobs=None, penalty='l1',\n",
              "                   random_state=None, solver='liblinear', tol=0.0001, verbose=0,\n",
              "                   warm_start=False)"
            ]
          },
          "metadata": {
            "tags": []
          },
          "execution_count": 63
        }
      ]
    },
    {
      "cell_type": "code",
      "metadata": {
        "colab": {
          "base_uri": "https://localhost:8080/"
        },
        "id": "riZzuvt49Mma",
        "outputId": "60aca114-d0dd-42c7-a791-4e953cf85c58"
      },
      "source": [
        "# Print the optimal parameters and best score\n",
        "'''print(\"Tuned Logistic Regression Parameter: {}\".format(rs_logistic_regression_clf.best_params_))\n",
        "print(\"Tuned Logistic Regression Accuracy: {}\".format(rs_logistic_regression_clf.best_score_))\n",
        "print(\"Tuned Logistic Regression Estimator:  {}\".format(rs_logistic_regression_clf.best_estimator_))'''"
      ],
      "execution_count": null,
      "outputs": [
        {
          "output_type": "stream",
          "text": [
            "Tuned Logistic Regression Parameter: {'solver': 'liblinear', 'penalty': 'l1', 'C': 4.281332398719396}\n",
            "Tuned Logistic Regression Accuracy: 0.5126898344506772\n",
            "Tuned Logistic Regression Estimator:  LogisticRegression(C=4.281332398719396, class_weight=None, dual=False,\n",
            "                   fit_intercept=True, intercept_scaling=1, l1_ratio=None,\n",
            "                   max_iter=1024, multi_class='auto', n_jobs=None, penalty='l1',\n",
            "                   random_state=None, solver='liblinear', tol=0.0001, verbose=0,\n",
            "                   warm_start=False)\n"
          ],
          "name": "stdout"
        }
      ]
    },
    {
      "cell_type": "code",
      "metadata": {
        "colab": {
          "base_uri": "https://localhost:8080/"
        },
        "id": "ZaWrcWA3pesl",
        "outputId": "f2894b0f-9009-4b35-fda4-6f05ec03ff36"
      },
      "source": [
        "y_pred_lr_all = rs_logistic_regression_all.predict(test_features)\n",
        "print(classification_report(y_test, y_pred_lr_all))"
      ],
      "execution_count": null,
      "outputs": [
        {
          "output_type": "stream",
          "text": [
            "              precision    recall  f1-score   support\n",
            "\n",
            "       agree       0.47      0.57      0.52      1903\n",
            "    disagree       0.38      0.00      0.01       697\n",
            "     discuss       0.74      0.70      0.72      4464\n",
            "   unrelated       0.96      0.98      0.97     18349\n",
            "\n",
            "    accuracy                           0.88     25413\n",
            "   macro avg       0.63      0.56      0.55     25413\n",
            "weighted avg       0.87      0.88      0.86     25413\n",
            "\n"
          ],
          "name": "stdout"
        }
      ]
    },
    {
      "cell_type": "code",
      "metadata": {
        "colab": {
          "base_uri": "https://localhost:8080/"
        },
        "id": "AKp2QNjbV8_7",
        "outputId": "a6b47e62-70ee-4739-9e46-284dc2174c39"
      },
      "source": [
        "lr_accuracy_all = rs_logistic_regression_all.score(test_features, y_test)\n",
        "round(lr_accuracy_all, 4)"
      ],
      "execution_count": null,
      "outputs": [
        {
          "output_type": "execute_result",
          "data": {
            "text/plain": [
              "0.8752"
            ]
          },
          "metadata": {},
          "execution_count": 60
        }
      ]
    },
    {
      "cell_type": "code",
      "metadata": {
        "colab": {
          "base_uri": "https://localhost:8080/"
        },
        "id": "lM9i5ksRTwpD",
        "outputId": "53cc3bb4-7fbb-41bc-e68e-b5761dda68ba"
      },
      "source": [
        "cm_lr_all = confusion_matrix(y_test, y_pred_lr_all)\n",
        "for i in range(4):\n",
        "  print('')      \n",
        "  for y in range(4):\n",
        "    print(cm_lr_all[i, y], end='\\t')"
      ],
      "execution_count": null,
      "outputs": [
        {
          "output_type": "stream",
          "name": "stdout",
          "text": [
            "\n",
            "1084\t3\t633\t183\t\n",
            "320\t3\t200\t174\t\n",
            "853\t2\t3133\t476\t\n",
            "31\t0\t296\t18022\t"
          ]
        }
      ]
    },
    {
      "cell_type": "code",
      "metadata": {
        "colab": {
          "base_uri": "https://localhost:8080/"
        },
        "id": "AsCHHB1eo_fd",
        "outputId": "f21e6c5a-9c9a-4617-8de4-ba7c6c5e4696"
      },
      "source": [
        "cm_lr_all = cm_lr_all.astype('float') / cm_lr_all.sum(axis=1)[:, np.newaxis]\n",
        "cm_lr_all.diagonal()\n",
        "cm_lr_all_classes_accuracy = [round(a, 4) for a in cm_lr_all.diagonal()]\n",
        "for i in range(4):\n",
        "  print(cm_lr_all_classes_accuracy[i])"
      ],
      "execution_count": null,
      "outputs": [
        {
          "output_type": "stream",
          "name": "stdout",
          "text": [
            "0.5696\n",
            "0.0043\n",
            "0.7018\n",
            "0.9822\n"
          ]
        }
      ]
    },
    {
      "cell_type": "code",
      "metadata": {
        "colab": {
          "base_uri": "https://localhost:8080/",
          "height": 635
        },
        "id": "6qokGcFVxSve",
        "outputId": "4097b973-f0ec-472e-ef8c-d63708039172"
      },
      "source": [
        "fig, ax = plt.subplots(figsize=(11,11))\n",
        "ax.set_title('Logistic Regression\\n(all features)', fontdict = {'family':'sans-serif', 'weight':'normal', 'size': 14})\n",
        "plot_confusion_matrix(rs_logistic_regression_all, test_features, y_test, values_format='d', cmap='Blues', ax=ax)\n",
        "plt.show()"
      ],
      "execution_count": null,
      "outputs": [
        {
          "output_type": "display_data",
          "data": {
            "image/png": "[encoded data removed]",
            "text/plain": [
              "<Figure size 792x792 with 2 Axes>"
            ]
          },
          "metadata": {
            "needs_background": "light"
          }
        }
      ]
    },
    {
      "cell_type": "code",
      "metadata": {
        "colab": {
          "base_uri": "https://localhost:8080/",
          "height": 635
        },
        "id": "Cl2BIBjlpkUu",
        "outputId": "b51dfd6a-804e-4c79-902d-0709eaa55201"
      },
      "source": [
        "fig, ax = plt.subplots(figsize=(11,11))\n",
        "ax.set_title('Logistic Regression\\n(all features)', fontdict = {'family':'sans-serif', 'weight':'normal', 'size': 14})\n",
        "plot_confusion_matrix(rs_logistic_regression_all, test_features, y_test, cmap='Blues', ax=ax, normalize='true')\n",
        "plt.show()"
      ],
      "execution_count": null,
      "outputs": [
        {
          "output_type": "display_data",
          "data": {
            "image/png": "[encoded data removed]",
            "text/plain": [
              "<Figure size 792x792 with 2 Axes>"
            ]
          },
          "metadata": {
            "needs_background": "light"
          }
        }
      ]
    },
    {
      "cell_type": "markdown",
      "metadata": {
        "id": "v8kaqUnU8xqj"
      },
      "source": [
        "Avaliação sobre os dados de treino"
      ]
    },
    {
      "cell_type": "code",
      "metadata": {
        "colab": {
          "base_uri": "https://localhost:8080/"
        },
        "id": "bTZk0pKg82y3",
        "outputId": "175e90f4-7ed2-400b-99cd-025bbcc46003"
      },
      "source": [
        "y_pred_lr_all_train = rs_logistic_regression_all.predict(training_features)\n",
        "print(classification_report(y_train, y_pred_lr_all_train))"
      ],
      "execution_count": null,
      "outputs": [
        {
          "output_type": "stream",
          "text": [
            "              precision    recall  f1-score   support\n",
            "\n",
            "       agree       0.99      0.92      0.95     36545\n",
            "    disagree       0.92      0.99      0.96     36545\n",
            "     discuss       0.99      0.99      0.99     36545\n",
            "   unrelated       0.99      0.99      0.99     36545\n",
            "\n",
            "    accuracy                           0.97    146180\n",
            "   macro avg       0.97      0.97      0.97    146180\n",
            "weighted avg       0.97      0.97      0.97    146180\n",
            "\n"
          ],
          "name": "stdout"
        }
      ]
    },
    {
      "cell_type": "code",
      "metadata": {
        "colab": {
          "base_uri": "https://localhost:8080/"
        },
        "id": "NYf8VA5x-K_C",
        "outputId": "400735b7-3c03-4094-b6d2-8328eefcaec2"
      },
      "source": [
        "lr_accuracy_all_train = rs_logistic_regression_all.score(training_features, y_train)\n",
        "round(lr_accuracy_all_train, 4)"
      ],
      "execution_count": null,
      "outputs": [
        {
          "output_type": "execute_result",
          "data": {
            "text/plain": [
              "0.9735"
            ]
          },
          "metadata": {
            "tags": []
          },
          "execution_count": 82
        }
      ]
    },
    {
      "cell_type": "markdown",
      "metadata": {
        "id": "fnBUC8RmGgBV"
      },
      "source": [
        "### Naive Bayes (cosine similarity and word superposition)"
      ]
    },
    {
      "cell_type": "markdown",
      "metadata": {
        "id": "EwKqIe05A5G4"
      },
      "source": [
        "Tunning Hyperparameters"
      ]
    },
    {
      "cell_type": "code",
      "metadata": {
        "id": "w2jJlsZBA5G4"
      },
      "source": [
        "naive_bayes_clf = MultinomialNB(fit_prior=False)"
      ],
      "execution_count": null,
      "outputs": []
    },
    {
      "cell_type": "code",
      "metadata": {
        "id": "H-PZIpABA5G5"
      },
      "source": [
        "param_dist_nb = {\n",
        "    'alpha': np.logspace(-4, 4, 20)\n",
        "}     "
      ],
      "execution_count": null,
      "outputs": []
    },
    {
      "cell_type": "code",
      "metadata": {
        "id": "YOvFDPRWA5G6"
      },
      "source": [
        "scorer = make_scorer(accuracy_score)"
      ],
      "execution_count": null,
      "outputs": []
    },
    {
      "cell_type": "code",
      "metadata": {
        "id": "_CmutM1wA5G6"
      },
      "source": [
        "random_search_nb =\\\n",
        "    RandomizedSearchCV(\n",
        "        estimator=naive_bayes_clf,\n",
        "        param_distributions=param_dist_nb,        \n",
        "        cv=5,\n",
        "        scoring=scorer)"
      ],
      "execution_count": null,
      "outputs": []
    },
    {
      "cell_type": "code",
      "metadata": {
        "id": "dW5JoA2TA5G7"
      },
      "source": [
        "#rs_naive_bayes_clf = random_search_nb.fit(df_X_train, y_train)"
      ],
      "execution_count": null,
      "outputs": []
    },
    {
      "cell_type": "code",
      "metadata": {
        "id": "LE8H07RjPenG"
      },
      "source": [
        "#dump(rs_naive_bayes_clf, '/content/drive/MyDrive/Colab Notebooks/Stance Detection definitive edition FNC dataset v3 (random oversample)/rs_naive_bayes_clf_2021_07_27.joblib')\n",
        "rs_naive_bayes_clf = load('/content/drive/MyDrive/Colab Notebooks/Stance Detection definitive edition FNC dataset v3 (random oversample)/rs_naive_bayes_clf_2021_07_27.joblib')"
      ],
      "execution_count": null,
      "outputs": []
    },
    {
      "cell_type": "code",
      "metadata": {
        "colab": {
          "base_uri": "https://localhost:8080/"
        },
        "id": "zyArWKPjA5G7",
        "outputId": "17b9856f-648f-4146-d9b2-86646dc2d056"
      },
      "source": [
        "rs_naive_bayes_clf.best_score_"
      ],
      "execution_count": null,
      "outputs": [
        {
          "output_type": "execute_result",
          "data": {
            "text/plain": [
              "0.29488302093309615"
            ]
          },
          "metadata": {
            "tags": []
          },
          "execution_count": 83
        }
      ]
    },
    {
      "cell_type": "code",
      "metadata": {
        "colab": {
          "base_uri": "https://localhost:8080/"
        },
        "id": "jc3EWq7JA5G8",
        "outputId": "4548def8-3d6f-44fe-ea97-4b754505719c"
      },
      "source": [
        "rs_naive_bayes_clf.best_params_"
      ],
      "execution_count": null,
      "outputs": [
        {
          "output_type": "execute_result",
          "data": {
            "text/plain": [
              "{'alpha': 1438.44988828766}"
            ]
          },
          "metadata": {
            "tags": []
          },
          "execution_count": 84
        }
      ]
    },
    {
      "cell_type": "code",
      "metadata": {
        "colab": {
          "base_uri": "https://localhost:8080/"
        },
        "id": "r9zm6p3BA5G8",
        "outputId": "2dec049b-8be6-4fb8-d883-26bb7bbcd86e"
      },
      "source": [
        "rs_naive_bayes_clf.best_estimator_"
      ],
      "execution_count": null,
      "outputs": [
        {
          "output_type": "execute_result",
          "data": {
            "text/plain": [
              "MultinomialNB(alpha=1438.44988828766, class_prior=None, fit_prior=False)"
            ]
          },
          "metadata": {
            "tags": []
          },
          "execution_count": 85
        }
      ]
    },
    {
      "cell_type": "code",
      "metadata": {
        "colab": {
          "base_uri": "https://localhost:8080/"
        },
        "id": "RQ5UkgljA5G8",
        "outputId": "c205b55c-59b3-49c9-be70-dc5a87faea53"
      },
      "source": [
        "# Print the optimal parameters and best score\n",
        "print(\"Tuned Logistic Regression Parameter: {}\".format(rs_naive_bayes_clf.best_params_))\n",
        "print(\"Tuned Logistic Regression Accuracy: {}\".format(rs_naive_bayes_clf.best_score_))\n",
        "print(\"Tuned Logistic Regression Estimator:  {}\".format(rs_naive_bayes_clf.best_estimator_))"
      ],
      "execution_count": null,
      "outputs": [
        {
          "output_type": "stream",
          "text": [
            "Tuned Logistic Regression Parameter: {'alpha': 1438.44988828766}\n",
            "Tuned Logistic Regression Accuracy: 0.29488302093309615\n",
            "Tuned Logistic Regression Estimator:  MultinomialNB(alpha=1438.44988828766, class_prior=None, fit_prior=False)\n"
          ],
          "name": "stdout"
        }
      ]
    },
    {
      "cell_type": "code",
      "metadata": {
        "colab": {
          "base_uri": "https://localhost:8080/"
        },
        "id": "kL86_jGa0N7V",
        "outputId": "b250d28f-2934-439c-eac7-a9b77e5dddd9"
      },
      "source": [
        "y_pred_nb = rs_naive_bayes_clf.predict(df_X_test)\n",
        "print(classification_report(y_test, y_pred_nb, zero_division=0))"
      ],
      "execution_count": null,
      "outputs": [
        {
          "output_type": "stream",
          "text": [
            "              precision    recall  f1-score   support\n",
            "\n",
            "       agree       0.02      0.12      0.03      1903\n",
            "    disagree       0.07      0.65      0.13       697\n",
            "     discuss       0.33      0.02      0.03      4464\n",
            "   unrelated       0.78      0.26      0.39     18349\n",
            "\n",
            "    accuracy                           0.22     25413\n",
            "   macro avg       0.30      0.26      0.15     25413\n",
            "weighted avg       0.62      0.22      0.29     25413\n",
            "\n"
          ],
          "name": "stdout"
        }
      ]
    },
    {
      "cell_type": "code",
      "metadata": {
        "colab": {
          "base_uri": "https://localhost:8080/"
        },
        "id": "-JpCTLn_ziCo",
        "outputId": "80a3812c-cd05-4d67-9da0-18688cabd6bc"
      },
      "source": [
        "nb_accuracy = rs_naive_bayes_clf.score(df_X_test, y_test)\n",
        "round(nb_accuracy, 4)"
      ],
      "execution_count": null,
      "outputs": [
        {
          "output_type": "execute_result",
          "data": {
            "text/plain": [
              "0.2178"
            ]
          },
          "metadata": {
            "tags": []
          },
          "execution_count": 88
        }
      ]
    },
    {
      "cell_type": "code",
      "metadata": {
        "colab": {
          "base_uri": "https://localhost:8080/"
        },
        "id": "VF0l06KXr0Ns",
        "outputId": "77403b14-f533-40dc-d8d5-65ca4867d7e7"
      },
      "source": [
        "cm_nb = confusion_matrix(y_test, y_pred_nb)\n",
        "for i in range(4):\n",
        "  print('')      \n",
        "  for y in range(4):\n",
        "    print(cm_nb[i, y], end='\\t')"
      ],
      "execution_count": null,
      "outputs": [
        {
          "output_type": "stream",
          "text": [
            "\n",
            "220\t1340\t47\t296\t\n",
            "70\t455\t11\t161\t\n",
            "576\t2940\t67\t881\t\n",
            "12013\t1462\t81\t4793\t"
          ],
          "name": "stdout"
        }
      ]
    },
    {
      "cell_type": "code",
      "metadata": {
        "colab": {
          "base_uri": "https://localhost:8080/"
        },
        "id": "KT3SOAJJr0Nz",
        "outputId": "8e6c9fee-edc6-4745-96cd-7768345e54ee"
      },
      "source": [
        "cm_nb = cm_nb.astype('float') / cm_nb.sum(axis=1)[:, np.newaxis]\n",
        "cm_nb.diagonal()\n",
        "cm_nb_classes_accuracy = [round(a, 4) for a in cm_nb.diagonal()]\n",
        "for i in range(4):\n",
        "  print(cm_nb_classes_accuracy[i])"
      ],
      "execution_count": null,
      "outputs": [
        {
          "output_type": "stream",
          "text": [
            "0.1156\n",
            "0.6528\n",
            "0.015\n",
            "0.2612\n"
          ],
          "name": "stdout"
        }
      ]
    },
    {
      "cell_type": "code",
      "metadata": {
        "colab": {
          "base_uri": "https://localhost:8080/",
          "height": 632
        },
        "id": "hcnMy1zC1G50",
        "outputId": "f481e66b-0800-4ce8-870b-2e108b22583b"
      },
      "source": [
        "fig, ax = plt.subplots(figsize=(11,11))\n",
        "ax.set_title('Naive Bayes\\n(cosine similarity and word superposition)', fontdict = {'family':'sans-serif', 'weight':'normal', 'size': 14})\n",
        "plot_confusion_matrix(rs_naive_bayes_clf, df_X_test, y_test, values_format='d', cmap='Blues', ax=ax)\n",
        "plt.show()"
      ],
      "execution_count": null,
      "outputs": [
        {
          "output_type": "display_data",
          "data": {
            "image/png": "[encoded data removed]",
            "text/plain": [
              "<Figure size 792x792 with 2 Axes>"
            ]
          },
          "metadata": {
            "tags": []
          }
        }
      ]
    },
    {
      "cell_type": "code",
      "metadata": {
        "colab": {
          "base_uri": "https://localhost:8080/",
          "height": 629
        },
        "id": "0TmAU2lCsas8",
        "outputId": "a1149a0e-0ba9-40ed-c9a0-5c43a7948039"
      },
      "source": [
        "fig, ax = plt.subplots(figsize=(11,11))\n",
        "ax.set_title('Naive Bayes\\n(cosine similarity and word superposition)', fontdict = {'family':'sans-serif', 'weight':'normal', 'size': 14})\n",
        "plot_confusion_matrix(rs_naive_bayes_clf, df_X_test, y_test, cmap='Blues', ax=ax, normalize='true')\n",
        "plt.show()"
      ],
      "execution_count": null,
      "outputs": [
        {
          "output_type": "display_data",
          "data": {
            "image/png": "[encoded data removed]",
            "text/plain": [
              "<Figure size 792x792 with 2 Axes>"
            ]
          },
          "metadata": {
            "tags": []
          }
        }
      ]
    },
    {
      "cell_type": "markdown",
      "metadata": {
        "id": "LACc1TboG9hO"
      },
      "source": [
        "### Naive Bayes (all features)"
      ]
    },
    {
      "cell_type": "markdown",
      "metadata": {
        "id": "pwBzLpO9C0ih"
      },
      "source": [
        "Tunning Hyperparameters"
      ]
    },
    {
      "cell_type": "code",
      "metadata": {
        "id": "ZYqAOhbrC0iq"
      },
      "source": [
        "naive_bayes_all = MultinomialNB()"
      ],
      "execution_count": null,
      "outputs": []
    },
    {
      "cell_type": "code",
      "metadata": {
        "id": "mh1-nse1DSS_"
      },
      "source": [
        "param_dist_nb = {\n",
        "    'alpha': np.logspace(-4, 4, 20)\n",
        "}     "
      ],
      "execution_count": null,
      "outputs": []
    },
    {
      "cell_type": "code",
      "metadata": {
        "id": "TpNnRCXvDSTA"
      },
      "source": [
        "scorer = make_scorer(accuracy_score)"
      ],
      "execution_count": null,
      "outputs": []
    },
    {
      "cell_type": "code",
      "metadata": {
        "id": "oUDPzIomDSTB"
      },
      "source": [
        "random_search_nb_all =\\\n",
        "    RandomizedSearchCV(\n",
        "        estimator=naive_bayes_all,\n",
        "        param_distributions=param_dist_nb,        \n",
        "        cv=5,\n",
        "        scoring=scorer)"
      ],
      "execution_count": null,
      "outputs": []
    },
    {
      "cell_type": "code",
      "metadata": {
        "id": "P6N3NjyfC0ir"
      },
      "source": [
        "#rs_naive_bayes_all = random_search_nb_all.fit(training_features, y_train)"
      ],
      "execution_count": null,
      "outputs": []
    },
    {
      "cell_type": "code",
      "metadata": {
        "id": "X_d_VylGQEVr"
      },
      "source": [
        "#dump(rs_naive_bayes_all, '/content/drive/MyDrive/Colab Notebooks/Stance Detection definitive edition FNC dataset v3 (random oversample)/rs_naive_bayes_all_2021_07_27.joblib')\n",
        "rs_naive_bayes_all = load('/content/drive/MyDrive/Colab Notebooks/Stance Detection definitive edition FNC dataset v3 (random oversample)/rs_naive_bayes_all_2021_07_27.joblib')"
      ],
      "execution_count": null,
      "outputs": []
    },
    {
      "cell_type": "code",
      "metadata": {
        "colab": {
          "base_uri": "https://localhost:8080/"
        },
        "id": "dyiMD3t0C0ir",
        "outputId": "7e1d3c35-c83e-4405-ce1a-2560f66932e6"
      },
      "source": [
        "rs_naive_bayes_all.best_score_"
      ],
      "execution_count": null,
      "outputs": [
        {
          "output_type": "execute_result",
          "data": {
            "text/plain": [
              "0.6300451498152961"
            ]
          },
          "metadata": {
            "tags": []
          },
          "execution_count": 99
        }
      ]
    },
    {
      "cell_type": "code",
      "metadata": {
        "colab": {
          "base_uri": "https://localhost:8080/"
        },
        "id": "FZsfQnKUC0is",
        "outputId": "5500af72-5f07-4766-8550-336c4fd55274"
      },
      "source": [
        "rs_naive_bayes_all.best_params_"
      ],
      "execution_count": null,
      "outputs": [
        {
          "output_type": "execute_result",
          "data": {
            "text/plain": [
              "{'alpha': 1.623776739188721}"
            ]
          },
          "metadata": {
            "tags": []
          },
          "execution_count": 100
        }
      ]
    },
    {
      "cell_type": "code",
      "metadata": {
        "colab": {
          "base_uri": "https://localhost:8080/"
        },
        "id": "ustB-jMEC0is",
        "outputId": "7cabeb54-6473-4879-ee26-11a8f5d5ccf9"
      },
      "source": [
        "rs_naive_bayes_all.best_estimator_"
      ],
      "execution_count": null,
      "outputs": [
        {
          "output_type": "execute_result",
          "data": {
            "text/plain": [
              "MultinomialNB(alpha=1.623776739188721, class_prior=None, fit_prior=True)"
            ]
          },
          "metadata": {
            "tags": []
          },
          "execution_count": 101
        }
      ]
    },
    {
      "cell_type": "code",
      "metadata": {
        "colab": {
          "base_uri": "https://localhost:8080/"
        },
        "id": "vMIjp8nHC0is",
        "outputId": "df71c92e-cb20-4969-a08a-e0ad101f446f"
      },
      "source": [
        "# Print the optimal parameters and best score\n",
        "print(\"Tuned Logistic Regression Parameter: {}\".format(rs_naive_bayes_all.best_params_))\n",
        "print(\"Tuned Logistic Regression Accuracy: {}\".format(rs_naive_bayes_all.best_score_))\n",
        "print(\"Tuned Logistic Regression Estimator:  {}\".format(rs_naive_bayes_all.best_estimator_))"
      ],
      "execution_count": null,
      "outputs": [
        {
          "output_type": "stream",
          "text": [
            "Tuned Logistic Regression Parameter: {'alpha': 1.623776739188721}\n",
            "Tuned Logistic Regression Accuracy: 0.6300451498152961\n",
            "Tuned Logistic Regression Estimator:  MultinomialNB(alpha=1.623776739188721, class_prior=None, fit_prior=True)\n"
          ],
          "name": "stdout"
        }
      ]
    },
    {
      "cell_type": "code",
      "metadata": {
        "colab": {
          "base_uri": "https://localhost:8080/"
        },
        "id": "gizWLtnRKwil",
        "outputId": "03c88d6b-711d-438a-97ed-e070d9ae994b"
      },
      "source": [
        "y_pred_nb_all = rs_naive_bayes_all.predict(test_features)\n",
        "print(classification_report(y_test, y_pred_nb_all))"
      ],
      "execution_count": null,
      "outputs": [
        {
          "output_type": "stream",
          "text": [
            "              precision    recall  f1-score   support\n",
            "\n",
            "       agree       0.16      0.53      0.25      1903\n",
            "    disagree       0.13      0.09      0.11       697\n",
            "     discuss       0.28      0.43      0.34      4464\n",
            "   unrelated       0.82      0.53      0.65     18349\n",
            "\n",
            "    accuracy                           0.50     25413\n",
            "   macro avg       0.35      0.40      0.34     25413\n",
            "weighted avg       0.66      0.50      0.55     25413\n",
            "\n"
          ],
          "name": "stdout"
        }
      ]
    },
    {
      "cell_type": "code",
      "metadata": {
        "colab": {
          "base_uri": "https://localhost:8080/"
        },
        "id": "9YePyWJMH_QP",
        "outputId": "c4b3fcfc-f079-4536-9238-ba56051794f7"
      },
      "source": [
        "nb_accuracy_all = rs_naive_bayes_all.score(test_features, y_test)\n",
        "round(nb_accuracy_all, 4)"
      ],
      "execution_count": null,
      "outputs": [
        {
          "output_type": "execute_result",
          "data": {
            "text/plain": [
              "0.5012"
            ]
          },
          "metadata": {
            "tags": []
          },
          "execution_count": 104
        }
      ]
    },
    {
      "cell_type": "code",
      "metadata": {
        "colab": {
          "base_uri": "https://localhost:8080/"
        },
        "id": "ALiVJxoj0K6D",
        "outputId": "abe01749-0831-474c-ead9-5df6c749702c"
      },
      "source": [
        "cm_nb_all = confusion_matrix(y_test, y_pred_nb_all)\n",
        "for i in range(4):\n",
        "  print('')      \n",
        "  for y in range(4):\n",
        "    print(cm_nb_all[i, y], end='\\t')"
      ],
      "execution_count": null,
      "outputs": [
        {
          "output_type": "stream",
          "text": [
            "\n",
            "1003\t83\t313\t504\t\n",
            "327\t66\t67\t237\t\n",
            "1116\t87\t1920\t1341\t\n",
            "3756\t280\t4565\t9748\t"
          ],
          "name": "stdout"
        }
      ]
    },
    {
      "cell_type": "code",
      "metadata": {
        "colab": {
          "base_uri": "https://localhost:8080/"
        },
        "id": "abfUxOnU0K6J",
        "outputId": "b8be9681-85b3-4894-be14-90a5ac607d6c"
      },
      "source": [
        "cm_nb_all = cm_nb_all.astype('float') / cm_nb_all.sum(axis=1)[:, np.newaxis]\n",
        "cm_nb_all.diagonal()\n",
        "cm_nb_all_classes_accuracy = [round(a, 4) for a in cm_nb_all.diagonal()]\n",
        "for i in range(4):\n",
        "  print(cm_nb_all_classes_accuracy[i])"
      ],
      "execution_count": null,
      "outputs": [
        {
          "output_type": "stream",
          "text": [
            "0.5271\n",
            "0.0947\n",
            "0.4301\n",
            "0.5313\n"
          ],
          "name": "stdout"
        }
      ]
    },
    {
      "cell_type": "code",
      "metadata": {
        "colab": {
          "base_uri": "https://localhost:8080/",
          "height": 629
        },
        "id": "PV3jHB9tLNgj",
        "outputId": "79b60a4a-2e5e-4e26-bcd2-af6dd4b6b22e"
      },
      "source": [
        "fig, ax = plt.subplots(figsize=(11,11))\n",
        "ax.set_title('Naive Bayes\\n(all features)', fontdict = {'family':'sans-serif', 'weight':'normal', 'size': 14})\n",
        "plot_confusion_matrix(rs_naive_bayes_all, test_features, y_test, values_format='d', cmap='Blues', ax=ax)\n",
        "plt.show()"
      ],
      "execution_count": null,
      "outputs": [
        {
          "output_type": "display_data",
          "data": {
            "image/png": "[encoded data removed]",
            "text/plain": [
              "<Figure size 792x792 with 2 Axes>"
            ]
          },
          "metadata": {
            "tags": []
          }
        }
      ]
    },
    {
      "cell_type": "code",
      "metadata": {
        "colab": {
          "base_uri": "https://localhost:8080/",
          "height": 629
        },
        "id": "fqQUwAMq0Zsv",
        "outputId": "de2c3ccf-133a-4dba-ced5-b42e08614442"
      },
      "source": [
        "fig, ax = plt.subplots(figsize=(11,11))\n",
        "ax.set_title('Naive Bayes\\n(all features)', fontdict = {'family':'sans-serif', 'weight':'normal', 'size': 14})\n",
        "plot_confusion_matrix(rs_naive_bayes_all, test_features, y_test, cmap='Blues', ax=ax, normalize='true')\n",
        "plt.show()"
      ],
      "execution_count": null,
      "outputs": [
        {
          "output_type": "display_data",
          "data": {
            "image/png": "[encoded data removed]",
            "text/plain": [
              "<Figure size 792x792 with 2 Axes>"
            ]
          },
          "metadata": {
            "tags": []
          }
        }
      ]
    },
    {
      "cell_type": "markdown",
      "metadata": {
        "id": "edL9FgScWTGV"
      },
      "source": [
        "### Random Forest (cosine similarity and word superposition)"
      ]
    },
    {
      "cell_type": "markdown",
      "metadata": {
        "id": "KZoHm4RPEgVo"
      },
      "source": [
        "Tunning Hyperparameters"
      ]
    },
    {
      "cell_type": "code",
      "metadata": {
        "id": "IE9_AJQXEgVo"
      },
      "source": [
        "#random_forest_clf = RandomForestClassifier()"
      ],
      "execution_count": null,
      "outputs": []
    },
    {
      "cell_type": "code",
      "metadata": {
        "id": "OdCH5zFpEgVo"
      },
      "source": [
        "#param_dist_rf = {'n_estimators' : list(range(10,101,10))}"
      ],
      "execution_count": null,
      "outputs": []
    },
    {
      "cell_type": "code",
      "metadata": {
        "id": "QZQtaE54EgVo"
      },
      "source": [
        "#scorer = make_scorer(accuracy_score)"
      ],
      "execution_count": null,
      "outputs": []
    },
    {
      "cell_type": "code",
      "metadata": {
        "id": "1vdeyRSCEgVo"
      },
      "source": [
        "'''random_search_rf =\\\n",
        "    RandomizedSearchCV(\n",
        "        estimator=random_forest_clf,\n",
        "        param_distributions=param_dist_rf,        \n",
        "        cv=5,\n",
        "        scoring=scorer)'''"
      ],
      "execution_count": null,
      "outputs": []
    },
    {
      "cell_type": "code",
      "metadata": {
        "id": "zkvVVp6dEgVo"
      },
      "source": [
        "#rs_random_forest_clf = random_search_rf.fit(df_X_train, y_train)"
      ],
      "execution_count": null,
      "outputs": []
    },
    {
      "cell_type": "code",
      "metadata": {
        "id": "EJ9eeyQxQced"
      },
      "source": [
        "#dump(rs_random_forest_clf, '/content/drive/MyDrive/Colab Notebooks/Stance Detection definitive edition FNC dataset v3 (random oversample)/rs_random_forest_clf_2021_07_27.joblib')\n",
        "rs_random_forest_clf = load('/content/drive/MyDrive/Colab Notebooks/Stance Detection definitive edition FNC dataset v3 (random oversample)/rs_random_forest_clf_2021_07_27.joblib')"
      ],
      "execution_count": null,
      "outputs": []
    },
    {
      "cell_type": "code",
      "metadata": {
        "colab": {
          "base_uri": "https://localhost:8080/"
        },
        "id": "JBd38vQPQOKS",
        "outputId": "18400dbd-79b3-45d8-a959-f83306f0df9f"
      },
      "source": [
        "cross_val_score(estimator=rs_random_forest_clf, X=df_X_test, y=y_test, cv=5)"
      ],
      "execution_count": null,
      "outputs": [
        {
          "output_type": "execute_result",
          "data": {
            "text/plain": [
              "array([0.85362975, 0.8510722 , 0.84812119, 0.8364817 , 0.83963007])"
            ]
          },
          "metadata": {
            "tags": []
          },
          "execution_count": 86
        }
      ]
    },
    {
      "cell_type": "code",
      "metadata": {
        "colab": {
          "base_uri": "https://localhost:8080/"
        },
        "id": "v6_D3icJEgVp",
        "outputId": "5a62c0f6-92a5-4a7c-ca3b-32987f29d7cc"
      },
      "source": [
        "rs_random_forest_clf.best_score_"
      ],
      "execution_count": null,
      "outputs": [
        {
          "output_type": "execute_result",
          "data": {
            "text/plain": [
              "0.9773087973731016"
            ]
          },
          "metadata": {
            "tags": []
          },
          "execution_count": 87
        }
      ]
    },
    {
      "cell_type": "code",
      "metadata": {
        "colab": {
          "base_uri": "https://localhost:8080/"
        },
        "id": "iLPiah8eEgVp",
        "outputId": "8fd85c90-4f90-49fc-e216-dc078094b676"
      },
      "source": [
        "rs_random_forest_clf.best_params_"
      ],
      "execution_count": null,
      "outputs": [
        {
          "output_type": "execute_result",
          "data": {
            "text/plain": [
              "{'n_estimators': 80}"
            ]
          },
          "metadata": {
            "tags": []
          },
          "execution_count": 88
        }
      ]
    },
    {
      "cell_type": "code",
      "metadata": {
        "colab": {
          "base_uri": "https://localhost:8080/"
        },
        "id": "rc8Cu-KQEgVp",
        "outputId": "bc263064-50f0-4a13-a5c9-94ea0ec60cc6"
      },
      "source": [
        "rs_random_forest_clf.best_estimator_"
      ],
      "execution_count": null,
      "outputs": [
        {
          "output_type": "execute_result",
          "data": {
            "text/plain": [
              "RandomForestClassifier(bootstrap=True, ccp_alpha=0.0, class_weight=None,\n",
              "                       criterion='gini', max_depth=None, max_features='auto',\n",
              "                       max_leaf_nodes=None, max_samples=None,\n",
              "                       min_impurity_decrease=0.0, min_impurity_split=None,\n",
              "                       min_samples_leaf=1, min_samples_split=2,\n",
              "                       min_weight_fraction_leaf=0.0, n_estimators=80,\n",
              "                       n_jobs=None, oob_score=False, random_state=None,\n",
              "                       verbose=0, warm_start=False)"
            ]
          },
          "metadata": {
            "tags": []
          },
          "execution_count": 89
        }
      ]
    },
    {
      "cell_type": "code",
      "metadata": {
        "colab": {
          "base_uri": "https://localhost:8080/"
        },
        "id": "vhjhKoAlEgVp",
        "outputId": "e5643e32-d595-4ddb-f091-6a5f2275a5f7"
      },
      "source": [
        "# Print the optimal parameters and best score\n",
        "print(\"Tuned Logistic Regression Parameter: {}\".format(rs_random_forest_clf.best_params_))\n",
        "print(\"Tuned Logistic Regression Accuracy: {}\".format(rs_random_forest_clf.best_score_))\n",
        "print(\"Tuned Logistic Regression Estimator:  {}\".format(rs_random_forest_clf.best_estimator_))"
      ],
      "execution_count": null,
      "outputs": [
        {
          "output_type": "stream",
          "text": [
            "Tuned Logistic Regression Parameter: {'n_estimators': 80}\n",
            "Tuned Logistic Regression Accuracy: 0.9773087973731016\n",
            "Tuned Logistic Regression Estimator:  RandomForestClassifier(bootstrap=True, ccp_alpha=0.0, class_weight=None,\n",
            "                       criterion='gini', max_depth=None, max_features='auto',\n",
            "                       max_leaf_nodes=None, max_samples=None,\n",
            "                       min_impurity_decrease=0.0, min_impurity_split=None,\n",
            "                       min_samples_leaf=1, min_samples_split=2,\n",
            "                       min_weight_fraction_leaf=0.0, n_estimators=80,\n",
            "                       n_jobs=None, oob_score=False, random_state=None,\n",
            "                       verbose=0, warm_start=False)\n"
          ],
          "name": "stdout"
        }
      ]
    },
    {
      "cell_type": "code",
      "metadata": {
        "colab": {
          "base_uri": "https://localhost:8080/"
        },
        "id": "s0NGtG7A3hsQ",
        "outputId": "04dcd96a-bf57-438e-b655-19ab12f5d2f3"
      },
      "source": [
        "y_pred_rf = rs_random_forest_clf.predict(df_X_test)\n",
        "print(classification_report(y_test, y_pred_rf))"
      ],
      "execution_count": null,
      "outputs": [
        {
          "output_type": "stream",
          "text": [
            "              precision    recall  f1-score   support\n",
            "\n",
            "       agree       0.26      0.24      0.25      1903\n",
            "    disagree       0.10      0.05      0.06       697\n",
            "     discuss       0.58      0.66      0.62      4464\n",
            "   unrelated       0.97      0.97      0.97     18349\n",
            "\n",
            "    accuracy                           0.83     25413\n",
            "   macro avg       0.48      0.48      0.47     25413\n",
            "weighted avg       0.82      0.83      0.83     25413\n",
            "\n"
          ],
          "name": "stdout"
        }
      ]
    },
    {
      "cell_type": "code",
      "metadata": {
        "colab": {
          "base_uri": "https://localhost:8080/"
        },
        "id": "82Hlxk993VFl",
        "outputId": "3a3f5217-cbca-43a6-8ecf-c1b821ac9368"
      },
      "source": [
        "rf_accuracy = rs_random_forest_clf.score(df_X_test, y_test)\n",
        "round(rf_accuracy, 4)"
      ],
      "execution_count": null,
      "outputs": [
        {
          "output_type": "execute_result",
          "data": {
            "text/plain": [
              "0.8313"
            ]
          },
          "metadata": {
            "tags": []
          },
          "execution_count": 92
        }
      ]
    },
    {
      "cell_type": "code",
      "metadata": {
        "colab": {
          "base_uri": "https://localhost:8080/"
        },
        "id": "xF8AA7fR15_D",
        "outputId": "77b6b361-b7b9-472d-b6c9-2b9f5dd2d0ed"
      },
      "source": [
        "cm_rf = confusion_matrix(y_test, y_pred_rf)\n",
        "for i in range(4):\n",
        "  print('')      \n",
        "  for y in range(4):\n",
        "    print(cm_rf[i, y], end='\\t')"
      ],
      "execution_count": null,
      "outputs": [
        {
          "output_type": "stream",
          "text": [
            "\n",
            "449\t63\t1246\t145\t\n",
            "132\t32\t396\t137\t\n",
            "1035\t172\t2931\t326\t\n",
            "140\t51\t445\t17713\t"
          ],
          "name": "stdout"
        }
      ]
    },
    {
      "cell_type": "code",
      "metadata": {
        "colab": {
          "base_uri": "https://localhost:8080/"
        },
        "id": "IOuHQq7N15_J",
        "outputId": "d0a694c0-3aa4-4f8c-847f-66cda08b9c44"
      },
      "source": [
        "cm_rf = cm_rf.astype('float') / cm_rf.sum(axis=1)[:, np.newaxis]\n",
        "cm_rf.diagonal()\n",
        "cm_rf_classes_accuracy = [round(a, 4) for a in cm_rf.diagonal()]\n",
        "for i in range(4):\n",
        "  print(cm_rf_classes_accuracy[i])"
      ],
      "execution_count": null,
      "outputs": [
        {
          "output_type": "stream",
          "text": [
            "0.2359\n",
            "0.0459\n",
            "0.6566\n",
            "0.9653\n"
          ],
          "name": "stdout"
        }
      ]
    },
    {
      "cell_type": "code",
      "metadata": {
        "colab": {
          "base_uri": "https://localhost:8080/",
          "height": 629
        },
        "id": "HcOLfTUe4ZOE",
        "outputId": "370e0281-b215-4112-8753-9b9690a23c5b"
      },
      "source": [
        "fig, ax = plt.subplots(figsize=(11,11))\n",
        "ax.set_title('Random Forest\\n(cosine similarity and word superposition)', fontdict = {'family':'sans-serif', 'weight':'normal', 'size': 14})\n",
        "plot_confusion_matrix(rs_random_forest_clf, df_X_test, y_test, values_format='d', cmap='Blues', ax=ax)\n",
        "plt.show()"
      ],
      "execution_count": null,
      "outputs": [
        {
          "output_type": "display_data",
          "data": {
            "image/png": "[encoded data removed]",
            "text/plain": [
              "<Figure size 792x792 with 2 Axes>"
            ]
          },
          "metadata": {
            "tags": []
          }
        }
      ]
    },
    {
      "cell_type": "code",
      "metadata": {
        "colab": {
          "base_uri": "https://localhost:8080/",
          "height": 629
        },
        "id": "5CIs98Wn2Qz7",
        "outputId": "85464a12-e7c3-4c6b-cc04-3558800a5363"
      },
      "source": [
        "fig, ax = plt.subplots(figsize=(11,11))\n",
        "ax.set_title('Random Forest\\n(cosine similarity and word superposition)', fontdict = {'family':'sans-serif', 'weight':'normal', 'size': 14})\n",
        "plot_confusion_matrix(rs_random_forest_clf, df_X_test, y_test, cmap='Blues', ax=ax, normalize='true')\n",
        "plt.show()"
      ],
      "execution_count": null,
      "outputs": [
        {
          "output_type": "display_data",
          "data": {
            "image/png": "[encoded data removed]",
            "text/plain": [
              "<Figure size 792x792 with 2 Axes>"
            ]
          },
          "metadata": {
            "tags": []
          }
        }
      ]
    },
    {
      "cell_type": "markdown",
      "metadata": {
        "id": "ldE58kXMBkJB"
      },
      "source": [
        "Avaliação sobre os dados de treino"
      ]
    },
    {
      "cell_type": "code",
      "metadata": {
        "colab": {
          "base_uri": "https://localhost:8080/"
        },
        "id": "fT-hINn4BoCm",
        "outputId": "ef049319-599b-47e6-d302-5798182dd914"
      },
      "source": [
        "y_pred_rf_train = rs_random_forest_clf.predict(df_X_train)\n",
        "print(classification_report(y_train, y_pred_rf_train))"
      ],
      "execution_count": null,
      "outputs": [
        {
          "output_type": "stream",
          "text": [
            "              precision    recall  f1-score   support\n",
            "\n",
            "       agree       0.99      0.98      0.98     36545\n",
            "    disagree       0.99      0.99      0.99     36545\n",
            "     discuss       1.00      0.98      0.99     36545\n",
            "   unrelated       0.98      1.00      0.99     36545\n",
            "\n",
            "    accuracy                           0.99    146180\n",
            "   macro avg       0.99      0.99      0.99    146180\n",
            "weighted avg       0.99      0.99      0.99    146180\n",
            "\n"
          ],
          "name": "stdout"
        }
      ]
    },
    {
      "cell_type": "code",
      "metadata": {
        "colab": {
          "base_uri": "https://localhost:8080/"
        },
        "id": "KZlale4rCBRg",
        "outputId": "67a9b4c6-0b83-40b3-a491-1296b1c0f2ba"
      },
      "source": [
        "rf_accuracy_train = rs_random_forest_clf.score(df_X_train, y_train)\n",
        "round(rf_accuracy_train, 4)"
      ],
      "execution_count": null,
      "outputs": [
        {
          "output_type": "execute_result",
          "data": {
            "text/plain": [
              "0.987"
            ]
          },
          "metadata": {
            "tags": []
          },
          "execution_count": 98
        }
      ]
    },
    {
      "cell_type": "markdown",
      "metadata": {
        "id": "cQfRfDFIuKs0"
      },
      "source": [
        "### Random Forest (all features)"
      ]
    },
    {
      "cell_type": "markdown",
      "metadata": {
        "id": "kIhsThkvGhdn"
      },
      "source": [
        "Tunning Hyperparameters"
      ]
    },
    {
      "cell_type": "code",
      "metadata": {
        "id": "3aHw3j3wGhdo"
      },
      "source": [
        "random_forest_all = RandomForestClassifier()"
      ],
      "execution_count": null,
      "outputs": []
    },
    {
      "cell_type": "code",
      "metadata": {
        "colab": {
          "background_save": true
        },
        "id": "X4u7NpoLCaTh"
      },
      "source": [
        "random_forest_all = RandomForestClassifier()\n",
        "rs_random_forest_all = random_forest_all.fit(training_features, y_train)"
      ],
      "execution_count": null,
      "outputs": []
    },
    {
      "cell_type": "code",
      "metadata": {
        "id": "2JxTItxxGhdo"
      },
      "source": [
        "param_dist_rf = {'n_estimators': 80}"
      ],
      "execution_count": null,
      "outputs": []
    },
    {
      "cell_type": "code",
      "metadata": {
        "id": "BZzVhW45Ghdo"
      },
      "source": [
        "scorer = make_scorer(accuracy_score)"
      ],
      "execution_count": null,
      "outputs": []
    },
    {
      "cell_type": "code",
      "metadata": {
        "id": "5NeUtR5ZGhdp"
      },
      "source": [
        "random_search_rf_all =\\\n",
        "    RandomizedSearchCV(\n",
        "        estimator=random_forest_clf,\n",
        "        param_distributions=param_dist_rf,        \n",
        "        cv=5,\n",
        "        scoring=scorer)"
      ],
      "execution_count": null,
      "outputs": []
    },
    {
      "cell_type": "code",
      "metadata": {
        "id": "I1wdyHyMGhdp"
      },
      "source": [
        "rs_random_forest_all = random_search_rf.fit(training_features, y_train)"
      ],
      "execution_count": null,
      "outputs": []
    },
    {
      "cell_type": "code",
      "metadata": {
        "id": "jmB1aNTvQyip"
      },
      "source": [
        " dump(rs_random_forest_all, '/content/drive/MyDrive/Colab Notebooks/Stance Detection definitive edition FNC dataset v3 (random oversample)/rs_random_forest_all_2021_07_27.joblib')\n",
        "#rs_random_forest_all = load('/content/drive/MyDrive/Colab Notebooks/Stance Detection definitive edition FNC dataset v3 (random oversample)/rs_random_forest_all_2021_07_27.joblib')"
      ],
      "execution_count": null,
      "outputs": []
    },
    {
      "cell_type": "code",
      "metadata": {
        "colab": {
          "base_uri": "https://localhost:8080/",
          "height": 163
        },
        "id": "SCfWoddSGhdp",
        "outputId": "93c8991e-f6ba-4006-a784-ed139b3c5877"
      },
      "source": [
        "rs_random_forest_all.best_score_"
      ],
      "execution_count": null,
      "outputs": [
        {
          "output_type": "error",
          "ename": "AttributeError",
          "evalue": "ignored",
          "traceback": [
            "\u001b[0;31m---------------------------------------------------------------------------\u001b[0m",
            "\u001b[0;31mAttributeError\u001b[0m                            Traceback (most recent call last)",
            "\u001b[0;32m<ipython-input-102-9c1512a2aa81>\u001b[0m in \u001b[0;36m<module>\u001b[0;34m()\u001b[0m\n\u001b[0;32m----> 1\u001b[0;31m \u001b[0mrs_random_forest_all\u001b[0m\u001b[0;34m.\u001b[0m\u001b[0mbest_score_\u001b[0m\u001b[0;34m\u001b[0m\u001b[0;34m\u001b[0m\u001b[0m\n\u001b[0m",
            "\u001b[0;31mAttributeError\u001b[0m: 'RandomForestClassifier' object has no attribute 'best_score_'"
          ]
        }
      ]
    },
    {
      "cell_type": "code",
      "metadata": {
        "id": "Z2xC8oUQGhdq"
      },
      "source": [
        "rs_random_forest_all.best_params_"
      ],
      "execution_count": null,
      "outputs": []
    },
    {
      "cell_type": "code",
      "metadata": {
        "id": "VlZv4T_AGhdq"
      },
      "source": [
        "rs_random_forest_all.best_estimator_"
      ],
      "execution_count": null,
      "outputs": []
    },
    {
      "cell_type": "code",
      "metadata": {
        "id": "9oAdU3ZJGhdr"
      },
      "source": [
        "# Print the optimal parameters and best score\n",
        "print(\"Tuned Logistic Regression Parameter: {}\".format(rs_random_forest_all.best_params_))\n",
        "print(\"Tuned Logistic Regression Accuracy: {}\".format(rs_random_forest_all.best_score_))\n",
        "print(\"Tuned Logistic Regression Estimator:  {}\".format(rs_random_forest_all.best_estimator_))"
      ],
      "execution_count": null,
      "outputs": []
    },
    {
      "cell_type": "code",
      "metadata": {
        "id": "z6cstuAxvTZ0",
        "colab": {
          "base_uri": "https://localhost:8080/",
          "height": 323
        },
        "outputId": "a7150265-9a69-4ede-ac3e-f4c092f5a778"
      },
      "source": [
        "y_pred_rf_all = rs_random_forest_all.predict(test_features)\n",
        "print(classification_report(y_test, y_pred_rf_all))"
      ],
      "execution_count": null,
      "outputs": [
        {
          "output_type": "error",
          "ename": "ValueError",
          "evalue": "ignored",
          "traceback": [
            "\u001b[0;31m---------------------------------------------------------------------------\u001b[0m",
            "\u001b[0;31mValueError\u001b[0m                                Traceback (most recent call last)",
            "\u001b[0;32m<ipython-input-62-946f6c03fd57>\u001b[0m in \u001b[0;36m<module>\u001b[0;34m()\u001b[0m\n\u001b[0;32m----> 1\u001b[0;31m \u001b[0my_pred_rf_all\u001b[0m \u001b[0;34m=\u001b[0m \u001b[0mrs_random_forest_all\u001b[0m\u001b[0;34m.\u001b[0m\u001b[0mpredict\u001b[0m\u001b[0;34m(\u001b[0m\u001b[0mtest_features\u001b[0m\u001b[0;34m)\u001b[0m\u001b[0;34m\u001b[0m\u001b[0;34m\u001b[0m\u001b[0m\n\u001b[0m\u001b[1;32m      2\u001b[0m \u001b[0mprint\u001b[0m\u001b[0;34m(\u001b[0m\u001b[0mclassification_report\u001b[0m\u001b[0;34m(\u001b[0m\u001b[0my_test\u001b[0m\u001b[0;34m,\u001b[0m \u001b[0my_pred_rf_all\u001b[0m\u001b[0;34m)\u001b[0m\u001b[0;34m)\u001b[0m\u001b[0;34m\u001b[0m\u001b[0;34m\u001b[0m\u001b[0m\n",
            "\u001b[0;32m/usr/local/lib/python3.7/dist-packages/sklearn/ensemble/_forest.py\u001b[0m in \u001b[0;36mpredict\u001b[0;34m(self, X)\u001b[0m\n\u001b[1;32m    610\u001b[0m             \u001b[0mThe\u001b[0m \u001b[0mpredicted\u001b[0m \u001b[0mclasses\u001b[0m\u001b[0;34m.\u001b[0m\u001b[0;34m\u001b[0m\u001b[0;34m\u001b[0m\u001b[0m\n\u001b[1;32m    611\u001b[0m         \"\"\"\n\u001b[0;32m--> 612\u001b[0;31m         \u001b[0mproba\u001b[0m \u001b[0;34m=\u001b[0m \u001b[0mself\u001b[0m\u001b[0;34m.\u001b[0m\u001b[0mpredict_proba\u001b[0m\u001b[0;34m(\u001b[0m\u001b[0mX\u001b[0m\u001b[0;34m)\u001b[0m\u001b[0;34m\u001b[0m\u001b[0;34m\u001b[0m\u001b[0m\n\u001b[0m\u001b[1;32m    613\u001b[0m \u001b[0;34m\u001b[0m\u001b[0m\n\u001b[1;32m    614\u001b[0m         \u001b[0;32mif\u001b[0m \u001b[0mself\u001b[0m\u001b[0;34m.\u001b[0m\u001b[0mn_outputs_\u001b[0m \u001b[0;34m==\u001b[0m \u001b[0;36m1\u001b[0m\u001b[0;34m:\u001b[0m\u001b[0;34m\u001b[0m\u001b[0;34m\u001b[0m\u001b[0m\n",
            "\u001b[0;32m/usr/local/lib/python3.7/dist-packages/sklearn/ensemble/_forest.py\u001b[0m in \u001b[0;36mpredict_proba\u001b[0;34m(self, X)\u001b[0m\n\u001b[1;32m    654\u001b[0m         \u001b[0mcheck_is_fitted\u001b[0m\u001b[0;34m(\u001b[0m\u001b[0mself\u001b[0m\u001b[0;34m)\u001b[0m\u001b[0;34m\u001b[0m\u001b[0;34m\u001b[0m\u001b[0m\n\u001b[1;32m    655\u001b[0m         \u001b[0;31m# Check data\u001b[0m\u001b[0;34m\u001b[0m\u001b[0;34m\u001b[0m\u001b[0;34m\u001b[0m\u001b[0m\n\u001b[0;32m--> 656\u001b[0;31m         \u001b[0mX\u001b[0m \u001b[0;34m=\u001b[0m \u001b[0mself\u001b[0m\u001b[0;34m.\u001b[0m\u001b[0m_validate_X_predict\u001b[0m\u001b[0;34m(\u001b[0m\u001b[0mX\u001b[0m\u001b[0;34m)\u001b[0m\u001b[0;34m\u001b[0m\u001b[0;34m\u001b[0m\u001b[0m\n\u001b[0m\u001b[1;32m    657\u001b[0m \u001b[0;34m\u001b[0m\u001b[0m\n\u001b[1;32m    658\u001b[0m         \u001b[0;31m# Assign chunk of trees to jobs\u001b[0m\u001b[0;34m\u001b[0m\u001b[0;34m\u001b[0m\u001b[0;34m\u001b[0m\u001b[0m\n",
            "\u001b[0;32m/usr/local/lib/python3.7/dist-packages/sklearn/ensemble/_forest.py\u001b[0m in \u001b[0;36m_validate_X_predict\u001b[0;34m(self, X)\u001b[0m\n\u001b[1;32m    410\u001b[0m         \u001b[0mcheck_is_fitted\u001b[0m\u001b[0;34m(\u001b[0m\u001b[0mself\u001b[0m\u001b[0;34m)\u001b[0m\u001b[0;34m\u001b[0m\u001b[0;34m\u001b[0m\u001b[0m\n\u001b[1;32m    411\u001b[0m \u001b[0;34m\u001b[0m\u001b[0m\n\u001b[0;32m--> 412\u001b[0;31m         \u001b[0;32mreturn\u001b[0m \u001b[0mself\u001b[0m\u001b[0;34m.\u001b[0m\u001b[0mestimators_\u001b[0m\u001b[0;34m[\u001b[0m\u001b[0;36m0\u001b[0m\u001b[0;34m]\u001b[0m\u001b[0;34m.\u001b[0m\u001b[0m_validate_X_predict\u001b[0m\u001b[0;34m(\u001b[0m\u001b[0mX\u001b[0m\u001b[0;34m,\u001b[0m \u001b[0mcheck_input\u001b[0m\u001b[0;34m=\u001b[0m\u001b[0;32mTrue\u001b[0m\u001b[0;34m)\u001b[0m\u001b[0;34m\u001b[0m\u001b[0;34m\u001b[0m\u001b[0m\n\u001b[0m\u001b[1;32m    413\u001b[0m \u001b[0;34m\u001b[0m\u001b[0m\n\u001b[1;32m    414\u001b[0m     \u001b[0;34m@\u001b[0m\u001b[0mproperty\u001b[0m\u001b[0;34m\u001b[0m\u001b[0;34m\u001b[0m\u001b[0m\n",
            "\u001b[0;32m/usr/local/lib/python3.7/dist-packages/sklearn/tree/_classes.py\u001b[0m in \u001b[0;36m_validate_X_predict\u001b[0;34m(self, X, check_input)\u001b[0m\n\u001b[1;32m    389\u001b[0m                              \u001b[0;34m\"match the input. Model n_features is %s and \"\u001b[0m\u001b[0;34m\u001b[0m\u001b[0;34m\u001b[0m\u001b[0m\n\u001b[1;32m    390\u001b[0m                              \u001b[0;34m\"input n_features is %s \"\u001b[0m\u001b[0;34m\u001b[0m\u001b[0;34m\u001b[0m\u001b[0m\n\u001b[0;32m--> 391\u001b[0;31m                              % (self.n_features_, n_features))\n\u001b[0m\u001b[1;32m    392\u001b[0m \u001b[0;34m\u001b[0m\u001b[0m\n\u001b[1;32m    393\u001b[0m         \u001b[0;32mreturn\u001b[0m \u001b[0mX\u001b[0m\u001b[0;34m\u001b[0m\u001b[0;34m\u001b[0m\u001b[0m\n",
            "\u001b[0;31mValueError\u001b[0m: Number of features of the model must match the input. Model n_features is 334581 and input n_features is 226865 "
          ]
        }
      ]
    },
    {
      "cell_type": "code",
      "metadata": {
        "id": "r_EwDWhxvHz1"
      },
      "source": [
        "rf_accuracy_all = rs_random_forest_all.score(test_features, y_test)\n",
        "round(rf_accuracy_all, 4)"
      ],
      "execution_count": null,
      "outputs": []
    },
    {
      "cell_type": "code",
      "metadata": {
        "id": "jrnfETRg2tlW"
      },
      "source": [
        "cm_rf_all = confusion_matrix(y_test, y_pred_rf_all)\n",
        "for i in range(4):\n",
        "  print('')      \n",
        "  for y in range(4):\n",
        "    print(cm_rf_all[i, y], end='\\t')"
      ],
      "execution_count": null,
      "outputs": []
    },
    {
      "cell_type": "code",
      "metadata": {
        "id": "TffVNmR92tlX"
      },
      "source": [
        "cm_rf_all = cm_rf_all.astype('float') / cm_rf_all.sum(axis=1)[:, np.newaxis]\n",
        "cm_rf_all.diagonal()\n",
        "cm_rf_all_classes_accuracy = [round(a, 4) for a in cm_rf_all.diagonal()]\n",
        "for i in range(4):\n",
        "  print(cm_rf_all_classes_accuracy[i])"
      ],
      "execution_count": null,
      "outputs": []
    },
    {
      "cell_type": "code",
      "metadata": {
        "id": "mWIIYjtHv6lp"
      },
      "source": [
        "fig, ax = plt.subplots(figsize=(11,11))\n",
        "ax.set_title('Random Forest\\n(all features)', fontdict = {'family':'sans-serif', 'weight':'normal', 'size': 14})\n",
        "plot_confusion_matrix(rs_random_forest_all, test_features, y_test, values_format='d', cmap='Blues', ax=ax)\n",
        "plt.show()"
      ],
      "execution_count": null,
      "outputs": []
    },
    {
      "cell_type": "code",
      "metadata": {
        "id": "FdX5K99k3Iyf"
      },
      "source": [
        "fig, ax = plt.subplots(figsize=(11,11))\n",
        "ax.set_title('Random Forest\\n(all features)', fontdict = {'family':'sans-serif', 'weight':'normal', 'size': 14})\n",
        "plot_confusion_matrix(rs_random_forest_all, test_features, y_test, cmap='Blues', ax=ax, normalize='true')\n",
        "plt.show()"
      ],
      "execution_count": null,
      "outputs": []
    },
    {
      "cell_type": "markdown",
      "metadata": {
        "id": "4oNNXungEEeH"
      },
      "source": [
        "Avaliação sobre os dados de treino"
      ]
    },
    {
      "cell_type": "code",
      "metadata": {
        "id": "4lV80EjbEOfu"
      },
      "source": [
        "y_pred_rf_all_train = rs_random_forest_all.predict(training_features)\n",
        "print(classification_report(y_train, y_pred_rf_all_train))"
      ],
      "execution_count": null,
      "outputs": []
    },
    {
      "cell_type": "code",
      "metadata": {
        "id": "RiVEUk14LVF4"
      },
      "source": [
        "rf_accuracy_all = rs_random_forest_all.score(test_features, y_test)\n",
        "round(rf_accuracy_all, 4)"
      ],
      "execution_count": null,
      "outputs": []
    },
    {
      "cell_type": "markdown",
      "metadata": {
        "id": "uVDAGa1RP_64"
      },
      "source": [
        "### Multi-layer Perceptron Classifier (cosine similarity and word superposition)"
      ]
    },
    {
      "cell_type": "markdown",
      "metadata": {
        "id": "QNnezY2RIshI"
      },
      "source": [
        "Tunning Hyperparameters"
      ]
    },
    {
      "cell_type": "code",
      "metadata": {
        "id": "YrzzLmEiIshI"
      },
      "source": [
        "neural_network_clf = MLPClassifier()"
      ],
      "execution_count": null,
      "outputs": []
    },
    {
      "cell_type": "code",
      "metadata": {
        "id": "i_BJW6LkIshJ"
      },
      "source": [
        "param_dist_nn = {\n",
        "    'hidden_layer_sizes': [(50,50,50), (50,100,50), (100,)],\n",
        "    'activation': ['tanh', 'relu'],\n",
        "    'solver': ['sgd', 'adam'],\n",
        "    'alpha': [0.0001, 0.05],\n",
        "    'learning_rate': ['constant','adaptive'],\n",
        "}"
      ],
      "execution_count": null,
      "outputs": []
    },
    {
      "cell_type": "code",
      "metadata": {
        "id": "8yA5ondJIshJ"
      },
      "source": [
        "scorer = make_scorer(accuracy_score)"
      ],
      "execution_count": null,
      "outputs": []
    },
    {
      "cell_type": "code",
      "metadata": {
        "id": "OmdF2mxVIshK"
      },
      "source": [
        "random_search_nn =\\\n",
        "    RandomizedSearchCV(\n",
        "        estimator=neural_network_clf,\n",
        "        param_distributions=param_dist_nn,        \n",
        "        cv=5,\n",
        "        scoring=scorer)"
      ],
      "execution_count": null,
      "outputs": []
    },
    {
      "cell_type": "code",
      "metadata": {
        "colab": {
          "base_uri": "https://localhost:8080/"
        },
        "id": "KVAqJgW4IshK",
        "outputId": "0e581406-f033-4af8-d105-796858e7f069"
      },
      "source": [
        "rs_neural_network_clf = random_search_nn.fit(df_X_train, y_train)"
      ],
      "execution_count": null,
      "outputs": [
        {
          "output_type": "stream",
          "text": [
            "/usr/local/lib/python3.7/dist-packages/sklearn/neural_network/_multilayer_perceptron.py:571: ConvergenceWarning: Stochastic Optimizer: Maximum iterations (200) reached and the optimization hasn't converged yet.\n",
            "  % self.max_iter, ConvergenceWarning)\n",
            "/usr/local/lib/python3.7/dist-packages/sklearn/neural_network/_multilayer_perceptron.py:571: ConvergenceWarning: Stochastic Optimizer: Maximum iterations (200) reached and the optimization hasn't converged yet.\n",
            "  % self.max_iter, ConvergenceWarning)\n",
            "/usr/local/lib/python3.7/dist-packages/sklearn/neural_network/_multilayer_perceptron.py:571: ConvergenceWarning: Stochastic Optimizer: Maximum iterations (200) reached and the optimization hasn't converged yet.\n",
            "  % self.max_iter, ConvergenceWarning)\n",
            "/usr/local/lib/python3.7/dist-packages/sklearn/neural_network/_multilayer_perceptron.py:571: ConvergenceWarning: Stochastic Optimizer: Maximum iterations (200) reached and the optimization hasn't converged yet.\n",
            "  % self.max_iter, ConvergenceWarning)\n",
            "/usr/local/lib/python3.7/dist-packages/sklearn/neural_network/_multilayer_perceptron.py:571: ConvergenceWarning: Stochastic Optimizer: Maximum iterations (200) reached and the optimization hasn't converged yet.\n",
            "  % self.max_iter, ConvergenceWarning)\n",
            "/usr/local/lib/python3.7/dist-packages/sklearn/neural_network/_multilayer_perceptron.py:571: ConvergenceWarning: Stochastic Optimizer: Maximum iterations (200) reached and the optimization hasn't converged yet.\n",
            "  % self.max_iter, ConvergenceWarning)\n",
            "/usr/local/lib/python3.7/dist-packages/sklearn/neural_network/_multilayer_perceptron.py:571: ConvergenceWarning: Stochastic Optimizer: Maximum iterations (200) reached and the optimization hasn't converged yet.\n",
            "  % self.max_iter, ConvergenceWarning)\n",
            "/usr/local/lib/python3.7/dist-packages/sklearn/neural_network/_multilayer_perceptron.py:571: ConvergenceWarning: Stochastic Optimizer: Maximum iterations (200) reached and the optimization hasn't converged yet.\n",
            "  % self.max_iter, ConvergenceWarning)\n",
            "/usr/local/lib/python3.7/dist-packages/sklearn/neural_network/_multilayer_perceptron.py:571: ConvergenceWarning: Stochastic Optimizer: Maximum iterations (200) reached and the optimization hasn't converged yet.\n",
            "  % self.max_iter, ConvergenceWarning)\n",
            "/usr/local/lib/python3.7/dist-packages/sklearn/neural_network/_multilayer_perceptron.py:571: ConvergenceWarning: Stochastic Optimizer: Maximum iterations (200) reached and the optimization hasn't converged yet.\n",
            "  % self.max_iter, ConvergenceWarning)\n",
            "/usr/local/lib/python3.7/dist-packages/sklearn/neural_network/_multilayer_perceptron.py:571: ConvergenceWarning: Stochastic Optimizer: Maximum iterations (200) reached and the optimization hasn't converged yet.\n",
            "  % self.max_iter, ConvergenceWarning)\n",
            "/usr/local/lib/python3.7/dist-packages/sklearn/neural_network/_multilayer_perceptron.py:571: ConvergenceWarning: Stochastic Optimizer: Maximum iterations (200) reached and the optimization hasn't converged yet.\n",
            "  % self.max_iter, ConvergenceWarning)\n",
            "/usr/local/lib/python3.7/dist-packages/sklearn/neural_network/_multilayer_perceptron.py:571: ConvergenceWarning: Stochastic Optimizer: Maximum iterations (200) reached and the optimization hasn't converged yet.\n",
            "  % self.max_iter, ConvergenceWarning)\n",
            "/usr/local/lib/python3.7/dist-packages/sklearn/neural_network/_multilayer_perceptron.py:571: ConvergenceWarning: Stochastic Optimizer: Maximum iterations (200) reached and the optimization hasn't converged yet.\n",
            "  % self.max_iter, ConvergenceWarning)\n",
            "/usr/local/lib/python3.7/dist-packages/sklearn/neural_network/_multilayer_perceptron.py:573: UserWarning: Training interrupted by user.\n",
            "  warnings.warn(\"Training interrupted by user.\")\n",
            "/usr/local/lib/python3.7/dist-packages/sklearn/neural_network/_multilayer_perceptron.py:573: UserWarning: Training interrupted by user.\n",
            "  warnings.warn(\"Training interrupted by user.\")\n",
            "/usr/local/lib/python3.7/dist-packages/sklearn/neural_network/_multilayer_perceptron.py:573: UserWarning: Training interrupted by user.\n",
            "  warnings.warn(\"Training interrupted by user.\")\n",
            "/usr/local/lib/python3.7/dist-packages/sklearn/neural_network/_multilayer_perceptron.py:573: UserWarning: Training interrupted by user.\n",
            "  warnings.warn(\"Training interrupted by user.\")\n",
            "/usr/local/lib/python3.7/dist-packages/sklearn/neural_network/_multilayer_perceptron.py:573: UserWarning: Training interrupted by user.\n",
            "  warnings.warn(\"Training interrupted by user.\")\n",
            "/usr/local/lib/python3.7/dist-packages/sklearn/neural_network/_multilayer_perceptron.py:571: ConvergenceWarning: Stochastic Optimizer: Maximum iterations (200) reached and the optimization hasn't converged yet.\n",
            "  % self.max_iter, ConvergenceWarning)\n"
          ],
          "name": "stderr"
        }
      ]
    },
    {
      "cell_type": "code",
      "metadata": {
        "colab": {
          "base_uri": "https://localhost:8080/"
        },
        "id": "1pM8WL_6RH6e",
        "outputId": "4a2b3ca3-6c4b-4a9b-c885-de4e07ca34e8"
      },
      "source": [
        "dump(rs_neural_network_clf, '/content/drive/MyDrive/Colab Notebooks/Stance Detection definitive edition FNC dataset v3 (random oversample)/rs_neural_network_clf_2021_07_27.joblib')\n",
        "#rs_neural_network_clf = load('/content/drive/MyDrive/Colab Notebooks/Stance Detection definitive edition FNC dataset v3 (random oversample)/rs_neural_network_clf_2021_07_27.joblib')"
      ],
      "execution_count": null,
      "outputs": [
        {
          "output_type": "execute_result",
          "data": {
            "text/plain": [
              "['/content/drive/MyDrive/Colab Notebooks/Stance Detection definitive edition FNC dataset v3 (random oversample)/rs_neural_network_clf_2021_07_27.joblib']"
            ]
          },
          "metadata": {
            "tags": []
          },
          "execution_count": 44
        }
      ]
    },
    {
      "cell_type": "code",
      "metadata": {
        "colab": {
          "base_uri": "https://localhost:8080/"
        },
        "id": "bZ3fGMCrIshK",
        "outputId": "1c8db9a4-0bc7-4833-9d89-34a0182a4656"
      },
      "source": [
        "rs_neural_network_clf.best_score_"
      ],
      "execution_count": null,
      "outputs": [
        {
          "output_type": "execute_result",
          "data": {
            "text/plain": [
              "0.5720550006840881"
            ]
          },
          "metadata": {
            "tags": []
          },
          "execution_count": 45
        }
      ]
    },
    {
      "cell_type": "code",
      "metadata": {
        "colab": {
          "base_uri": "https://localhost:8080/"
        },
        "id": "H2C1mtiXIshL",
        "outputId": "a6948bf8-13cf-420f-b57f-30e9b2b876d6"
      },
      "source": [
        "rs_neural_network_clf.best_params_"
      ],
      "execution_count": null,
      "outputs": [
        {
          "output_type": "execute_result",
          "data": {
            "text/plain": [
              "{'activation': 'tanh',\n",
              " 'alpha': 0.0001,\n",
              " 'hidden_layer_sizes': (50, 50, 50),\n",
              " 'learning_rate': 'constant',\n",
              " 'solver': 'adam'}"
            ]
          },
          "metadata": {
            "tags": []
          },
          "execution_count": 46
        }
      ]
    },
    {
      "cell_type": "code",
      "metadata": {
        "colab": {
          "base_uri": "https://localhost:8080/"
        },
        "id": "BSIeDpzpIshL",
        "outputId": "cba35194-4cc6-419d-98bb-0be16cfc35a7"
      },
      "source": [
        "rs_neural_network_clf.best_estimator_"
      ],
      "execution_count": null,
      "outputs": [
        {
          "output_type": "execute_result",
          "data": {
            "text/plain": [
              "MLPClassifier(activation='tanh', alpha=0.0001, batch_size='auto', beta_1=0.9,\n",
              "              beta_2=0.999, early_stopping=False, epsilon=1e-08,\n",
              "              hidden_layer_sizes=(50, 50, 50), learning_rate='constant',\n",
              "              learning_rate_init=0.001, max_fun=15000, max_iter=200,\n",
              "              momentum=0.9, n_iter_no_change=10, nesterovs_momentum=True,\n",
              "              power_t=0.5, random_state=None, shuffle=True, solver='adam',\n",
              "              tol=0.0001, validation_fraction=0.1, verbose=False,\n",
              "              warm_start=False)"
            ]
          },
          "metadata": {
            "tags": []
          },
          "execution_count": 47
        }
      ]
    },
    {
      "cell_type": "code",
      "metadata": {
        "colab": {
          "base_uri": "https://localhost:8080/"
        },
        "id": "UqYWmmFiIshM",
        "outputId": "4ea697bd-c8fb-4766-d0c8-baad270cf8ac"
      },
      "source": [
        "# Print the optimal parameters and best score\n",
        "print(\"Tuned Logistic Regression Parameter: {}\".format(rs_neural_network_clf.best_params_))\n",
        "print(\"Tuned Logistic Regression Accuracy: {}\".format(rs_neural_network_clf.best_score_))\n",
        "print(\"Tuned Logistic Regression Estimator:  {}\".format(rs_neural_network_clf.best_estimator_))"
      ],
      "execution_count": null,
      "outputs": [
        {
          "output_type": "stream",
          "text": [
            "Tuned Logistic Regression Parameter: {'solver': 'adam', 'learning_rate': 'constant', 'hidden_layer_sizes': (50, 50, 50), 'alpha': 0.0001, 'activation': 'tanh'}\n",
            "Tuned Logistic Regression Accuracy: 0.5720550006840881\n",
            "Tuned Logistic Regression Estimator:  MLPClassifier(activation='tanh', alpha=0.0001, batch_size='auto', beta_1=0.9,\n",
            "              beta_2=0.999, early_stopping=False, epsilon=1e-08,\n",
            "              hidden_layer_sizes=(50, 50, 50), learning_rate='constant',\n",
            "              learning_rate_init=0.001, max_fun=15000, max_iter=200,\n",
            "              momentum=0.9, n_iter_no_change=10, nesterovs_momentum=True,\n",
            "              power_t=0.5, random_state=None, shuffle=True, solver='adam',\n",
            "              tol=0.0001, validation_fraction=0.1, verbose=False,\n",
            "              warm_start=False)\n"
          ],
          "name": "stdout"
        }
      ]
    },
    {
      "cell_type": "code",
      "metadata": {
        "colab": {
          "base_uri": "https://localhost:8080/"
        },
        "id": "Vhbh7CA4m0Hu",
        "outputId": "0235d7db-451b-48ad-a706-dcf5366a5bdb"
      },
      "source": [
        "nn_accuracy = rs_neural_network_clf.score(df_X_test, y_test)\n",
        "round(nn_accuracy, 4)"
      ],
      "execution_count": null,
      "outputs": [
        {
          "output_type": "execute_result",
          "data": {
            "text/plain": [
              "0.7702"
            ]
          },
          "metadata": {
            "tags": []
          },
          "execution_count": 49
        }
      ]
    },
    {
      "cell_type": "code",
      "metadata": {
        "colab": {
          "base_uri": "https://localhost:8080/"
        },
        "id": "pkLtoGZim0Hx",
        "outputId": "f9ea875b-a8a5-4d52-f640-664990957334"
      },
      "source": [
        "y_pred_nn = rs_neural_network_clf.predict(df_X_test)\n",
        "print(classification_report(y_test, y_pred_nn))"
      ],
      "execution_count": null,
      "outputs": [
        {
          "output_type": "stream",
          "text": [
            "              precision    recall  f1-score   support\n",
            "\n",
            "       agree       0.26      0.40      0.32      1903\n",
            "    disagree       0.09      0.35      0.14       697\n",
            "     discuss       0.55      0.25      0.34      4464\n",
            "   unrelated       0.98      0.95      0.97     18349\n",
            "\n",
            "    accuracy                           0.77     25413\n",
            "   macro avg       0.47      0.49      0.44     25413\n",
            "weighted avg       0.83      0.77      0.79     25413\n",
            "\n"
          ],
          "name": "stdout"
        }
      ]
    },
    {
      "cell_type": "code",
      "metadata": {
        "colab": {
          "base_uri": "https://localhost:8080/"
        },
        "id": "Wd0dleti3_kC",
        "outputId": "8a6fd4d5-10c1-4774-9a99-a63536232282"
      },
      "source": [
        "cm_nn = confusion_matrix(y_test, y_pred_nn)\n",
        "for i in range(4):\n",
        "  print('')      \n",
        "  for y in range(4):\n",
        "    print(cm_nn[i, y], end='\\t')"
      ],
      "execution_count": null,
      "outputs": [
        {
          "output_type": "stream",
          "text": [
            "\n",
            "768\t587\t474\t74\t\n",
            "174\t243\t199\t81\t\n",
            "1738\t1443\t1118\t165\t\n",
            "230\t430\t244\t17445\t"
          ],
          "name": "stdout"
        }
      ]
    },
    {
      "cell_type": "code",
      "metadata": {
        "colab": {
          "base_uri": "https://localhost:8080/"
        },
        "id": "D-7Io85l3_kD",
        "outputId": "c08c0501-f533-443a-b02d-0a7c1cd57338"
      },
      "source": [
        "cm_nn = cm_nn.astype('float') / cm_nn.sum(axis=1)[:, np.newaxis]\n",
        "cm_nn.diagonal()\n",
        "cm_nn_classes_accuracy = [round(a, 4) for a in cm_nn.diagonal()]\n",
        "for i in range(4):\n",
        "  print(cm_nn_classes_accuracy[i])"
      ],
      "execution_count": null,
      "outputs": [
        {
          "output_type": "stream",
          "text": [
            "0.4036\n",
            "0.3486\n",
            "0.2504\n",
            "0.9507\n"
          ],
          "name": "stdout"
        }
      ]
    },
    {
      "cell_type": "code",
      "metadata": {
        "id": "zy6JldOgm0Hy"
      },
      "source": [
        "#tn, fp, fn, tp = confusion_matrix(y_test, y_pred_mlpc).ravel()\n",
        "#(tn, fp, fn, tp)"
      ],
      "execution_count": null,
      "outputs": []
    },
    {
      "cell_type": "code",
      "metadata": {
        "colab": {
          "base_uri": "https://localhost:8080/",
          "height": 629
        },
        "id": "-WzTt4lzm0Hz",
        "outputId": "dbcf0850-56a0-4d94-be90-1c8739d507c3"
      },
      "source": [
        "fig, ax = plt.subplots(figsize=(11,11))\n",
        "ax.set_title('Multi-layer Perceptron Classifier\\n(features: cosine similarity and word superposition)', fontdict = {'family':'sans-serif', 'weight':'normal', 'size': 14})\n",
        "plot_confusion_matrix(rs_neural_network_clf, df_X_test, y_test, values_format='d', cmap='Blues', ax=ax)\n",
        "plt.show()"
      ],
      "execution_count": null,
      "outputs": [
        {
          "output_type": "display_data",
          "data": {
            "image/png": "[encoded data removed]",
            "text/plain": [
              "<Figure size 792x792 with 2 Axes>"
            ]
          },
          "metadata": {
            "tags": []
          }
        }
      ]
    },
    {
      "cell_type": "code",
      "metadata": {
        "colab": {
          "base_uri": "https://localhost:8080/",
          "height": 629
        },
        "id": "mrhVOhFB5C7T",
        "outputId": "9372ca52-872e-4d8c-8abd-02adee2f172e"
      },
      "source": [
        "fig, ax = plt.subplots(figsize=(11,11))\n",
        "ax.set_title('Multi-layer Perceptron Classifier\\n(features: cosine similarity and word superposition)', fontdict = {'family':'sans-serif', 'weight':'normal', 'size': 14})\n",
        "plot_confusion_matrix(rs_neural_network_clf, df_X_test, y_test, cmap='Blues', ax=ax, normalize='true')\n",
        "plt.show()"
      ],
      "execution_count": null,
      "outputs": [
        {
          "output_type": "display_data",
          "data": {
            "image/png": "[encoded data removed]",
            "text/plain": [
              "<Figure size 792x792 with 2 Axes>"
            ]
          },
          "metadata": {
            "tags": []
          }
        }
      ]
    },
    {
      "cell_type": "markdown",
      "metadata": {
        "id": "lvSAXio_Qe8J"
      },
      "source": [
        "### Multi-layer Perceptron Classifier (all features)"
      ]
    },
    {
      "cell_type": "markdown",
      "metadata": {
        "id": "L3pNnj2mKkwf"
      },
      "source": [
        "Tunning Hyperparameters"
      ]
    },
    {
      "cell_type": "code",
      "metadata": {
        "id": "28bi_rMcGEfI"
      },
      "source": [
        "#neural_network_all = MLPClassifier()"
      ],
      "execution_count": null,
      "outputs": []
    },
    {
      "cell_type": "code",
      "metadata": {
        "id": "WiSRUhAqKkwg"
      },
      "source": [
        "neural_network_all = MLPClassifier()\n",
        "rs_neural_network_all = neural_network_all.fit(training_features, y_train)"
      ],
      "execution_count": null,
      "outputs": []
    },
    {
      "cell_type": "code",
      "metadata": {
        "id": "NpZehCiZKkwg"
      },
      "source": [
        "param_dist_nn = {\n",
        "    'hidden_layer_sizes': [(50,50,50), (50,100,50), (100,)],\n",
        "    'activation': ['tanh', 'relu'],\n",
        "    'solver': ['sgd', 'adam'],\n",
        "    'alpha': [0.0001, 0.05],\n",
        "    'learning_rate': ['constant','adaptive'],\n",
        "}"
      ],
      "execution_count": null,
      "outputs": []
    },
    {
      "cell_type": "code",
      "metadata": {
        "id": "v5z11RUmKkwg"
      },
      "source": [
        "scorer = make_scorer(accuracy_score)"
      ],
      "execution_count": null,
      "outputs": []
    },
    {
      "cell_type": "code",
      "metadata": {
        "id": "E3mUdRMVKkwh"
      },
      "source": [
        "'''random_search_nn_all =\\\n",
        "    RandomizedSearchCV(\n",
        "        estimator=neural_network_all,\n",
        "        param_distributions=param_dist_nn,        \n",
        "        cv=5,\n",
        "        scoring=scorer)'''"
      ],
      "execution_count": null,
      "outputs": []
    },
    {
      "cell_type": "code",
      "metadata": {
        "colab": {
          "background_save": true,
          "base_uri": "https://localhost:8080/"
        },
        "id": "5mbiU9D_Kkwh",
        "outputId": "8efcabf3-acd3-4d0c-e51a-5ae8983f93aa"
      },
      "source": [
        "#rs_neural_network_all = random_search_nn.fit(training_features, y_train)"
      ],
      "execution_count": null,
      "outputs": [
        {
          "output_type": "stream",
          "text": [
            "/usr/local/lib/python3.7/dist-packages/sklearn/neural_network/_multilayer_perceptron.py:573: UserWarning: Training interrupted by user.\n",
            "  warnings.warn(\"Training interrupted by user.\")\n",
            "/usr/local/lib/python3.7/dist-packages/sklearn/neural_network/_multilayer_perceptron.py:573: UserWarning: Training interrupted by user.\n",
            "  warnings.warn(\"Training interrupted by user.\")\n",
            "/usr/local/lib/python3.7/dist-packages/sklearn/neural_network/_multilayer_perceptron.py:573: UserWarning: Training interrupted by user.\n",
            "  warnings.warn(\"Training interrupted by user.\")\n",
            "/usr/local/lib/python3.7/dist-packages/sklearn/neural_network/_multilayer_perceptron.py:573: UserWarning: Training interrupted by user.\n",
            "  warnings.warn(\"Training interrupted by user.\")\n",
            "/usr/local/lib/python3.7/dist-packages/sklearn/neural_network/_multilayer_perceptron.py:571: ConvergenceWarning: Stochastic Optimizer: Maximum iterations (200) reached and the optimization hasn't converged yet.\n",
            "  % self.max_iter, ConvergenceWarning)\n"
          ],
          "name": "stderr"
        }
      ]
    },
    {
      "cell_type": "code",
      "metadata": {
        "id": "Qo10E5sJRhvS"
      },
      "source": [
        "dump(rs_neural_network_all, '/content/drive/MyDrive/Colab Notebooks/Stance Detection definitive edition FNC dataset v3 (random oversample)/rs_neural_network_all_2021_07_27.joblib')\n",
        "#rs_neural_network_all = load('/content/drive/MyDrive/Colab Notebooks/Stance Detection definitive edition FNC dataset v3 (random oversample)/rs_neural_network_all_2021_07_27.joblib')"
      ],
      "execution_count": null,
      "outputs": []
    },
    {
      "cell_type": "code",
      "metadata": {
        "id": "B6aAR-vmKkwh"
      },
      "source": [
        "#rs_neural_network_all.best_score_"
      ],
      "execution_count": null,
      "outputs": []
    },
    {
      "cell_type": "code",
      "metadata": {
        "id": "OA2l0kdPKkwi"
      },
      "source": [
        "#rs_neural_network_all.best_params_"
      ],
      "execution_count": null,
      "outputs": []
    },
    {
      "cell_type": "code",
      "metadata": {
        "id": "GYsRss13Kkwi"
      },
      "source": [
        "#rs_neural_network_all.best_estimator_"
      ],
      "execution_count": null,
      "outputs": []
    },
    {
      "cell_type": "code",
      "metadata": {
        "id": "9W0YzZLgKkwj"
      },
      "source": [
        "# Print the optimal parameters and best score\n",
        "'''print(\"Tuned Logistic Regression Parameter: {}\".format(rs_neural_network_all.best_params_))\n",
        "print(\"Tuned Logistic Regression Accuracy: {}\".format(rs_neural_network_all.best_score_))\n",
        "print(\"Tuned Logistic Regression Estimator:  {}\".format(rs_neural_network_all.best_estimator_))'''"
      ],
      "execution_count": null,
      "outputs": []
    },
    {
      "cell_type": "code",
      "metadata": {
        "id": "1Qe7GQHdQ-ON"
      },
      "source": [
        "y_pred_nn_all = rs_neural_network_all.predict(test_features)\n",
        "print(classification_report(y_test, y_pred_nn_all))"
      ],
      "execution_count": null,
      "outputs": []
    },
    {
      "cell_type": "code",
      "metadata": {
        "id": "sBS3RdNJQ-ON"
      },
      "source": [
        "nn_accuracy_all = rs_neural_network_all.score(test_features, y_test)\n",
        "round(nn_accuracy_all, 4)"
      ],
      "execution_count": null,
      "outputs": []
    },
    {
      "cell_type": "code",
      "metadata": {
        "id": "0XjJZ77656K2"
      },
      "source": [
        "cm_nn_all = confusion_matrix(y_test, y_pred_nn_all)\n",
        "for i in range(4):\n",
        "  print('')      \n",
        "  for y in range(4):\n",
        "    print(cm_nn_all[i, y], end='\\t')"
      ],
      "execution_count": null,
      "outputs": []
    },
    {
      "cell_type": "code",
      "metadata": {
        "id": "NVGHa2ke56K_"
      },
      "source": [
        "cm_nn_all = cm_nn_all.astype('float') / cm_nn_all.sum(axis=1)[:, np.newaxis]\n",
        "cm_nn_all.diagonal()\n",
        "cm_nn_all_classes_accuracy = [round(a, 4) for a in cm_nn_all.diagonal()]\n",
        "for i in range(4):\n",
        "  print(cm_nn_all_classes_accuracy[i])"
      ],
      "execution_count": null,
      "outputs": []
    },
    {
      "cell_type": "code",
      "metadata": {
        "id": "sw2ygHEvQ-OP"
      },
      "source": [
        "fig, ax = plt.subplots(figsize=(11,11))\n",
        "ax.set_title('Multi-layer Perceptron Classifier\\n(all features)', fontdict = {'family':'sans-serif', 'weight':'normal', 'size': 14})\n",
        "plot_confusion_matrix(rs_neural_network_all, test_features, y_test, values_format='d', cmap='Blues', ax=ax)\n",
        "plt.show()"
      ],
      "execution_count": null,
      "outputs": []
    },
    {
      "cell_type": "code",
      "metadata": {
        "id": "smc52RC-6-gY"
      },
      "source": [
        "fig, ax = plt.subplots(figsize=(11,11))\n",
        "ax.set_title('Multi-layer Perceptron Classifier\\n(all features)', fontdict = {'family':'sans-serif', 'weight':'normal', 'size': 14})\n",
        "plot_confusion_matrix(rs_neural_network_all, test_features, y_test, cmap='Blues', ax=ax, normalize='true')\n",
        "plt.show()"
      ],
      "execution_count": null,
      "outputs": []
    },
    {
      "cell_type": "markdown",
      "metadata": {
        "id": "D_sht9fPbWL1"
      },
      "source": [
        "## ROC curves"
      ]
    },
    {
      "cell_type": "markdown",
      "metadata": {
        "id": "O6mRabZxwUc0"
      },
      "source": [
        "### ROC curves (consine similarity and word superposition)"
      ]
    },
    {
      "cell_type": "code",
      "metadata": {
        "id": "EEdiLaGvvXzz"
      },
      "source": [
        "labels = ['Logistic regression', 'Multinomial Naive Bayes', 'Random Forest', 'Multi-layer Perceptron Classifier']\n",
        "scores = [lr_accuracy, nb_accuracy, rf_accuracy, nn_accuracy]\n",
        "scores = [round(i * 100, 2) for i in scores]\n",
        "\n",
        "scores_all = [lr_accuracy_all, nb_accuracy_all, rf_accuracy_all, nn_accuracy_all]\n",
        "scores_all = [round(i * 100, 2) for i in scores_all]\n",
        "\n",
        "w = np.arange(len(labels))  # the label locations\n",
        "width = 0.35  # the width of the bars\n",
        "\n",
        "fig, ax = plt.subplots(figsize=(15, 10))\n",
        "rects1 = ax.bar(w - width/2, scores, width, label='Features: cosine similarity and word superposition')\n",
        "rects2 = ax.bar(w + width/2, scores_all, width, label='Features: TF-IDF, cosine similarity and word superposition')\n",
        "\n",
        "# Add some text for labels, title and custom x-axis tick labels, etc.\n",
        "ax.set_ylabel('Accuracy scores', fontsize='18')\n",
        "ax.set_title('Accuracy by algorithms trainned with or without TF-IDF features', fontsize='24')\n",
        "ax.set_xticks(w)\n",
        "\n",
        "ax.set_xticklabels(labels, fontsize='12')\n",
        "ax.legend(fontsize='12')\n",
        "#ax.set_yticks([0, 10, 20, 30, 40, 50, 60, 70, 80, 90, 100])\n",
        "plt.grid()\n",
        "\n",
        "for i in range(len(scores)):\n",
        "    ax.annotate(str(scores[i])+'       ', xy=(w[i],scores[i]), ha='right', va='bottom', fontsize='14')\n",
        "\n",
        "for i in range(len(scores_all)):\n",
        "    ax.annotate(str(scores_all[i]), xy=(w[i],scores_all[i]), ha='left', va='bottom', fontsize='14')    \n",
        "\n",
        "\n",
        "plt.ylim([0, 119])\n",
        "#fig.tight_layout()\n",
        "\n",
        "plt.show()\n",
        "print(scores)"
      ],
      "execution_count": null,
      "outputs": []
    },
    {
      "cell_type": "code",
      "metadata": {
        "id": "cIpouxrNaVEO"
      },
      "source": [
        "def change(f):\n",
        "    if f == 'disagree':\n",
        "        return 1    \n",
        "    else:\n",
        "        return 0\n",
        "\n",
        "y_train_number = [change(x) for x in y_train]\n",
        "y_test_number = [change(x) for x in y_test]"
      ],
      "execution_count": null,
      "outputs": []
    },
    {
      "cell_type": "code",
      "metadata": {
        "id": "xItVk4kzvTas"
      },
      "source": [
        "r_probs = [0 for _ in range(len(y_test))]\n",
        "lr_probs = rs_logistic_regression_clf.predict_proba(df_X_test)#[:, 1]\n",
        "nb_probs = rs_naive_bayes_clf.predict_proba(df_X_test)#[:, 1]\n",
        "rf_probs = rs_random_forest_clf.predict_proba(df_X_test)#[:, 1]\n",
        "nn_probs = rs_neural_network_clf.predict_proba(df_X_test)#[:, 1]"
      ],
      "execution_count": null,
      "outputs": []
    },
    {
      "cell_type": "code",
      "metadata": {
        "id": "q749NoI63BqT"
      },
      "source": [
        "#r_auc = roc_auc_score(y_test, r_probs, labels=['agree', 'disagree', 'discuss', 'unrelated'], multi_class='ovr')\n",
        "lr_auc = roc_auc_score(y_test, lr_probs, labels=['agree', 'disagree', 'discuss', 'unrelated'], multi_class='ovr')\n",
        "nb_auc = roc_auc_score(y_test, nb_probs, labels=['agree', 'disagree', 'discuss', 'unrelated'], multi_class='ovr')\n",
        "rf_auc = roc_auc_score(y_test, rf_probs, labels=['agree', 'disagree', 'discuss', 'unrelated'], multi_class='ovr')\n",
        "nn_auc = roc_auc_score(y_test, nn_probs, labels=['agree', 'disagree', 'discuss', 'unrelated'], multi_class='ovr')"
      ],
      "execution_count": null,
      "outputs": []
    },
    {
      "cell_type": "code",
      "metadata": {
        "id": "sWNpvJRb3f-s"
      },
      "source": [
        "#print('Random (chance) Prediction: AUROC = %.3f' % (r_auc))\n",
        "print('Logistic Regression: AUROC = %.3f' % (lr_auc))\n",
        "print('Naive Bayes: AUROC = %.3f' % (nb_auc))\n",
        "print('Random Forest: AUROC = %.3f' % (rf_auc))\n",
        "print('Neural Network: AUROC = %.3f' % (nn_auc))"
      ],
      "execution_count": null,
      "outputs": []
    },
    {
      "cell_type": "code",
      "metadata": {
        "id": "SKfDFRAn3xGP"
      },
      "source": [
        "r_fpr, r_tpr, _ = roc_curve(y_test, r_probs)#, pos_label='disagree')\n",
        "lr_fpr, lr_tpr, _ = roc_curve(y_test, lr_probs)#, pos_label='disagree')\n",
        "nb_fpr, nb_tpr, _ = roc_curve(y_test, nb_probs)#, pos_label='disagree')\n",
        "rf_fpr, rf_tpr, _ = roc_curve(y_test, rf_probs)#, pos_label='disagree')\n",
        "nn_fpr, nn_tpr, _ = roc_curve(y_test, nn_probs)#, pos_label='disagree')"
      ],
      "execution_count": null,
      "outputs": []
    },
    {
      "cell_type": "code",
      "metadata": {
        "id": "MCn_0OY84LbZ"
      },
      "source": [
        "fig, ax = plt.subplots(figsize=(11,11), )\n",
        "plt.plot(r_fpr, r_tpr, linestyle='--', label='Random prediction (AUC = %0.3f)' % r_auc)\n",
        "plt.plot(lr_fpr, lr_tpr, marker='.', label='Logistic Regression (AUC = %0.3f)' % rf_auc)\n",
        "plt.plot(nb_fpr, nb_tpr, marker='.', label='Naive Bayes (AUC = %0.3f)' % nb_auc)\n",
        "plt.plot(rf_fpr, rf_tpr, marker='.', label='Random Forest (AUC = %0.3f)' % rf_auc)\n",
        "plt.plot(nn_fpr, nn_tpr, marker='.', label='Neural Network (AUC = %0.3f)' % nn_auc)\n",
        "\n",
        "# Title\n",
        "plt.title('ROC curves\\n(features: consine similarity and word superposition)', fontsize='20')\n",
        "# Axis labels\n",
        "plt.xlabel('False Positive Rate (1 - Specificity)', fontsize='18')\n",
        "plt.ylabel('True Positive Rate (Sensitivity)', fontsize='18')\n",
        "# Show legend\n",
        "plt.legend(fontsize='12') # \n",
        "# Show plot\n",
        "plt.show()"
      ],
      "execution_count": null,
      "outputs": []
    },
    {
      "cell_type": "markdown",
      "metadata": {
        "id": "OnVA4fRqbK8I"
      },
      "source": [
        "### ROC curves (all features)"
      ]
    },
    {
      "cell_type": "code",
      "metadata": {
        "id": "X-pFJxBGwmCt"
      },
      "source": [
        "r_probs_all = [0 for _ in range(len(y_test_number))]\n",
        "lr_probs_all = logistic_regression_all.predict_proba(test_features)[:, 1]\n",
        "nb_probs_all = naive_bayes_all.predict_proba(test_features)[:, 1]\n",
        "rf_probs_all = random_forest_all.predict_proba(test_features)[:, 1]\n",
        "nn_probs_all = neural_network_all.predict_proba(test_features)[:, 1]"
      ],
      "execution_count": null,
      "outputs": []
    },
    {
      "cell_type": "code",
      "metadata": {
        "id": "v5Fe4_VfEZVl"
      },
      "source": [
        "r_auc_all = roc_auc_score(y_test_number, r_probs_all)\n",
        "lr_auc_all = roc_auc_score(y_test_number, lr_probs_all)\n",
        "nb_auc_all = roc_auc_score(y_test_number, nb_probs_all)\n",
        "rf_auc_all = roc_auc_score(y_test_number, rf_probs_all)\n",
        "nn_auc_all = roc_auc_score(y_test_number, nn_probs_all)"
      ],
      "execution_count": null,
      "outputs": []
    },
    {
      "cell_type": "code",
      "metadata": {
        "id": "SD8LNwK9FJnn"
      },
      "source": [
        "print('Random (chance) Prediction: AUROC = %.3f' % (r_auc_all))\n",
        "print('Linear Regression: AUROC = %.3f' % (lr_auc_all))\n",
        "print('Naive Bayes: AUROC = %.3f' % (nb_auc_all))\n",
        "print('Random Forest: AUROC = %.3f' % (rf_auc_all))\n",
        "print('Neural Network: AUROC = %.3f' % (nn_auc_all))"
      ],
      "execution_count": null,
      "outputs": []
    },
    {
      "cell_type": "code",
      "metadata": {
        "id": "Qj6YVP2RFxXm"
      },
      "source": [
        "r_fpr_all, r_tpr_all, _ = roc_curve(y_test_number, r_probs_all)#, pos_label='disagree')\n",
        "lr_fpr_all, lr_tpr_all, _ = roc_curve(y_test_number, lr_probs_all)#, pos_label='disagree')\n",
        "nb_fpr_all, nb_tpr_all, _ = roc_curve(y_test_number, nb_probs_all)#, pos_label='disagree')\n",
        "rf_fpr_all, rf_tpr_all, _ = roc_curve(y_test_number, rf_probs_all)#, pos_label='disagree')\n",
        "nn_fpr_all, nn_tpr_all, _ = roc_curve(y_test_number, nn_probs_all)#, pos_label='disagree')"
      ],
      "execution_count": null,
      "outputs": []
    },
    {
      "cell_type": "code",
      "metadata": {
        "id": "HvP1sUVmH_SQ"
      },
      "source": [
        "fig, ax = plt.subplots(figsize=(11,11), )\n",
        "plt.plot(r_fpr_all, r_tpr_all, linestyle='--', label='Random prediction (AUC = %0.3f)' % r_auc_all)\n",
        "plt.plot(lr_fpr_all, lr_tpr_all, marker='.', label='Logistic Regression (AUC = %0.3f)' % lr_auc_all)\n",
        "plt.plot(nb_fpr_all, nb_tpr_all, marker='.', label='Naive Bayes (AUC = %0.3f)' % nb_auc_all)\n",
        "plt.plot(rf_fpr_all, rf_tpr_all, marker='.', label='Random Forest (AUC = %0.3f)' % rf_auc_all)\n",
        "plt.plot(nn_fpr_all, nn_tpr_all, marker='.', label='Neural Network (AUC = %0.3f)' % nn_auc_all)\n",
        "\n",
        "# Title\n",
        "plt.title('ROC curves\\n(features: TF-IDF, consine similarity and word superposition)', fontsize='20')\n",
        "# Axis labels\n",
        "plt.xlabel('False Positive Rate (1 - Specificity)', fontsize='18')\n",
        "plt.ylabel('True Positive Rate (Sensitivity)', fontsize='18')\n",
        "# Show legend\n",
        "plt.legend(fontsize='12') # \n",
        "# Show plot\n",
        "plt.show()"
      ],
      "execution_count": null,
      "outputs": []
    },
    {
      "cell_type": "markdown",
      "metadata": {
        "id": "Mndu_9jLbvcK"
      },
      "source": [
        "## Confusion matrices comparative"
      ]
    },
    {
      "cell_type": "code",
      "metadata": {
        "id": "7ANguynEX48H"
      },
      "source": [
        "fig, axes = plt.subplots(nrows=2, ncols=2, figsize=(15,10))\n",
        "\n",
        "classifiers = [logistic_regression_clf, naive_bayes_clf, random_forest_clf, neural_network_clf]\n",
        "\n",
        "for cls, ax in zip(classifiers, axes.flatten()):\n",
        "    plot_confusion_matrix(cls, \n",
        "                          df_X_test, \n",
        "                          y_test, \n",
        "                          ax=ax,\n",
        "                          values_format='d', \n",
        "                          cmap='Blues')\n",
        "    ax.title.set_text(type(cls).__name__)\n",
        "plt.tight_layout()  \n",
        "plt.show()"
      ],
      "execution_count": null,
      "outputs": []
    },
    {
      "cell_type": "code",
      "metadata": {
        "id": "Uq0-CmHPZ3cJ"
      },
      "source": [
        "fig, axes = plt.subplots(nrows=2, ncols=2, figsize=(15,10))\n",
        "\n",
        "classifiers_all = [logistic_regression_all, naive_bayes_all, random_forest_all, neural_network_all]\n",
        "\n",
        "for cls, ax in zip(classifiers_all, axes.flatten()):\n",
        "    plot_confusion_matrix(cls, \n",
        "                          test_features, \n",
        "                          y_test, \n",
        "                          ax=ax,\n",
        "                          values_format='d', \n",
        "                          cmap='Blues')\n",
        "    ax.title.set_text(type(cls).__name__)\n",
        "plt.tight_layout()  \n",
        "plt.show()"
      ],
      "execution_count": null,
      "outputs": []
    },
    {
      "cell_type": "markdown",
      "metadata": {
        "id": "LABsMcZNcIiA"
      },
      "source": [
        "To be continued..."
      ]
    },
    {
      "cell_type": "code",
      "metadata": {
        "id": "2LtMJINlQLdJ"
      },
      "source": [
        "fig, ax = plt.subplots(figsize=(11,11), )\n",
        "plt.plot(r_fpr_all, r_tpr_all, linestyle='--', label='Random prediction (AUC = %0.3f)' % r_auc_all)\n",
        "plt.plot(lr_fpr_all, lr_tpr_all, marker='.', label='Logistic Regression (AUC = %0.3f)' % lr_auc_all)\n",
        "#plt.plot(nb_fpr_all, nb_tpr_all, marker='.', label='Naive Bayes (AUC = %0.3f)' % nb_auc_all)\n",
        "#plt.plot(rf_fpr_all, rf_tpr_all, marker='.', label='Random Forest (AUC = %0.3f)' % rf_auc_all)\n",
        "#plt.plot(nn_fpr_all, nn_tpr_all, marker='.', label='Neural Network (AUC = %0.3f)' % nn_auc_all)\n",
        "\n",
        "# Title\n",
        "plt.title('Receiver Operator Characteristic - ROC', fontsize='20')\n",
        "# Axis labels\n",
        "plt.xlabel('False Positive Rate (1 - Specificity)', fontsize='18')\n",
        "plt.ylabel('True Positive Rate (Sensitivity)', fontsize='18')\n",
        "# Show legend\n",
        "#plt.legend(fontsize='12') # \n",
        "# Show plot\n",
        "plt.show()"
      ],
      "execution_count": null,
      "outputs": []
    },
    {
      "cell_type": "code",
      "metadata": {
        "id": "kuSkYzPsg0eg"
      },
      "source": [
        "for i in range(4):\n",
        "  print('')      \n",
        "  for y in range(4):\n",
        "    print(cm_lr[i, y], end='\\t')"
      ],
      "execution_count": null,
      "outputs": []
    },
    {
      "cell_type": "code",
      "metadata": {
        "id": "52-GggXxg5wy"
      },
      "source": [
        "cm_lr = cm_lr.astype('float') / cm_lr.sum(axis=1)[:, np.newaxis]\n",
        "cm_lr.diagonal()\n",
        "cm_lr_classes_accuracy = [round(a, 4) for a in cm_lr.diagonal()]\n",
        "for i in range(4):\n",
        "  print(cm_lr_classes_accuracy[i])"
      ],
      "execution_count": null,
      "outputs": []
    }
  ]
}