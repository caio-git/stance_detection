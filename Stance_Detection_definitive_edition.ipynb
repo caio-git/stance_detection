{
  "nbformat": 4,
  "nbformat_minor": 0,
  "metadata": {
    "colab": {
      "name": "Stance Detection definitive edition.ipynb",
      "provenance": [],
      "collapsed_sections": [],
      "machine_shape": "hm",
      "authorship_tag": "ABX9TyNf2LVwkApEojRM/mLu6kdL",
      "include_colab_link": true
    },
    "kernelspec": {
      "name": "python3",
      "display_name": "Python 3"
    },
    "language_info": {
      "name": "python"
    }
  },
  "cells": [
    {
      "cell_type": "markdown",
      "metadata": {
        "id": "view-in-github",
        "colab_type": "text"
      },
      "source": [
        "<a href=\"https://colab.research.google.com/github/caio-git/stance_detection/blob/main/Stance_Detection_definitive_edition.ipynb\" target=\"_parent\"><img src=\"https://colab.research.google.com/assets/colab-badge.svg\" alt=\"Open In Colab\"/></a>"
      ]
    },
    {
      "cell_type": "markdown",
      "metadata": {
        "id": "Deql4HODEFl0"
      },
      "source": [
        "## Importing libs and data"
      ]
    },
    {
      "cell_type": "code",
      "metadata": {
        "id": "Jq0vknvV4VUW",
        "colab": {
          "base_uri": "https://localhost:8080/"
        },
        "outputId": "dd8d2f7d-94ab-4a0d-afc2-4699bc75a28b"
      },
      "source": [
        "import pandas as pd\n",
        "import re, nltk, string, scipy\n",
        "from sklearn.feature_extraction.text import TfidfVectorizer\n",
        "from sklearn.model_selection import train_test_split, GridSearchCV\n",
        "from sklearn.linear_model import LogisticRegression\n",
        "from sklearn.metrics import plot_confusion_matrix, accuracy_score, confusion_matrix, classification_report, roc_curve, roc_auc_score\n",
        "from sklearn.naive_bayes import MultinomialNB, ComplementNB, GaussianNB\n",
        "from sklearn.ensemble import RandomForestClassifier\n",
        "from sklearn.neural_network import MLPClassifier\n",
        "import numpy as np\n",
        "import matplotlib.pyplot as plt\n",
        "import seaborn as sns\n",
        "#from sklearn.metrics.pairwise import cosine_similarity\n",
        "nltk.download('punkt')\n",
        "nltk.download('wordnet')\n",
        "nltk.download('stopwords')\n",
        "nltk.download('rslp')\n",
        "!pip install unidecode\n",
        "import unidecode"
      ],
      "execution_count": null,
      "outputs": [
        {
          "output_type": "stream",
          "text": [
            "[nltk_data] Downloading package punkt to /root/nltk_data...\n",
            "[nltk_data]   Package punkt is already up-to-date!\n",
            "[nltk_data] Downloading package wordnet to /root/nltk_data...\n",
            "[nltk_data]   Package wordnet is already up-to-date!\n",
            "[nltk_data] Downloading package stopwords to /root/nltk_data...\n",
            "[nltk_data]   Package stopwords is already up-to-date!\n",
            "[nltk_data] Downloading package rslp to /root/nltk_data...\n",
            "[nltk_data]   Package rslp is already up-to-date!\n",
            "Requirement already satisfied: unidecode in /usr/local/lib/python3.7/dist-packages (1.2.0)\n"
          ],
          "name": "stdout"
        }
      ]
    },
    {
      "cell_type": "code",
      "metadata": {
        "id": "PNdWxnflChpQ",
        "colab": {
          "base_uri": "https://localhost:8080/"
        },
        "outputId": "003a2e34-3ab9-4703-d2d3-fdfd9ee1f365"
      },
      "source": [
        "!wget -O /content/stance_detection_3.zip https://github.com/caio-git/datasets/blob/main/stance_detection_3.zip?raw=true\n",
        "!unzip /content/stance_detection_3.zip"
      ],
      "execution_count": null,
      "outputs": [
        {
          "output_type": "stream",
          "text": [
            "--2021-07-04 12:11:39--  https://github.com/caio-git/datasets/blob/main/stance_detection_3.zip?raw=true\n",
            "Resolving github.com (github.com)... 140.82.114.3\n",
            "Connecting to github.com (github.com)|140.82.114.3|:443... connected.\n",
            "HTTP request sent, awaiting response... 302 Found\n",
            "Location: https://github.com/caio-git/datasets/raw/main/stance_detection_3.zip [following]\n",
            "--2021-07-04 12:11:39--  https://github.com/caio-git/datasets/raw/main/stance_detection_3.zip\n",
            "Reusing existing connection to github.com:443.\n",
            "HTTP request sent, awaiting response... 302 Found\n",
            "Location: https://raw.githubusercontent.com/caio-git/datasets/main/stance_detection_3.zip [following]\n",
            "--2021-07-04 12:11:39--  https://raw.githubusercontent.com/caio-git/datasets/main/stance_detection_3.zip\n",
            "Resolving raw.githubusercontent.com (raw.githubusercontent.com)... 185.199.108.133, 185.199.109.133, 185.199.110.133, ...\n",
            "Connecting to raw.githubusercontent.com (raw.githubusercontent.com)|185.199.108.133|:443... connected.\n",
            "HTTP request sent, awaiting response... 200 OK\n",
            "Length: 7120576 (6.8M) [application/zip]\n",
            "Saving to: ‘/content/stance_detection_3.zip’\n",
            "\n",
            "/content/stance_det 100%[===================>]   6.79M  13.8MB/s    in 0.5s    \n",
            "\n",
            "2021-07-04 12:11:40 (13.8 MB/s) - ‘/content/stance_detection_3.zip’ saved [7120576/7120576]\n",
            "\n",
            "Archive:  /content/stance_detection_3.zip\n",
            "  inflating: stance_detection_3.csv  \n"
          ],
          "name": "stdout"
        }
      ]
    },
    {
      "cell_type": "code",
      "metadata": {
        "colab": {
          "base_uri": "https://localhost:8080/",
          "height": 204
        },
        "id": "BBCP3XQZSJjC",
        "outputId": "76fe1be8-bbe9-4da2-9953-7a73ac2de9ed"
      },
      "source": [
        "df = pd.read_csv('/content/stance_detection_3.csv', index_col=False)\n",
        "df.head()"
      ],
      "execution_count": null,
      "outputs": [
        {
          "output_type": "execute_result",
          "data": {
            "text/html": [
              "<div>\n",
              "<style scoped>\n",
              "    .dataframe tbody tr th:only-of-type {\n",
              "        vertical-align: middle;\n",
              "    }\n",
              "\n",
              "    .dataframe tbody tr th {\n",
              "        vertical-align: top;\n",
              "    }\n",
              "\n",
              "    .dataframe thead th {\n",
              "        text-align: right;\n",
              "    }\n",
              "</style>\n",
              "<table border=\"1\" class=\"dataframe\">\n",
              "  <thead>\n",
              "    <tr style=\"text-align: right;\">\n",
              "      <th></th>\n",
              "      <th>news</th>\n",
              "      <th>headline</th>\n",
              "      <th>tag</th>\n",
              "    </tr>\n",
              "  </thead>\n",
              "  <tbody>\n",
              "    <tr>\n",
              "      <th>0</th>\n",
              "      <td>a senadora kátia abreu (sem partido-to) disse ...</td>\n",
              "      <td>podemos expulsa gaguim e abre espaco para kati...</td>\n",
              "      <td>disagree</td>\n",
              "    </tr>\n",
              "    <tr>\n",
              "      <th>1</th>\n",
              "      <td>um texto de jorge gauthier, para o blog me sal...</td>\n",
              "      <td>zico critica montagem do elenco no flamengo e ...</td>\n",
              "      <td>disagree</td>\n",
              "    </tr>\n",
              "    <tr>\n",
              "      <th>2</th>\n",
              "      <td>o governador de são paulo, geraldo alckmin, as...</td>\n",
              "      <td>alckmin diz que previa nao divide previa escolhe</td>\n",
              "      <td>disagree</td>\n",
              "    </tr>\n",
              "    <tr>\n",
              "      <th>3</th>\n",
              "      <td>o teatro oficina procurou o ministério público...</td>\n",
              "      <td>doria vai receber ze celso apos reuniao com r...</td>\n",
              "      <td>disagree</td>\n",
              "    </tr>\n",
              "    <tr>\n",
              "      <th>4</th>\n",
              "      <td>a ministra dos direitos humanos luislinda valo...</td>\n",
              "      <td>laranja de geddel trabalhou na campanha de aecio</td>\n",
              "      <td>disagree</td>\n",
              "    </tr>\n",
              "  </tbody>\n",
              "</table>\n",
              "</div>"
            ],
            "text/plain": [
              "                                                news  ...       tag\n",
              "0  a senadora kátia abreu (sem partido-to) disse ...  ...  disagree\n",
              "1  um texto de jorge gauthier, para o blog me sal...  ...  disagree\n",
              "2  o governador de são paulo, geraldo alckmin, as...  ...  disagree\n",
              "3  o teatro oficina procurou o ministério público...  ...  disagree\n",
              "4  a ministra dos direitos humanos luislinda valo...  ...  disagree\n",
              "\n",
              "[5 rows x 3 columns]"
            ]
          },
          "metadata": {
            "tags": []
          },
          "execution_count": 3
        }
      ]
    },
    {
      "cell_type": "markdown",
      "metadata": {
        "id": "igz23m0S44cw"
      },
      "source": [
        "## Text preprocessing"
      ]
    },
    {
      "cell_type": "code",
      "metadata": {
        "id": "mEgj7Vl7WmIB"
      },
      "source": [
        "stopwords = nltk.corpus.stopwords.words('portuguese')\n",
        "stopwords = [unidecode.unidecode(word) for word in stopwords]\n",
        "stemmer = nltk.stem.RSLPStemmer()"
      ],
      "execution_count": null,
      "outputs": []
    },
    {
      "cell_type": "code",
      "metadata": {
        "id": "lsNN-e4AoZs3"
      },
      "source": [
        "def text_preprocess(text):\n",
        "  text = re.sub(r'\\s+', ' ', text) \n",
        "  text = unidecode.unidecode(text)\n",
        "  text = re.sub('[^a-zA-Z\\s]', '', text)\n",
        "  text = text.lower()\n",
        "\n",
        "  tokens = []\n",
        "  for token in nltk.word_tokenize(text):\n",
        "    tokens.append(token)\n",
        "      \n",
        "  tokens = [stemmer.stem(token) for token in tokens if token not in stopwords and token not in string.punctuation]\n",
        "  preprocessed_text = ' '.join([str(word) for word in tokens if not word.isdigit()])\n",
        "\n",
        "  return preprocessed_text"
      ],
      "execution_count": null,
      "outputs": []
    },
    {
      "cell_type": "code",
      "metadata": {
        "id": "sghirO75NdJi"
      },
      "source": [
        "df['news_preprocessed'] = df['news'].apply(text_preprocess)\n",
        "df['headline_preprocessed'] = df['headline'].apply(text_preprocess)\n",
        "df.drop(columns=['news', 'headline'], inplace=True)"
      ],
      "execution_count": null,
      "outputs": []
    },
    {
      "cell_type": "markdown",
      "metadata": {
        "id": "MYHTppaa5Dpl"
      },
      "source": [
        "## Cosine similarity feature extraction"
      ]
    },
    {
      "cell_type": "code",
      "metadata": {
        "id": "qstE4uXE1HMY"
      },
      "source": [
        "vectorizer_for_cos_sim = TfidfVectorizer(ngram_range=(1,2), lowercase=True, stop_words=stopwords)"
      ],
      "execution_count": null,
      "outputs": []
    },
    {
      "cell_type": "code",
      "metadata": {
        "id": "oijQO1WQA5C3"
      },
      "source": [
        "def cos_sim_extractor(news_headline_df):\n",
        "  news_and_headline = []\n",
        "  news_and_headline.append(news_headline_df['news_preprocessed'])\n",
        "  news_and_headline.append(news_headline_df['headline_preprocessed'])\n",
        "  tfidf = vectorizer_for_cos_sim.fit_transform(news_and_headline)\n",
        "  cosine_similarity_news_headline = (tfidf * tfidf.T).A\n",
        "  return cosine_similarity_news_headline[0][1]"
      ],
      "execution_count": null,
      "outputs": []
    },
    {
      "cell_type": "code",
      "metadata": {
        "id": "x6ZR4GZ9BO87"
      },
      "source": [
        "df['cosine_similarity_value'] = df.apply(cos_sim_extractor, axis=1)"
      ],
      "execution_count": null,
      "outputs": []
    },
    {
      "cell_type": "markdown",
      "metadata": {
        "id": "mrAqPsvu-Lv3"
      },
      "source": [
        "## Word superposition feature extraction"
      ]
    },
    {
      "cell_type": "code",
      "metadata": {
        "id": "cSrx-bqVKvk8"
      },
      "source": [
        "def superposition_counter(df_x_train):\n",
        "  news = set(df_x_train['news_preprocessed'].split(' '))\n",
        "  headline = set(df_x_train['headline_preprocessed'].split(' '))\n",
        "  superposition = len((news).intersection(headline)) / float(len(news.union(headline)))  \n",
        "  return superposition"
      ],
      "execution_count": null,
      "outputs": []
    },
    {
      "cell_type": "code",
      "metadata": {
        "id": "M4HoSBgTJqM4"
      },
      "source": [
        "df['superposition'] = df.apply(superposition_counter, axis=1)"
      ],
      "execution_count": null,
      "outputs": []
    },
    {
      "cell_type": "markdown",
      "metadata": {
        "id": "FjcOEDyF_Ilk"
      },
      "source": [
        "## Train test split"
      ]
    },
    {
      "cell_type": "code",
      "metadata": {
        "id": "b9Gli4phK4uG"
      },
      "source": [
        "X = df.drop(columns=['tag'])\n",
        "y = df['tag']"
      ],
      "execution_count": null,
      "outputs": []
    },
    {
      "cell_type": "code",
      "metadata": {
        "colab": {
          "base_uri": "https://localhost:8080/"
        },
        "id": "slm_QSyts9Jb",
        "outputId": "24474dd3-8a21-4064-ae6d-ec5170806d94"
      },
      "source": [
        "y.value_counts()"
      ],
      "execution_count": null,
      "outputs": [
        {
          "output_type": "execute_result",
          "data": {
            "text/plain": [
              "disagree    2392\n",
              "agree       2372\n",
              "Name: tag, dtype: int64"
            ]
          },
          "metadata": {
            "tags": []
          },
          "execution_count": 13
        }
      ]
    },
    {
      "cell_type": "code",
      "metadata": {
        "id": "ofB5ZX3wLyIw"
      },
      "source": [
        "X_train, X_test, y_train, y_test = train_test_split(X, y, test_size=0.3, random_state=42)"
      ],
      "execution_count": null,
      "outputs": []
    },
    {
      "cell_type": "markdown",
      "metadata": {
        "id": "a_FZ_8Hw_w_6"
      },
      "source": [
        "## TF-IDF feature extraction from Training and Test sets"
      ]
    },
    {
      "cell_type": "code",
      "metadata": {
        "id": "Pgn2olpzh-t2"
      },
      "source": [
        "news_vectorizer = TfidfVectorizer(ngram_range=(1, 2), lowercase=True, stop_words=stopwords)\n",
        "train_news_tfidf = news_vectorizer.fit_transform(X_train['news_preprocessed'])\n",
        "test_news_tfidf = news_vectorizer.transform(X_test['news_preprocessed'])\n",
        "\n",
        "headline_vectorizer = TfidfVectorizer(ngram_range=(1, 2), lowercase=True, stop_words=stopwords)\n",
        "train_headline_tfidf = headline_vectorizer.fit_transform(X_train['headline_preprocessed'])\n",
        "test_headline_tfidf = headline_vectorizer.transform(X_test['headline_preprocessed'])"
      ],
      "execution_count": null,
      "outputs": []
    },
    {
      "cell_type": "code",
      "metadata": {
        "id": "Iq7tN2E7tcLy",
        "colab": {
          "base_uri": "https://localhost:8080/"
        },
        "outputId": "94dcf1d0-633d-4c53-c600-2851437aa3e9"
      },
      "source": [
        "tfidf_news_len = news_vectorizer.get_feature_names()\n",
        "tfidf_headline_len = headline_vectorizer.get_feature_names()\n",
        "print('number of news ti-idf tokens: ' + str(len(tfidf_news_len)) + '\\nnumber of headline ti-idf tokens: ' + str(len(tfidf_headline_len)))"
      ],
      "execution_count": null,
      "outputs": [
        {
          "output_type": "stream",
          "text": [
            "number of news ti-idf tokens: 676164\n",
            "number of headline ti-idf tokens: 22411\n"
          ],
          "name": "stdout"
        }
      ]
    },
    {
      "cell_type": "code",
      "metadata": {
        "colab": {
          "base_uri": "https://localhost:8080/"
        },
        "id": "UnasoYLAgEeC",
        "outputId": "b1065402-ef93-44dd-c0d9-f16577aaf2eb"
      },
      "source": [
        "feature_names = np.array(tfidf_news_len)\n",
        "sorted_by_idf = np.argsort(news_vectorizer.idf_)\n",
        "print(\"Features with highest idf:\\n{}\\n\".format(feature_names[sorted_by_idf[-10:]]))\n",
        "print(\"Features with lowest idf:\\n{}\".format(feature_names[sorted_by_idf[:10]]))"
      ],
      "execution_count": null,
      "outputs": [
        {
          "output_type": "stream",
          "text": [
            "Features with highest idf:\n",
            "['fat supost' 'fat sob' 'fat soc' 'fat sol' 'fat somams' 'fat sonh'\n",
            " 'fat suced' 'fat sucess' 'fat sobr' 'inter clar']\n",
            "\n",
            "Features with lowest idf:\n",
            "['diss' 'pod' 'ser' 'ano' 'cas' 'outr' 'brasil' 'sobr' 'tod' 'part']\n"
          ],
          "name": "stdout"
        }
      ]
    },
    {
      "cell_type": "markdown",
      "metadata": {
        "id": "0qUnGBgrDllL"
      },
      "source": [
        "## Adjusting data for ML input"
      ]
    },
    {
      "cell_type": "code",
      "metadata": {
        "id": "zNpbdlMIBQAs"
      },
      "source": [
        "training_superposition = scipy.sparse.coo_matrix(X_train.superposition.values)\n",
        "test_superposition = scipy.sparse.coo_matrix(X_test.superposition.values)\n",
        "training_cos_sim = scipy.sparse.coo_matrix(X_train.cosine_similarity_value.values)\n",
        "test_cos_sim = scipy.sparse.coo_matrix(X_test.cosine_similarity_value.values)\n",
        "\n",
        "training_tfidf = scipy.sparse.hstack([train_news_tfidf, train_headline_tfidf])\n",
        "test_tfidf = scipy.sparse.hstack([test_news_tfidf, test_headline_tfidf])\n",
        "\n",
        "training_features = scipy.sparse.bmat([[training_tfidf, training_cos_sim.T, training_superposition.T]])\n",
        "test_features = scipy.sparse.bmat([[test_tfidf, test_cos_sim.T, test_superposition.T]])"
      ],
      "execution_count": null,
      "outputs": []
    },
    {
      "cell_type": "code",
      "metadata": {
        "id": "KWBwN72STLKy"
      },
      "source": [
        "df_X_train = X_train.drop(columns=['news_preprocessed', 'headline_preprocessed'])"
      ],
      "execution_count": null,
      "outputs": []
    },
    {
      "cell_type": "code",
      "metadata": {
        "id": "7lpnippLQvv7"
      },
      "source": [
        "from sklearn import preprocessing"
      ],
      "execution_count": null,
      "outputs": []
    },
    {
      "cell_type": "code",
      "metadata": {
        "id": "g1pGewZYQxUq"
      },
      "source": [
        "training_features_normalized = preprocessing.normalize(training_features)"
      ],
      "execution_count": null,
      "outputs": []
    },
    {
      "cell_type": "code",
      "metadata": {
        "id": "HCagaHYCREqo"
      },
      "source": [
        "test_features_normalized = preprocessing.normalize(test_features)"
      ],
      "execution_count": null,
      "outputs": []
    },
    {
      "cell_type": "code",
      "metadata": {
        "id": "IPqsRUMeUSWd"
      },
      "source": [
        "df_X_test = X_test.drop(columns=['news_preprocessed', 'headline_preprocessed'])"
      ],
      "execution_count": null,
      "outputs": []
    },
    {
      "cell_type": "code",
      "metadata": {
        "id": "eipMSCPP0Mb-"
      },
      "source": [
        "def change(f):\n",
        "    if f == 'disagree':\n",
        "        return 1    \n",
        "    else:\n",
        "        return 0\n",
        "\n",
        "y_train = [change(x) for x in y_train]\n",
        "y_test = [change(x) for x in y_test]"
      ],
      "execution_count": null,
      "outputs": []
    },
    {
      "cell_type": "markdown",
      "metadata": {
        "id": "bBxduCkfDy7X"
      },
      "source": [
        "### Logistic Regression (cosine similarity and word superposition)"
      ]
    },
    {
      "cell_type": "code",
      "metadata": {
        "colab": {
          "base_uri": "https://localhost:8080/"
        },
        "id": "LaTKDq1lbWJh",
        "outputId": "6fd6219c-2f56-4167-b919-0517981a6015"
      },
      "source": [
        "logistic_regression_clf = LogisticRegression()\n",
        "logistic_regression_clf.fit(df_X_train, y_train)"
      ],
      "execution_count": null,
      "outputs": [
        {
          "output_type": "execute_result",
          "data": {
            "text/plain": [
              "LogisticRegression(C=1.0, class_weight=None, dual=False, fit_intercept=True,\n",
              "                   intercept_scaling=1, l1_ratio=None, max_iter=100,\n",
              "                   multi_class='auto', n_jobs=None, penalty='l2',\n",
              "                   random_state=None, solver='lbfgs', tol=0.0001, verbose=0,\n",
              "                   warm_start=False)"
            ]
          },
          "metadata": {
            "tags": []
          },
          "execution_count": 25
        }
      ]
    },
    {
      "cell_type": "code",
      "metadata": {
        "colab": {
          "base_uri": "https://localhost:8080/"
        },
        "id": "KvKNmf12i6mF",
        "outputId": "5e8186c0-ec37-4a6d-ce72-f43cb8618bdf"
      },
      "source": [
        "logistic_regression_clf.score(df_X_test, y_test)"
      ],
      "execution_count": null,
      "outputs": [
        {
          "output_type": "execute_result",
          "data": {
            "text/plain": [
              "0.7853146853146853"
            ]
          },
          "metadata": {
            "tags": []
          },
          "execution_count": 26
        }
      ]
    },
    {
      "cell_type": "code",
      "metadata": {
        "id": "p5ulzZoulAdJ",
        "colab": {
          "base_uri": "https://localhost:8080/"
        },
        "outputId": "a1a3d293-31ef-4a97-dfa7-9a4c42bfe68a"
      },
      "source": [
        "y_pred_lr = logistic_regression_clf.predict(df_X_test)\n",
        "print(classification_report(y_test, y_pred_lr))"
      ],
      "execution_count": null,
      "outputs": [
        {
          "output_type": "stream",
          "text": [
            "              precision    recall  f1-score   support\n",
            "\n",
            "           0       0.83      0.71      0.76       696\n",
            "           1       0.76      0.86      0.80       734\n",
            "\n",
            "    accuracy                           0.79      1430\n",
            "   macro avg       0.79      0.78      0.78      1430\n",
            "weighted avg       0.79      0.79      0.78      1430\n",
            "\n"
          ],
          "name": "stdout"
        }
      ]
    },
    {
      "cell_type": "code",
      "metadata": {
        "id": "fEi24apOpdPA",
        "colab": {
          "base_uri": "https://localhost:8080/"
        },
        "outputId": "6e6eb2fd-d8ea-4c8d-c2d2-af13686945ae"
      },
      "source": [
        "cm_lr = confusion_matrix(y_test, y_pred_lr)\n",
        "cm_lr"
      ],
      "execution_count": null,
      "outputs": [
        {
          "output_type": "execute_result",
          "data": {
            "text/plain": [
              "array([[492, 204],\n",
              "       [103, 631]])"
            ]
          },
          "metadata": {
            "tags": []
          },
          "execution_count": 28
        }
      ]
    },
    {
      "cell_type": "code",
      "metadata": {
        "colab": {
          "base_uri": "https://localhost:8080/"
        },
        "id": "nSKtCdTfZUQw",
        "outputId": "a4450307-01f1-44ec-a78b-9f1574b8aa74"
      },
      "source": [
        "tn, fp, fn, tp = confusion_matrix(y_test, y_pred_lr).ravel()\n",
        "(tn, fp, fn, tp)"
      ],
      "execution_count": null,
      "outputs": [
        {
          "output_type": "execute_result",
          "data": {
            "text/plain": [
              "(492, 204, 103, 631)"
            ]
          },
          "metadata": {
            "tags": []
          },
          "execution_count": 29
        }
      ]
    },
    {
      "cell_type": "code",
      "metadata": {
        "colab": {
          "base_uri": "https://localhost:8080/",
          "height": 629
        },
        "id": "x7HDI1yrYfKN",
        "outputId": "4dd12845-d8c6-4d1f-b479-22ccd2f045cc"
      },
      "source": [
        "fig, ax = plt.subplots(figsize=(11,11))\n",
        "ax.set_title('Logistic Regression\\n(features: cosine similarity and word superposition)', fontsize='18')\n",
        "plot_confusion_matrix(logistic_regression_clf, df_X_test, y_test, values_format='d', cmap='Blues', ax=ax)\n",
        "plt.show()"
      ],
      "execution_count": null,
      "outputs": [
        {
          "output_type": "display_data",
          "data": {
            "image/png": "[encoded data removed]",
            "text/plain": [
              "<Figure size 792x792 with 2 Axes>"
            ]
          },
          "metadata": {
            "tags": [],
            "needs_background": "light"
          }
        }
      ]
    },
    {
      "cell_type": "markdown",
      "metadata": {
        "id": "e2wVO5hqoa0c"
      },
      "source": [
        "### Logistic Regression hyperparameter tunning"
      ]
    },
    {
      "cell_type": "code",
      "metadata": {
        "id": "f2xUGV0Doh9d"
      },
      "source": [
        "c_space = np.logspace(-3, 3, 30)\n",
        "grid_values = {'C': c_space}\n",
        "gs_logistic_regression_clf = GridSearchCV(logistic_regression_clf, param_grid=grid_values, cv=5)"
      ],
      "execution_count": null,
      "outputs": []
    },
    {
      "cell_type": "code",
      "metadata": {
        "colab": {
          "base_uri": "https://localhost:8080/"
        },
        "id": "fB2komudpvkQ",
        "outputId": "9d340334-88ab-4661-a030-39ed1c0a3c2e"
      },
      "source": [
        "gs_logistic_regression_clf.fit(df_X_train, y_train)"
      ],
      "execution_count": null,
      "outputs": [
        {
          "output_type": "execute_result",
          "data": {
            "text/plain": [
              "GridSearchCV(cv=5, error_score=nan,\n",
              "             estimator=LogisticRegression(C=1.0, class_weight=None, dual=False,\n",
              "                                          fit_intercept=True,\n",
              "                                          intercept_scaling=1, l1_ratio=None,\n",
              "                                          max_iter=100, multi_class='auto',\n",
              "                                          n_jobs=None, penalty='l2',\n",
              "                                          random_state=None, solver='lbfgs',\n",
              "                                          tol=0.0001, verbose=0,\n",
              "                                          warm_start=False),\n",
              "             iid='deprecated', n_jobs=None,\n",
              "             param_grid={'C': array([1.00000000e-03, 1.6...\n",
              "       3.03919538e-01, 4.89390092e-01, 7.88046282e-01, 1.26896100e+00,\n",
              "       2.04335972e+00, 3.29034456e+00, 5.29831691e+00, 8.53167852e+00,\n",
              "       1.37382380e+01, 2.21221629e+01, 3.56224789e+01, 5.73615251e+01,\n",
              "       9.23670857e+01, 1.48735211e+02, 2.39502662e+02, 3.85662042e+02,\n",
              "       6.21016942e+02, 1.00000000e+03])},\n",
              "             pre_dispatch='2*n_jobs', refit=True, return_train_score=False,\n",
              "             scoring=None, verbose=0)"
            ]
          },
          "metadata": {
            "tags": []
          },
          "execution_count": 32
        }
      ]
    },
    {
      "cell_type": "code",
      "metadata": {
        "colab": {
          "base_uri": "https://localhost:8080/"
        },
        "id": "xY4F2jGzqNeT",
        "outputId": "a3a3ae5b-a78a-4d60-ecb1-7cedd2e271ac"
      },
      "source": [
        "# Print the optimal parameters and best score\n",
        "print(\"Tuned Logistic Regression Parameter: {}\".format(gs_logistic_regression_clf.best_params_))\n",
        "print(\"Tuned Logistic Regression Accuracy: {}\".format(gs_logistic_regression_clf.best_score_))"
      ],
      "execution_count": null,
      "outputs": [
        {
          "output_type": "stream",
          "text": [
            "Tuned Logistic Regression Parameter: {'C': 22.122162910704503}\n",
            "Tuned Logistic Regression Accuracy: 0.8023452237845042\n"
          ],
          "name": "stdout"
        }
      ]
    },
    {
      "cell_type": "markdown",
      "metadata": {
        "id": "PKe7JfcrE-Ta"
      },
      "source": [
        "## Logistic Regression (all features)"
      ]
    },
    {
      "cell_type": "code",
      "metadata": {
        "colab": {
          "base_uri": "https://localhost:8080/"
        },
        "id": "XlcL1mmMIHGL",
        "outputId": "e5de26d8-1564-4090-c233-7c93bc00ee07"
      },
      "source": [
        "logistic_regression_all = LogisticRegression()\n",
        "logistic_regression_all.fit(training_features, y_train)"
      ],
      "execution_count": null,
      "outputs": [
        {
          "output_type": "execute_result",
          "data": {
            "text/plain": [
              "LogisticRegression(C=1.0, class_weight=None, dual=False, fit_intercept=True,\n",
              "                   intercept_scaling=1, l1_ratio=None, max_iter=100,\n",
              "                   multi_class='auto', n_jobs=None, penalty='l2',\n",
              "                   random_state=None, solver='lbfgs', tol=0.0001, verbose=0,\n",
              "                   warm_start=False)"
            ]
          },
          "metadata": {
            "tags": []
          },
          "execution_count": 34
        }
      ]
    },
    {
      "cell_type": "code",
      "metadata": {
        "colab": {
          "base_uri": "https://localhost:8080/"
        },
        "id": "AKp2QNjbV8_7",
        "outputId": "1b1eb815-1850-4bf7-9eb0-5d9f96d707e7"
      },
      "source": [
        "logistic_regression_all.score(test_features, y_test)"
      ],
      "execution_count": null,
      "outputs": [
        {
          "output_type": "execute_result",
          "data": {
            "text/plain": [
              "0.8447552447552448"
            ]
          },
          "metadata": {
            "tags": []
          },
          "execution_count": 35
        }
      ]
    },
    {
      "cell_type": "code",
      "metadata": {
        "id": "ZaWrcWA3pesl",
        "colab": {
          "base_uri": "https://localhost:8080/"
        },
        "outputId": "6a863fef-d763-4ff2-b62f-044c4e395466"
      },
      "source": [
        "y_pred_lr_all = logistic_regression_all.predict(test_features)\n",
        "print(classification_report(y_test, y_pred_lr_all))"
      ],
      "execution_count": null,
      "outputs": [
        {
          "output_type": "stream",
          "text": [
            "              precision    recall  f1-score   support\n",
            "\n",
            "           0       0.89      0.78      0.83       696\n",
            "           1       0.81      0.90      0.86       734\n",
            "\n",
            "    accuracy                           0.84      1430\n",
            "   macro avg       0.85      0.84      0.84      1430\n",
            "weighted avg       0.85      0.84      0.84      1430\n",
            "\n"
          ],
          "name": "stdout"
        }
      ]
    },
    {
      "cell_type": "code",
      "metadata": {
        "id": "lM9i5ksRTwpD",
        "colab": {
          "base_uri": "https://localhost:8080/"
        },
        "outputId": "45aef416-7fef-4602-c8fe-701ad3008cd0"
      },
      "source": [
        "cm_lr_all = confusion_matrix(y_test, y_pred_lr_all)\n",
        "cm_lr_all"
      ],
      "execution_count": null,
      "outputs": [
        {
          "output_type": "execute_result",
          "data": {
            "text/plain": [
              "array([[544, 152],\n",
              "       [ 70, 664]])"
            ]
          },
          "metadata": {
            "tags": []
          },
          "execution_count": 37
        }
      ]
    },
    {
      "cell_type": "code",
      "metadata": {
        "colab": {
          "base_uri": "https://localhost:8080/",
          "height": 629
        },
        "id": "6qokGcFVxSve",
        "outputId": "0e58d0f8-7b3e-4893-8f55-6328fd9280ba"
      },
      "source": [
        "fig, ax = plt.subplots(figsize=(11,11))\n",
        "ax.set_title('Logistic Regression\\n(all features)', fontsize='18')\n",
        "plot_confusion_matrix(logistic_regression_all, test_features, y_test, values_format='d', cmap='Blues', ax=ax)\n",
        "plt.show()"
      ],
      "execution_count": null,
      "outputs": [
        {
          "output_type": "display_data",
          "data": {
            "image/png": "[encoded data removed]",
            "text/plain": [
              "<Figure size 792x792 with 2 Axes>"
            ]
          },
          "metadata": {
            "tags": [],
            "needs_background": "light"
          }
        }
      ]
    },
    {
      "cell_type": "markdown",
      "metadata": {
        "id": "B81LqOOBRfiQ"
      },
      "source": [
        "### Logistic regression (all features) normalized"
      ]
    },
    {
      "cell_type": "code",
      "metadata": {
        "colab": {
          "base_uri": "https://localhost:8080/"
        },
        "id": "V89wyDm0RpE8",
        "outputId": "b55c85d2-4592-4de7-b7d0-a750e0b19bd8"
      },
      "source": [
        "logistic_regression_all = LogisticRegression()\n",
        "logistic_regression_all.fit(training_features_normalized, y_train)"
      ],
      "execution_count": null,
      "outputs": [
        {
          "output_type": "execute_result",
          "data": {
            "text/plain": [
              "LogisticRegression(C=1.0, class_weight=None, dual=False, fit_intercept=True,\n",
              "                   intercept_scaling=1, l1_ratio=None, max_iter=100,\n",
              "                   multi_class='auto', n_jobs=None, penalty='l2',\n",
              "                   random_state=None, solver='lbfgs', tol=0.0001, verbose=0,\n",
              "                   warm_start=False)"
            ]
          },
          "metadata": {
            "tags": []
          },
          "execution_count": 39
        }
      ]
    },
    {
      "cell_type": "code",
      "metadata": {
        "colab": {
          "base_uri": "https://localhost:8080/"
        },
        "id": "zEqEGVUdRpE-",
        "outputId": "aaf6343a-db59-4be9-ab8d-4d9cb9518a72"
      },
      "source": [
        "logistic_regression_all.score(test_features_normalized, y_test)"
      ],
      "execution_count": null,
      "outputs": [
        {
          "output_type": "execute_result",
          "data": {
            "text/plain": [
              "0.8349650349650349"
            ]
          },
          "metadata": {
            "tags": []
          },
          "execution_count": 40
        }
      ]
    },
    {
      "cell_type": "code",
      "metadata": {
        "colab": {
          "base_uri": "https://localhost:8080/"
        },
        "id": "vJrLjF8PRpE_",
        "outputId": "18318373-db56-495c-9f80-89846f083328"
      },
      "source": [
        "y_pred_lr_all = logistic_regression_all.predict(test_features_normalized)\n",
        "print(classification_report(y_test, y_pred_lr_all))"
      ],
      "execution_count": null,
      "outputs": [
        {
          "output_type": "stream",
          "text": [
            "              precision    recall  f1-score   support\n",
            "\n",
            "           0       0.88      0.76      0.82       696\n",
            "           1       0.80      0.91      0.85       734\n",
            "\n",
            "    accuracy                           0.83      1430\n",
            "   macro avg       0.84      0.83      0.83      1430\n",
            "weighted avg       0.84      0.83      0.83      1430\n",
            "\n"
          ],
          "name": "stdout"
        }
      ]
    },
    {
      "cell_type": "code",
      "metadata": {
        "colab": {
          "base_uri": "https://localhost:8080/"
        },
        "id": "siyR9BaQRpFA",
        "outputId": "6fbad75a-6115-435c-b8d1-7559878200bf"
      },
      "source": [
        "cm_lr_all = confusion_matrix(y_test, y_pred_lr_all)\n",
        "cm_lr_all"
      ],
      "execution_count": null,
      "outputs": [
        {
          "output_type": "execute_result",
          "data": {
            "text/plain": [
              "array([[529, 167],\n",
              "       [ 69, 665]])"
            ]
          },
          "metadata": {
            "tags": []
          },
          "execution_count": 42
        }
      ]
    },
    {
      "cell_type": "code",
      "metadata": {
        "colab": {
          "base_uri": "https://localhost:8080/",
          "height": 629
        },
        "id": "zCpBWFjpRpFA",
        "outputId": "80f9f547-a024-4b15-9f0f-bf583c9a208a"
      },
      "source": [
        "fig, ax = plt.subplots(figsize=(11,11))\n",
        "ax.set_title('Logistic Regression\\n(all features)', fontsize='18')\n",
        "plot_confusion_matrix(logistic_regression_all, test_features_normalized, y_test, values_format='d', cmap='Blues', ax=ax)\n",
        "plt.show()"
      ],
      "execution_count": null,
      "outputs": [
        {
          "output_type": "display_data",
          "data": {
            "image/png": "[encoded data removed]",
            "text/plain": [
              "<Figure size 792x792 with 2 Axes>"
            ]
          },
          "metadata": {
            "tags": [],
            "needs_background": "light"
          }
        }
      ]
    },
    {
      "cell_type": "markdown",
      "metadata": {
        "id": "fnBUC8RmGgBV"
      },
      "source": [
        "### Naive Bayes (cosine similarity and word superposition)"
      ]
    },
    {
      "cell_type": "code",
      "metadata": {
        "colab": {
          "base_uri": "https://localhost:8080/"
        },
        "id": "VWNfozeoynJx",
        "outputId": "958492dc-738f-439a-8a6e-8c133eab70d9"
      },
      "source": [
        "naive_bayes_clf = ComplementNB(alpha=0.01, class_prior=None, fit_prior=True)\n",
        "#naive_bayes_clf = MultinomialNB(fit_prior=False)\n",
        "naive_bayes_clf.fit(df_X_train, y_train)"
      ],
      "execution_count": null,
      "outputs": [
        {
          "output_type": "execute_result",
          "data": {
            "text/plain": [
              "ComplementNB(alpha=0.01, class_prior=None, fit_prior=True, norm=False)"
            ]
          },
          "metadata": {
            "tags": []
          },
          "execution_count": 44
        }
      ]
    },
    {
      "cell_type": "code",
      "metadata": {
        "colab": {
          "base_uri": "https://localhost:8080/"
        },
        "id": "-JpCTLn_ziCo",
        "outputId": "0ef3c88e-9b4e-438b-ea9f-cfa70e4e38c1"
      },
      "source": [
        "naive_bayes_clf.score(df_X_test, y_test)"
      ],
      "execution_count": null,
      "outputs": [
        {
          "output_type": "execute_result",
          "data": {
            "text/plain": [
              "0.5286713286713287"
            ]
          },
          "metadata": {
            "tags": []
          },
          "execution_count": 45
        }
      ]
    },
    {
      "cell_type": "code",
      "metadata": {
        "colab": {
          "base_uri": "https://localhost:8080/"
        },
        "id": "kL86_jGa0N7V",
        "outputId": "ec49bf7b-82c3-4b1f-a590-864cca2a6db8"
      },
      "source": [
        "y_pred_nb = naive_bayes_clf.predict(df_X_test)\n",
        "print(classification_report(y_test, y_pred_nb, zero_division=0))"
      ],
      "execution_count": null,
      "outputs": [
        {
          "output_type": "stream",
          "text": [
            "              precision    recall  f1-score   support\n",
            "\n",
            "           0       0.51      0.60      0.55       696\n",
            "           1       0.55      0.46      0.50       734\n",
            "\n",
            "    accuracy                           0.53      1430\n",
            "   macro avg       0.53      0.53      0.53      1430\n",
            "weighted avg       0.53      0.53      0.53      1430\n",
            "\n"
          ],
          "name": "stdout"
        }
      ]
    },
    {
      "cell_type": "code",
      "metadata": {
        "colab": {
          "base_uri": "https://localhost:8080/",
          "height": 631
        },
        "id": "hcnMy1zC1G50",
        "outputId": "d325663f-1196-460d-ae0b-e6b60bbbcf75"
      },
      "source": [
        "fig, ax = plt.subplots(figsize=(11,11))\n",
        "ax.set_title('Naive Bayes\\n(cosine similarity and word superposition)', fontsize='18')\n",
        "plot_confusion_matrix(naive_bayes_clf, df_X_test, y_test, values_format='d', cmap='Blues', ax=ax)\n",
        "plt.show()"
      ],
      "execution_count": null,
      "outputs": [
        {
          "output_type": "display_data",
          "data": {
            "image/png": "[encoded data removed]",
            "text/plain": [
              "<Figure size 792x792 with 2 Axes>"
            ]
          },
          "metadata": {
            "tags": [],
            "needs_background": "light"
          }
        }
      ]
    },
    {
      "cell_type": "markdown",
      "metadata": {
        "id": "LACc1TboG9hO"
      },
      "source": [
        "### Naive Bayes (all features)"
      ]
    },
    {
      "cell_type": "code",
      "metadata": {
        "colab": {
          "base_uri": "https://localhost:8080/"
        },
        "id": "xa3HqMU7HMex",
        "outputId": "4f663c5a-f9c7-4e46-93e9-74b309750ceb"
      },
      "source": [
        "#naive_bayes_all = ComplementNB()\n",
        "#naive_bayes_all = GaussianNB()\n",
        "naive_bayes_all = MultinomialNB()\n",
        "naive_bayes_all.fit(training_features, y_train)"
      ],
      "execution_count": null,
      "outputs": [
        {
          "output_type": "execute_result",
          "data": {
            "text/plain": [
              "MultinomialNB(alpha=1.0, class_prior=None, fit_prior=True)"
            ]
          },
          "metadata": {
            "tags": []
          },
          "execution_count": 48
        }
      ]
    },
    {
      "cell_type": "code",
      "metadata": {
        "colab": {
          "base_uri": "https://localhost:8080/"
        },
        "id": "9YePyWJMH_QP",
        "outputId": "c2468790-d63b-48b5-8951-66f388f4f3a4"
      },
      "source": [
        "naive_bayes_all.score(test_features, y_test)"
      ],
      "execution_count": null,
      "outputs": [
        {
          "output_type": "execute_result",
          "data": {
            "text/plain": [
              "0.6776223776223776"
            ]
          },
          "metadata": {
            "tags": []
          },
          "execution_count": 49
        }
      ]
    },
    {
      "cell_type": "code",
      "metadata": {
        "colab": {
          "base_uri": "https://localhost:8080/"
        },
        "id": "gizWLtnRKwil",
        "outputId": "f3ae4416-f61c-48b3-a110-7ff16f82f050"
      },
      "source": [
        "y_pred_nb_all = naive_bayes_all.predict(test_features)\n",
        "print(classification_report(y_test, y_pred_nb_all))"
      ],
      "execution_count": null,
      "outputs": [
        {
          "output_type": "stream",
          "text": [
            "              precision    recall  f1-score   support\n",
            "\n",
            "           0       0.64      0.78      0.70       696\n",
            "           1       0.74      0.58      0.65       734\n",
            "\n",
            "    accuracy                           0.68      1430\n",
            "   macro avg       0.69      0.68      0.68      1430\n",
            "weighted avg       0.69      0.68      0.67      1430\n",
            "\n"
          ],
          "name": "stdout"
        }
      ]
    },
    {
      "cell_type": "code",
      "metadata": {
        "colab": {
          "base_uri": "https://localhost:8080/",
          "height": 629
        },
        "id": "PV3jHB9tLNgj",
        "outputId": "50da7567-0398-4961-e0cf-383c1649caa3"
      },
      "source": [
        "fig, ax = plt.subplots(figsize=(11,11))\n",
        "ax.set_title('Naive Bayes\\n(cosine similarity and word superposition)', fontsize='18')\n",
        "plot_confusion_matrix(naive_bayes_all,test_features, y_test, values_format='d', cmap='Blues', ax=ax)\n",
        "plt.show()"
      ],
      "execution_count": null,
      "outputs": [
        {
          "output_type": "display_data",
          "data": {
            "image/png": "[encoded data removed]",
            "text/plain": [
              "<Figure size 792x792 with 2 Axes>"
            ]
          },
          "metadata": {
            "tags": [],
            "needs_background": "light"
          }
        }
      ]
    },
    {
      "cell_type": "markdown",
      "metadata": {
        "id": "sHa6TY9qYSZO"
      },
      "source": [
        "### Nayve Bayes (all features) hyperparameter tunning"
      ]
    },
    {
      "cell_type": "code",
      "metadata": {
        "id": "gk_-glMRX-dc"
      },
      "source": [
        "alpha_space = np.logspace(-9, 9, 50)\n",
        "grid_values = {'alpha': alpha_space}\n",
        "gs_naive_bayes_all = GridSearchCV(naive_bayes_all, param_grid=grid_values, cv=5)"
      ],
      "execution_count": null,
      "outputs": []
    },
    {
      "cell_type": "code",
      "metadata": {
        "colab": {
          "base_uri": "https://localhost:8080/"
        },
        "id": "yfh1450xX-dc",
        "outputId": "5020c459-a872-4305-bbf1-459fb53cf26b"
      },
      "source": [
        "gs_naive_bayes_all.fit(training_features_normalized, y_train)"
      ],
      "execution_count": null,
      "outputs": [
        {
          "output_type": "execute_result",
          "data": {
            "text/plain": [
              "GridSearchCV(cv=5, error_score=nan,\n",
              "             estimator=MultinomialNB(alpha=1.0, class_prior=None,\n",
              "                                     fit_prior=True),\n",
              "             iid='deprecated', n_jobs=None,\n",
              "             param_grid={'alpha': array([1.00000000e-09, 2.32995181e-09, 5.42867544e-09, 1.26485522e-08,\n",
              "       2.94705170e-08, 6.86648845e-08, 1.59985872e-07, 3.72759372e-07,\n",
              "       8.68511374e-07, 2.02358965e-06, 4.71486636e-06, 1.09854114e-05,\n",
              "       2.55954792e-0...\n",
              "       5.68986603e+02, 1.32571137e+03, 3.08884360e+03, 7.19685673e+03,\n",
              "       1.67683294e+04, 3.90693994e+04, 9.10298178e+04, 2.12095089e+05,\n",
              "       4.94171336e+05, 1.15139540e+06, 2.68269580e+06, 6.25055193e+06,\n",
              "       1.45634848e+07, 3.39322177e+07, 7.90604321e+07, 1.84206997e+08,\n",
              "       4.29193426e+08, 1.00000000e+09])},\n",
              "             pre_dispatch='2*n_jobs', refit=True, return_train_score=False,\n",
              "             scoring=None, verbose=0)"
            ]
          },
          "metadata": {
            "tags": []
          },
          "execution_count": 53
        }
      ]
    },
    {
      "cell_type": "code",
      "metadata": {
        "colab": {
          "base_uri": "https://localhost:8080/"
        },
        "id": "_WKHq20TX-dd",
        "outputId": "fbf024b5-2c1f-4ade-aec1-755703e33fdc"
      },
      "source": [
        "# Print the optimal parameters and best score\n",
        "print(\"Tuned Logistic Regression Parameter: {}\".format(gs_naive_bayes_all.best_params_))\n",
        "print(\"Tuned Logistic Regression Accuracy: {}\".format(gs_naive_bayes_all.best_score_))"
      ],
      "execution_count": null,
      "outputs": [
        {
          "output_type": "stream",
          "text": [
            "Tuned Logistic Regression Parameter: {'alpha': 1.5264179671752365}\n",
            "Tuned Logistic Regression Accuracy: 0.7000594297445872\n"
          ],
          "name": "stdout"
        }
      ]
    },
    {
      "cell_type": "markdown",
      "metadata": {
        "id": "UegKcmrZSICL"
      },
      "source": [
        "### Naive bayes (all features) normalized"
      ]
    },
    {
      "cell_type": "code",
      "metadata": {
        "colab": {
          "base_uri": "https://localhost:8080/"
        },
        "id": "iDDNpqrUSPnl",
        "outputId": "5f81f5d6-90b6-4a50-cb17-67974e58bb30"
      },
      "source": [
        "#naive_bayes_all = ComplementNB()\n",
        "naive_bayes_all = MultinomialNB()\n",
        "naive_bayes_all.fit(training_features_normalized, y_train)"
      ],
      "execution_count": null,
      "outputs": [
        {
          "output_type": "execute_result",
          "data": {
            "text/plain": [
              "MultinomialNB(alpha=1.0, class_prior=None, fit_prior=True)"
            ]
          },
          "metadata": {
            "tags": []
          },
          "execution_count": 55
        }
      ]
    },
    {
      "cell_type": "code",
      "metadata": {
        "colab": {
          "base_uri": "https://localhost:8080/"
        },
        "id": "58BHoqjNSPnn",
        "outputId": "e962c598-8fe9-4446-97c9-23ab2abadd58"
      },
      "source": [
        "naive_bayes_all.score(test_features_normalized, y_test)"
      ],
      "execution_count": null,
      "outputs": [
        {
          "output_type": "execute_result",
          "data": {
            "text/plain": [
              "0.6818181818181818"
            ]
          },
          "metadata": {
            "tags": []
          },
          "execution_count": 56
        }
      ]
    },
    {
      "cell_type": "code",
      "metadata": {
        "colab": {
          "base_uri": "https://localhost:8080/"
        },
        "id": "CxBiBkBISPno",
        "outputId": "6e309983-5784-4c71-eaf1-ef701da64363"
      },
      "source": [
        "y_pred_nb_all = naive_bayes_all.predict(test_features_normalized)\n",
        "print(classification_report(y_test, y_pred_nb_all))"
      ],
      "execution_count": null,
      "outputs": [
        {
          "output_type": "stream",
          "text": [
            "              precision    recall  f1-score   support\n",
            "\n",
            "           0       0.64      0.79      0.71       696\n",
            "           1       0.74      0.58      0.65       734\n",
            "\n",
            "    accuracy                           0.68      1430\n",
            "   macro avg       0.69      0.68      0.68      1430\n",
            "weighted avg       0.69      0.68      0.68      1430\n",
            "\n"
          ],
          "name": "stdout"
        }
      ]
    },
    {
      "cell_type": "code",
      "metadata": {
        "colab": {
          "base_uri": "https://localhost:8080/",
          "height": 632
        },
        "id": "5MSI1Da5SPnp",
        "outputId": "53667ed1-7042-4d1e-a248-c3a79dd6afa1"
      },
      "source": [
        "fig, ax = plt.subplots(figsize=(11,11))\n",
        "ax.set_title('Naive Bayes\\n(cosine similarity and word superposition)', fontsize='18')\n",
        "plot_confusion_matrix(naive_bayes_all,test_features_normalized, y_test, values_format='d', cmap='Blues', ax=ax)\n",
        "plt.show()"
      ],
      "execution_count": null,
      "outputs": [
        {
          "output_type": "display_data",
          "data": {
            "image/png": "[encoded data removed]",
            "text/plain": [
              "<Figure size 792x792 with 2 Axes>"
            ]
          },
          "metadata": {
            "tags": [],
            "needs_background": "light"
          }
        }
      ]
    },
    {
      "cell_type": "markdown",
      "metadata": {
        "id": "edL9FgScWTGV"
      },
      "source": [
        "### Random Forest (cosine similarity and word superposition)"
      ]
    },
    {
      "cell_type": "code",
      "metadata": {
        "colab": {
          "base_uri": "https://localhost:8080/"
        },
        "id": "EiSJkHh622Eh",
        "outputId": "80b5bdbb-f50a-40c3-aa66-a2c4461454fc"
      },
      "source": [
        "random_forest_clf = RandomForestClassifier()\n",
        "random_forest_clf.fit(df_X_train, y_train)"
      ],
      "execution_count": null,
      "outputs": [
        {
          "output_type": "execute_result",
          "data": {
            "text/plain": [
              "RandomForestClassifier(bootstrap=True, ccp_alpha=0.0, class_weight=None,\n",
              "                       criterion='gini', max_depth=None, max_features='auto',\n",
              "                       max_leaf_nodes=None, max_samples=None,\n",
              "                       min_impurity_decrease=0.0, min_impurity_split=None,\n",
              "                       min_samples_leaf=1, min_samples_split=2,\n",
              "                       min_weight_fraction_leaf=0.0, n_estimators=100,\n",
              "                       n_jobs=None, oob_score=False, random_state=None,\n",
              "                       verbose=0, warm_start=False)"
            ]
          },
          "metadata": {
            "tags": []
          },
          "execution_count": 59
        }
      ]
    },
    {
      "cell_type": "code",
      "metadata": {
        "colab": {
          "base_uri": "https://localhost:8080/"
        },
        "id": "82Hlxk993VFl",
        "outputId": "876380d0-b171-4562-9e43-f6e10262b9d8"
      },
      "source": [
        "random_forest_clf.score(df_X_test, y_test)"
      ],
      "execution_count": null,
      "outputs": [
        {
          "output_type": "execute_result",
          "data": {
            "text/plain": [
              "0.7769230769230769"
            ]
          },
          "metadata": {
            "tags": []
          },
          "execution_count": 60
        }
      ]
    },
    {
      "cell_type": "code",
      "metadata": {
        "colab": {
          "base_uri": "https://localhost:8080/"
        },
        "id": "s0NGtG7A3hsQ",
        "outputId": "ce16074e-b261-46d2-b838-76260d9c9b82"
      },
      "source": [
        "y_pred_rf = random_forest_clf.predict(df_X_test)\n",
        "print(classification_report(y_test, y_pred_rf))"
      ],
      "execution_count": null,
      "outputs": [
        {
          "output_type": "stream",
          "text": [
            "              precision    recall  f1-score   support\n",
            "\n",
            "           0       0.79      0.74      0.76       696\n",
            "           1       0.77      0.81      0.79       734\n",
            "\n",
            "    accuracy                           0.78      1430\n",
            "   macro avg       0.78      0.78      0.78      1430\n",
            "weighted avg       0.78      0.78      0.78      1430\n",
            "\n"
          ],
          "name": "stdout"
        }
      ]
    },
    {
      "cell_type": "code",
      "metadata": {
        "colab": {
          "base_uri": "https://localhost:8080/",
          "height": 629
        },
        "id": "HcOLfTUe4ZOE",
        "outputId": "f30fe43b-8489-4470-c2de-a396c27eafd4"
      },
      "source": [
        "fig, ax = plt.subplots(figsize=(11,11))\n",
        "ax.set_title('Random Forest\\n(cosine similarity and word superposition)', fontsize='18')\n",
        "plot_confusion_matrix(random_forest_clf, df_X_test, y_test, values_format='d', cmap='Blues', ax=ax)\n",
        "plt.show()"
      ],
      "execution_count": null,
      "outputs": [
        {
          "output_type": "display_data",
          "data": {
            "image/png": "[encoded data removed]",
            "text/plain": [
              "<Figure size 792x792 with 2 Axes>"
            ]
          },
          "metadata": {
            "tags": [],
            "needs_background": "light"
          }
        }
      ]
    },
    {
      "cell_type": "markdown",
      "metadata": {
        "id": "cQfRfDFIuKs0"
      },
      "source": [
        "Random Forest (all features)"
      ]
    },
    {
      "cell_type": "code",
      "metadata": {
        "colab": {
          "base_uri": "https://localhost:8080/"
        },
        "id": "df1D-OX-uUOZ",
        "outputId": "0492c00a-27f4-4e8e-fca1-dc525836b5a6"
      },
      "source": [
        "random_forest_all = RandomForestClassifier()\n",
        "random_forest_all.fit(training_features, y_train)"
      ],
      "execution_count": null,
      "outputs": [
        {
          "output_type": "execute_result",
          "data": {
            "text/plain": [
              "RandomForestClassifier(bootstrap=True, ccp_alpha=0.0, class_weight=None,\n",
              "                       criterion='gini', max_depth=None, max_features='auto',\n",
              "                       max_leaf_nodes=None, max_samples=None,\n",
              "                       min_impurity_decrease=0.0, min_impurity_split=None,\n",
              "                       min_samples_leaf=1, min_samples_split=2,\n",
              "                       min_weight_fraction_leaf=0.0, n_estimators=100,\n",
              "                       n_jobs=None, oob_score=False, random_state=None,\n",
              "                       verbose=0, warm_start=False)"
            ]
          },
          "metadata": {
            "tags": []
          },
          "execution_count": 63
        }
      ]
    },
    {
      "cell_type": "code",
      "metadata": {
        "colab": {
          "base_uri": "https://localhost:8080/"
        },
        "id": "r_EwDWhxvHz1",
        "outputId": "e1942826-c982-46c4-8438-43136509351d"
      },
      "source": [
        "random_forest_all.score(test_features, y_test)"
      ],
      "execution_count": null,
      "outputs": [
        {
          "output_type": "execute_result",
          "data": {
            "text/plain": [
              "0.6762237762237763"
            ]
          },
          "metadata": {
            "tags": []
          },
          "execution_count": 64
        }
      ]
    },
    {
      "cell_type": "code",
      "metadata": {
        "colab": {
          "base_uri": "https://localhost:8080/"
        },
        "id": "z6cstuAxvTZ0",
        "outputId": "bd69728c-d062-45d9-8879-2704c2246403"
      },
      "source": [
        "y_pred_rf_all = random_forest_all.predict(test_features)\n",
        "print(classification_report(y_test, y_pred_rf_all))"
      ],
      "execution_count": null,
      "outputs": [
        {
          "output_type": "stream",
          "text": [
            "              precision    recall  f1-score   support\n",
            "\n",
            "           0       0.66      0.70      0.68       696\n",
            "           1       0.70      0.66      0.68       734\n",
            "\n",
            "    accuracy                           0.68      1430\n",
            "   macro avg       0.68      0.68      0.68      1430\n",
            "weighted avg       0.68      0.68      0.68      1430\n",
            "\n"
          ],
          "name": "stdout"
        }
      ]
    },
    {
      "cell_type": "code",
      "metadata": {
        "colab": {
          "base_uri": "https://localhost:8080/",
          "height": 629
        },
        "id": "mWIIYjtHv6lp",
        "outputId": "0eaf2b8e-e158-4efc-9014-a88ac9dbd2a6"
      },
      "source": [
        "fig, ax = plt.subplots(figsize=(11,11))\n",
        "ax.set_title('Random Forest\\n(cosine similarity and word superposition)', fontsize='18')\n",
        "plot_confusion_matrix(random_forest_all,test_features, y_test, values_format='d', cmap='Blues', ax=ax)\n",
        "plt.show()"
      ],
      "execution_count": null,
      "outputs": [
        {
          "output_type": "display_data",
          "data": {
            "image/png": "[encoded data removed]",
            "text/plain": [
              "<Figure size 792x792 with 2 Axes>"
            ]
          },
          "metadata": {
            "tags": [],
            "needs_background": "light"
          }
        }
      ]
    },
    {
      "cell_type": "markdown",
      "metadata": {
        "id": "O6mRabZxwUc0"
      },
      "source": [
        "## ROC curves"
      ]
    },
    {
      "cell_type": "code",
      "metadata": {
        "id": "xItVk4kzvTas"
      },
      "source": [
        "r_probs = [0 for _ in range(len(y_test))]\n",
        "lr_probs = logistic_regression_clf.predict_proba(df_X_test)[:, 1]\n",
        "nb_probs = naive_bayes_clf.predict_proba(df_X_test)[:, 1]\n",
        "rf_probs = random_forest_clf.predict_proba(df_X_test)[:, 1]"
      ],
      "execution_count": null,
      "outputs": []
    },
    {
      "cell_type": "code",
      "metadata": {
        "id": "q749NoI63BqT"
      },
      "source": [
        "r_auc = roc_auc_score(y_test, r_probs)\n",
        "lr_auc = roc_auc_score(y_test, lr_probs)\n",
        "nb_auc = roc_auc_score(y_test, nb_probs)\n",
        "rf_auc = roc_auc_score(y_test, rf_probs)"
      ],
      "execution_count": null,
      "outputs": []
    },
    {
      "cell_type": "code",
      "metadata": {
        "colab": {
          "base_uri": "https://localhost:8080/"
        },
        "id": "sWNpvJRb3f-s",
        "outputId": "6a3045db-a6e5-4768-86bc-a82066c95816"
      },
      "source": [
        "print('Random (chance) Prediction: AUROC = %.3f' % (r_auc))\n",
        "print('Logistic Regression: AUROC = %.3f' % (lr_auc))\n",
        "print('Naive Bayes: AUROC = %.3f' % (nb_auc))\n",
        "print('Random Forest: AUROC = %.3f' % (rf_auc))"
      ],
      "execution_count": null,
      "outputs": [
        {
          "output_type": "stream",
          "text": [
            "Random (chance) Prediction: AUROC = 0.500\n",
            "Logistic Regression: AUROC = 0.842\n",
            "Naive Bayes: AUROC = 0.582\n",
            "Random Forest: AUROC = 0.844\n"
          ],
          "name": "stdout"
        }
      ]
    },
    {
      "cell_type": "code",
      "metadata": {
        "id": "SKfDFRAn3xGP"
      },
      "source": [
        "r_fpr, r_tpr, _ = roc_curve(y_test, r_probs)#, pos_label='disagree')\n",
        "lr_fpr, lr_tpr, _ = roc_curve(y_test, lr_probs)#, pos_label='disagree')\n",
        "nb_fpr, nb_tpr, _ = roc_curve(y_test, nb_probs)#, pos_label='disagree')\n",
        "rf_fpr, rf_tpr, _ = roc_curve(y_test, rf_probs)#, pos_label='disagree')"
      ],
      "execution_count": null,
      "outputs": []
    },
    {
      "cell_type": "code",
      "metadata": {
        "colab": {
          "base_uri": "https://localhost:8080/",
          "height": 676
        },
        "id": "MCn_0OY84LbZ",
        "outputId": "7f2ec05c-f19c-4b42-a4a1-db203632b937"
      },
      "source": [
        "fig, ax = plt.subplots(figsize=(11,11), )\n",
        "plt.plot(r_fpr, r_tpr, linestyle='--', label='Random prediction (AUROC = %0.3f)' % r_auc)\n",
        "plt.plot(lr_fpr, lr_tpr, marker='.', label='Logistic Regression (AUROC = %0.3f)' % rf_auc)\n",
        "plt.plot(nb_fpr, nb_tpr, marker='.', label='Naive Bayes (AUROC = %0.3f)' % nb_auc)\n",
        "plt.plot(rf_fpr, rf_tpr, marker='.', label='Random Forest (AUROC = %0.3f)' % rf_auc)\n",
        "\n",
        "# Title\n",
        "plt.title('ROC Plot')\n",
        "# Axis labels\n",
        "plt.xlabel('False Positive Rate')\n",
        "plt.ylabel('True Positive Rate')\n",
        "# Show legend\n",
        "plt.legend() # \n",
        "# Show plot\n",
        "plt.show()"
      ],
      "execution_count": null,
      "outputs": [
        {
          "output_type": "display_data",
          "data": {
            "image/png": "[encoded data removed]",
            "text/plain": [
              "<Figure size 792x792 with 1 Axes>"
            ]
          },
          "metadata": {
            "tags": [],
            "needs_background": "light"
          }
        }
      ]
    },
    {
      "cell_type": "code",
      "metadata": {
        "id": "X-pFJxBGwmCt"
      },
      "source": [
        "r_probs_all = [0 for _ in range(len(y_test))]\n",
        "lr_probs_all = logistic_regression_all.predict_proba(test_features)\n",
        "nb_probs_all = naive_bayes_all.predict_proba(test_features)\n",
        "rf_probs_all = random_forest_all.predict_proba(test_features)"
      ],
      "execution_count": null,
      "outputs": []
    },
    {
      "cell_type": "code",
      "metadata": {
        "id": "GEW4VbDvwsa1"
      },
      "source": [
        "lr_probs_all = lr_probs_all[:, 1]\n",
        "nb_probs_all = nb_probs_all[:, 1]\n",
        "rf_probs_all = rf_probs_all[:, 1]"
      ],
      "execution_count": null,
      "outputs": []
    },
    {
      "cell_type": "code",
      "metadata": {
        "id": "v5Fe4_VfEZVl"
      },
      "source": [
        "r_auc_all = roc_auc_score(y_test, r_probs_all)\n",
        "lr_auc_all = roc_auc_score(y_test, lr_probs_all)\n",
        "nb_auc_all = roc_auc_score(y_test, nb_probs_all)\n",
        "rf_auc_all = roc_auc_score(y_test, rf_probs_all)"
      ],
      "execution_count": null,
      "outputs": []
    },
    {
      "cell_type": "code",
      "metadata": {
        "colab": {
          "base_uri": "https://localhost:8080/"
        },
        "id": "SD8LNwK9FJnn",
        "outputId": "a46bcab3-baf9-4d7a-f5e7-11df9dbde027"
      },
      "source": [
        "print('Random (chance) Prediction: AUROC = %.3f' % (r_auc_all))\n",
        "print('Linear Regression: AUROC = %.3f' % (lr_auc_all))\n",
        "print('Naive Bayes: AUROC = %.3f' % (nb_auc_all))\n",
        "print('Random Forest: AUROC = %.3f' % (rf_auc_all))"
      ],
      "execution_count": null,
      "outputs": [
        {
          "output_type": "stream",
          "text": [
            "Random (chance) Prediction: AUROC = 0.500\n",
            "Linear Regression: AUROC = 0.916\n",
            "Naive Bayes: AUROC = 0.760\n",
            "Random Forest: AUROC = 0.768\n"
          ],
          "name": "stdout"
        }
      ]
    },
    {
      "cell_type": "code",
      "metadata": {
        "id": "Qj6YVP2RFxXm"
      },
      "source": [
        "r_fpr_all, r_tpr_all, _ = roc_curve(y_test, r_probs_all)#, pos_label='disagree')\n",
        "lr_fpr_all, lr_tpr_all, _ = roc_curve(y_test, lr_probs_all)#, pos_label='disagree')\n",
        "nb_fpr_all, nb_tpr_all, _ = roc_curve(y_test, nb_probs_all)#, pos_label='disagree')\n",
        "rf_fpr_all, rf_tpr_all, _ = roc_curve(y_test, rf_probs_all)#, pos_label='disagree')"
      ],
      "execution_count": null,
      "outputs": []
    },
    {
      "cell_type": "code",
      "metadata": {
        "colab": {
          "base_uri": "https://localhost:8080/",
          "height": 676
        },
        "id": "HvP1sUVmH_SQ",
        "outputId": "666d298c-1505-4513-b035-115ce995b260"
      },
      "source": [
        "fig, ax = plt.subplots(figsize=(11,11), )\n",
        "plt.plot(r_fpr_all, r_tpr_all, linestyle='--', label='Random prediction (AUROC = %0.3f)' % r_auc_all)\n",
        "plt.plot(lr_fpr_all, lr_tpr_all, marker='.', label='Logistic Regression (AUROC = %0.3f)' % lr_auc_all)\n",
        "plt.plot(nb_fpr_all, nb_tpr_all, marker='.', label='Naive Bayes (AUROC = %0.3f)' % nb_auc_all)\n",
        "plt.plot(rf_fpr_all, rf_tpr_all, marker='.', label='Random Forest (AUROC = %0.3f)' % rf_auc_all)\n",
        "\n",
        "# Title\n",
        "plt.title('ROC Plot')\n",
        "# Axis labels\n",
        "plt.xlabel('False Positive Rate')\n",
        "plt.ylabel('True Positive Rate')\n",
        "# Show legend\n",
        "plt.legend() # \n",
        "# Show plot\n",
        "plt.show()"
      ],
      "execution_count": null,
      "outputs": [
        {
          "output_type": "display_data",
          "data": {
            "image/png": "[encoded data removed]",
            "text/plain": [
              "<Figure size 792x792 with 1 Axes>"
            ]
          },
          "metadata": {
            "tags": [],
            "needs_background": "light"
          }
        }
      ]
    },
    {
      "cell_type": "code",
      "metadata": {
        "colab": {
          "base_uri": "https://localhost:8080/"
        },
        "id": "nAPjggiwiNRq",
        "outputId": "1d38453d-ee75-45a9-e85d-01c7c8d32473"
      },
      "source": [
        "neural_network_clf = MLPClassifier()\n",
        "neural_network_clf.fit(df_X_test, y_test)"
      ],
      "execution_count": null,
      "outputs": [
        {
          "output_type": "execute_result",
          "data": {
            "text/plain": [
              "MLPClassifier(activation='relu', alpha=0.0001, batch_size='auto', beta_1=0.9,\n",
              "              beta_2=0.999, early_stopping=False, epsilon=1e-08,\n",
              "              hidden_layer_sizes=(100,), learning_rate='constant',\n",
              "              learning_rate_init=0.001, max_fun=15000, max_iter=200,\n",
              "              momentum=0.9, n_iter_no_change=10, nesterovs_momentum=True,\n",
              "              power_t=0.5, random_state=None, shuffle=True, solver='adam',\n",
              "              tol=0.0001, validation_fraction=0.1, verbose=False,\n",
              "              warm_start=False)"
            ]
          },
          "metadata": {
            "tags": []
          },
          "execution_count": 82
        }
      ]
    },
    {
      "cell_type": "code",
      "metadata": {
        "colab": {
          "base_uri": "https://localhost:8080/"
        },
        "id": "Vhbh7CA4m0Hu",
        "outputId": "c6bf87e4-ae34-46b8-9310-794ae7017434"
      },
      "source": [
        "neural_network_clf.score(df_X_test, y_test)"
      ],
      "execution_count": null,
      "outputs": [
        {
          "output_type": "execute_result",
          "data": {
            "text/plain": [
              "0.7888111888111888"
            ]
          },
          "metadata": {
            "tags": []
          },
          "execution_count": 83
        }
      ]
    },
    {
      "cell_type": "code",
      "metadata": {
        "colab": {
          "base_uri": "https://localhost:8080/"
        },
        "id": "pkLtoGZim0Hx",
        "outputId": "3f218b1c-8eca-46fc-d763-66f087395a0e"
      },
      "source": [
        "y_pred_mlpc = neural_network_clf.predict(df_X_test)\n",
        "print(classification_report(y_test, y_pred_mlpc))"
      ],
      "execution_count": null,
      "outputs": [
        {
          "output_type": "stream",
          "text": [
            "              precision    recall  f1-score   support\n",
            "\n",
            "           0       0.82      0.72      0.77       696\n",
            "           1       0.76      0.85      0.81       734\n",
            "\n",
            "    accuracy                           0.79      1430\n",
            "   macro avg       0.79      0.79      0.79      1430\n",
            "weighted avg       0.79      0.79      0.79      1430\n",
            "\n"
          ],
          "name": "stdout"
        }
      ]
    },
    {
      "cell_type": "code",
      "metadata": {
        "colab": {
          "base_uri": "https://localhost:8080/"
        },
        "id": "6m7eBnSDm0Hx",
        "outputId": "dbc7a986-ddfe-4202-fe9b-24ae2629a623"
      },
      "source": [
        "cm_mplc = confusion_matrix(y_test, y_pred_mlpc)\n",
        "cm_mplc"
      ],
      "execution_count": null,
      "outputs": [
        {
          "output_type": "execute_result",
          "data": {
            "text/plain": [
              "array([[502, 194],\n",
              "       [108, 626]])"
            ]
          },
          "metadata": {
            "tags": []
          },
          "execution_count": 87
        }
      ]
    },
    {
      "cell_type": "code",
      "metadata": {
        "colab": {
          "base_uri": "https://localhost:8080/"
        },
        "id": "zy6JldOgm0Hy",
        "outputId": "e85b4916-5ebc-4110-e17e-93113af6b6d8"
      },
      "source": [
        "tn, fp, fn, tp = confusion_matrix(y_test, y_pred_mlpc).ravel()\n",
        "(tn, fp, fn, tp)"
      ],
      "execution_count": null,
      "outputs": [
        {
          "output_type": "execute_result",
          "data": {
            "text/plain": [
              "(502, 194, 108, 626)"
            ]
          },
          "metadata": {
            "tags": []
          },
          "execution_count": 88
        }
      ]
    },
    {
      "cell_type": "code",
      "metadata": {
        "colab": {
          "base_uri": "https://localhost:8080/",
          "height": 629
        },
        "id": "-WzTt4lzm0Hz",
        "outputId": "94576ad5-c4e9-4bad-9208-898eb06f8c19"
      },
      "source": [
        "fig, ax = plt.subplots(figsize=(11,11))\n",
        "ax.set_title('Logistic Regression\\n(features: cosine similarity and word superposition)', fontsize='18')\n",
        "plot_confusion_matrix(neural_network_clf, df_X_test, y_test, values_format='d', cmap='Blues', ax=ax)\n",
        "plt.show()"
      ],
      "execution_count": null,
      "outputs": [
        {
          "output_type": "display_data",
          "data": {
            "image/png": "[encoded data removed]",
            "text/plain": [
              "<Figure size 792x792 with 2 Axes>"
            ]
          },
          "metadata": {
            "tags": [],
            "needs_background": "light"
          }
        }
      ]
    },
    {
      "cell_type": "code",
      "metadata": {
        "colab": {
          "base_uri": "https://localhost:8080/",
          "height": 336
        },
        "id": "ZVbs4NPOUXgs",
        "outputId": "5e5c4514-a50d-4d37-df11-198a2d33b7de"
      },
      "source": [
        "width = 0.25\n",
        "\n",
        "\n",
        "# IMPROVED_SYSTEM: Logistic, MNV, RF\n",
        "score = [89.88, 43.71, 80.54, 43.70]\n",
        "\n",
        "# Plotting the bars\n",
        "fig, ax = plt.subplots(figsize=(10,5))\n",
        "\n",
        "pos = list(range(len(score)))\n",
        "\n",
        "plt.bar(pos, score, width, alpha=0.5, color='#EE3224', label='Development set')\n",
        "\n",
        "# Set the y axis label\n",
        "ax.set_ylabel('Accuracy score')\n",
        "\n",
        "# Set the chart's title\n",
        "ax.set_title('Accuracy Scores for all algorithms')\n",
        "\n",
        "# Set the position of the x ticks\n",
        "ax.set_xticks([p + 0.5 * width for p in pos])\n",
        "\n",
        "# Set the labels for the x ticks\n",
        "ax.set_xticklabels(['Logistic regression', 'Multinomial Naive Bayes', 'Random Forest', 'XGBoost'])\n",
        "ax.set_yticks([0, 10, 20, 30, 40, 50, 60, 70, 80, 90, 100])\n",
        "\n",
        "\n",
        "plt.legend(['Algorithm'], loc='upper left')\n",
        "\n",
        "\n",
        "plt.xlim(min(pos)-width, max(pos)+width*4)\n",
        "plt.ylim([0, max(score)*1.3])\n",
        "\n",
        "plt.grid()\n",
        "plt.show()"
      ],
      "execution_count": null,
      "outputs": [
        {
          "output_type": "display_data",
          "data": {
            "image/png": "[encoded data removed]",
            "text/plain": [
              "<Figure size 720x360 with 1 Axes>"
            ]
          },
          "metadata": {
            "tags": [],
            "needs_background": "light"
          }
        }
      ]
    },
    {
      "cell_type": "code",
      "metadata": {
        "colab": {
          "base_uri": "https://localhost:8080/"
        },
        "id": "Mi5G2l_pUlc5",
        "outputId": "bcf1bb28-9fe4-4995-bc5f-a8a0a6db49cc"
      },
      "source": [
        "!pip install scikit-plot"
      ],
      "execution_count": null,
      "outputs": [
        {
          "output_type": "stream",
          "text": [
            "Collecting scikit-plot\n",
            "  Downloading https://files.pythonhosted.org/packages/7c/47/32520e259340c140a4ad27c1b97050dd3254fdc517b1d59974d47037510e/scikit_plot-0.3.7-py3-none-any.whl\n",
            "Requirement already satisfied: matplotlib>=1.4.0 in /usr/local/lib/python3.7/dist-packages (from scikit-plot) (3.2.2)\n",
            "Requirement already satisfied: scipy>=0.9 in /usr/local/lib/python3.7/dist-packages (from scikit-plot) (1.4.1)\n",
            "Requirement already satisfied: scikit-learn>=0.18 in /usr/local/lib/python3.7/dist-packages (from scikit-plot) (0.22.2.post1)\n",
            "Requirement already satisfied: joblib>=0.10 in /usr/local/lib/python3.7/dist-packages (from scikit-plot) (1.0.1)\n",
            "Requirement already satisfied: cycler>=0.10 in /usr/local/lib/python3.7/dist-packages (from matplotlib>=1.4.0->scikit-plot) (0.10.0)\n",
            "Requirement already satisfied: numpy>=1.11 in /usr/local/lib/python3.7/dist-packages (from matplotlib>=1.4.0->scikit-plot) (1.19.5)\n",
            "Requirement already satisfied: python-dateutil>=2.1 in /usr/local/lib/python3.7/dist-packages (from matplotlib>=1.4.0->scikit-plot) (2.8.1)\n",
            "Requirement already satisfied: kiwisolver>=1.0.1 in /usr/local/lib/python3.7/dist-packages (from matplotlib>=1.4.0->scikit-plot) (1.3.1)\n",
            "Requirement already satisfied: pyparsing!=2.0.4,!=2.1.2,!=2.1.6,>=2.0.1 in /usr/local/lib/python3.7/dist-packages (from matplotlib>=1.4.0->scikit-plot) (2.4.7)\n",
            "Requirement already satisfied: six in /usr/local/lib/python3.7/dist-packages (from cycler>=0.10->matplotlib>=1.4.0->scikit-plot) (1.15.0)\n",
            "Installing collected packages: scikit-plot\n",
            "Successfully installed scikit-plot-0.3.7\n"
          ],
          "name": "stdout"
        }
      ]
    },
    {
      "cell_type": "code",
      "metadata": {
        "colab": {
          "base_uri": "https://localhost:8080/",
          "height": 231
        },
        "id": "IZFaFnzJUeID",
        "outputId": "c07a73b3-b0ca-4184-98bb-563d9121ee06"
      },
      "source": [
        "# ! pip install scikit-plot\n",
        "import scikitplot as skplt\n",
        "#import matplotlib.pyplot as plt\n",
        "import warnings\n",
        "warnings.filterwarnings(\"ignore\")\n",
        "\n",
        "# y_true = classes# ground truth labels\n",
        "y_probas = rf.predict_proba(test_features)# predicted probabilities generated by sklearn classifier\n",
        "skplt.metrics.plot_roc_curve(targets_test, y_probas)\n",
        "plt.show()"
      ],
      "execution_count": null,
      "outputs": [
        {
          "output_type": "error",
          "ename": "NameError",
          "evalue": "ignored",
          "traceback": [
            "\u001b[0;31m---------------------------------------------------------------------------\u001b[0m",
            "\u001b[0;31mNameError\u001b[0m                                 Traceback (most recent call last)",
            "\u001b[0;32m<ipython-input-80-a6df97cfc4dd>\u001b[0m in \u001b[0;36m<module>\u001b[0;34m()\u001b[0m\n\u001b[1;32m      6\u001b[0m \u001b[0;34m\u001b[0m\u001b[0m\n\u001b[1;32m      7\u001b[0m \u001b[0;31m# y_true = classes# ground truth labels\u001b[0m\u001b[0;34m\u001b[0m\u001b[0;34m\u001b[0m\u001b[0;34m\u001b[0m\u001b[0m\n\u001b[0;32m----> 8\u001b[0;31m \u001b[0my_probas\u001b[0m \u001b[0;34m=\u001b[0m \u001b[0mrf\u001b[0m\u001b[0;34m.\u001b[0m\u001b[0mpredict_proba\u001b[0m\u001b[0;34m(\u001b[0m\u001b[0mtest_features\u001b[0m\u001b[0;34m)\u001b[0m\u001b[0;31m# predicted probabilities generated by sklearn classifier\u001b[0m\u001b[0;34m\u001b[0m\u001b[0;34m\u001b[0m\u001b[0m\n\u001b[0m\u001b[1;32m      9\u001b[0m \u001b[0mskplt\u001b[0m\u001b[0;34m.\u001b[0m\u001b[0mmetrics\u001b[0m\u001b[0;34m.\u001b[0m\u001b[0mplot_roc_curve\u001b[0m\u001b[0;34m(\u001b[0m\u001b[0mtargets_test\u001b[0m\u001b[0;34m,\u001b[0m \u001b[0my_probas\u001b[0m\u001b[0;34m)\u001b[0m\u001b[0;34m\u001b[0m\u001b[0;34m\u001b[0m\u001b[0m\n\u001b[1;32m     10\u001b[0m \u001b[0mplt\u001b[0m\u001b[0;34m.\u001b[0m\u001b[0mshow\u001b[0m\u001b[0;34m(\u001b[0m\u001b[0;34m)\u001b[0m\u001b[0;34m\u001b[0m\u001b[0;34m\u001b[0m\u001b[0m\n",
            "\u001b[0;31mNameError\u001b[0m: name 'rf' is not defined"
          ]
        }
      ]
    }
  ]
}