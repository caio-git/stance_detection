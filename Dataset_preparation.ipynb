{
  "nbformat": 4,
  "nbformat_minor": 0,
  "metadata": {
    "colab": {
      "name": "Dataset_preparation.ipynb",
      "provenance": [],
      "collapsed_sections": [],
      "authorship_tag": "ABX9TyPJHuZ+X5gC56ZQ8cxezRNg",
      "include_colab_link": true
    },
    "kernelspec": {
      "name": "python3",
      "display_name": "Python 3"
    },
    "language_info": {
      "name": "python"
    }
  },
  "cells": [
    {
      "cell_type": "markdown",
      "metadata": {
        "id": "view-in-github",
        "colab_type": "text"
      },
      "source": [
        "<a href=\"https://colab.research.google.com/github/caio-git/stance_detection/blob/main/Dataset_preparation.ipynb\" target=\"_parent\"><img src=\"https://colab.research.google.com/assets/colab-badge.svg\" alt=\"Open In Colab\"/></a>"
      ]
    },
    {
      "cell_type": "code",
      "metadata": {
        "id": "WKQXR3WB2Ann",
        "colab": {
          "base_uri": "https://localhost:8080/"
        },
        "outputId": "85c322d6-5270-4cac-9aa2-a13add1e787c"
      },
      "source": [
        "import nltk\n",
        "import re\n",
        "from urllib.parse import *\n",
        "import pandas as pd\n",
        "from zipfile import ZipFile\n",
        "nltk.download('punkt')"
      ],
      "execution_count": 1,
      "outputs": [
        {
          "output_type": "stream",
          "text": [
            "[nltk_data] Downloading package punkt to /root/nltk_data...\n",
            "[nltk_data]   Package punkt is already up-to-date!\n"
          ],
          "name": "stdout"
        },
        {
          "output_type": "execute_result",
          "data": {
            "text/plain": [
              "True"
            ]
          },
          "metadata": {
            "tags": []
          },
          "execution_count": 1
        }
      ]
    },
    {
      "cell_type": "code",
      "metadata": {
        "colab": {
          "base_uri": "https://localhost:8080/"
        },
        "id": "f1Adl2WFqDVx",
        "outputId": "582b622e-6f65-4c2e-b8f3-998186e12e53"
      },
      "source": [
        "!wget -O /content/Fake.br-Corpus-master.zip https://github.com/caio-git/datasets/blob/main/Fake.br-Corpus-master.zip?raw=true\n",
        "\n",
        "file_name = '/content/Fake.br-Corpus-master.zip'\n",
        "\n",
        "with ZipFile(file_name, 'r') as z:    \n",
        "    z.extractall()    "
      ],
      "execution_count": 2,
      "outputs": [
        {
          "output_type": "stream",
          "text": [
            "--2021-07-02 17:12:04--  https://github.com/caio-git/datasets/blob/main/Fake.br-Corpus-master.zip?raw=true\n",
            "Resolving github.com (github.com)... 140.82.121.3\n",
            "Connecting to github.com (github.com)|140.82.121.3|:443... connected.\n",
            "HTTP request sent, awaiting response... 302 Found\n",
            "Location: https://github.com/caio-git/datasets/raw/main/Fake.br-Corpus-master.zip [following]\n",
            "--2021-07-02 17:12:05--  https://github.com/caio-git/datasets/raw/main/Fake.br-Corpus-master.zip\n",
            "Reusing existing connection to github.com:443.\n",
            "HTTP request sent, awaiting response... 302 Found\n",
            "Location: https://raw.githubusercontent.com/caio-git/datasets/main/Fake.br-Corpus-master.zip [following]\n",
            "--2021-07-02 17:12:05--  https://raw.githubusercontent.com/caio-git/datasets/main/Fake.br-Corpus-master.zip\n",
            "Resolving raw.githubusercontent.com (raw.githubusercontent.com)... 185.199.109.133, 185.199.108.133, 185.199.110.133, ...\n",
            "Connecting to raw.githubusercontent.com (raw.githubusercontent.com)|185.199.109.133|:443... connected.\n",
            "HTTP request sent, awaiting response... 200 OK\n",
            "Length: 22126519 (21M) [application/zip]\n",
            "Saving to: ‘/content/Fake.br-Corpus-master.zip’\n",
            "\n",
            "/content/Fake.br-Co 100%[===================>]  21.10M  --.-KB/s    in 0.1s    \n",
            "\n",
            "2021-07-02 17:12:06 (192 MB/s) - ‘/content/Fake.br-Corpus-master.zip’ saved [22126519/22126519]\n",
            "\n"
          ],
          "name": "stdout"
        }
      ]
    },
    {
      "cell_type": "code",
      "metadata": {
        "id": "1c2_MegH1DKE"
      },
      "source": [
        "information = {0 : 'author',\n",
        "1 : 'link',\n",
        "2 : 'category',\n",
        "3 : 'date of publication',\n",
        "4 : 'number of tokens',\n",
        "5 : 'number of words without punctuation',\n",
        "6 : 'number of types',\n",
        "7 : 'number of links inside the news',\n",
        "8 : 'number of words in upper case',\n",
        "9 : 'number of verbs',\n",
        "10 : 'number of subjuntive and imperative verbs',\n",
        "11 : 'number of nouns',\n",
        "12 : 'number of adjectives',\n",
        "13 : 'number of adverbs',\n",
        "14 : 'number of modal verbs (mainly auxiliary verbs)',\n",
        "15 : 'number of singular first and second personal pronouns',\n",
        "16 : 'number of plural first personal pronouns',\n",
        "17 : 'number of pronouns',\n",
        "18 : 'pausality',\n",
        "19 : 'number of characters',\n",
        "20 : 'average sentence length',\n",
        "21 : 'average word length',\n",
        "22 : 'percentage of news with speeling errors',\n",
        "23 : 'emotiveness',\n",
        "24 : 'diversity'}"
      ],
      "execution_count": 3,
      "outputs": []
    },
    {
      "cell_type": "code",
      "metadata": {
        "id": "a65a5A9yXmfi"
      },
      "source": [
        "pages = []\n",
        "for i in range(3602):\n",
        "  if i not in (696,1467):\n",
        "    pages.append(f'/content/full_texts/fake-meta-information/{i+1}-meta.txt')\n",
        "\n",
        "li = []\n",
        "\n",
        "for filename in pages:\n",
        "    df = pd.read_csv(filename, encoding='utf8', index_col=None, header=None)\n",
        "    df = df.transpose()\n",
        "    li.append(df)\n",
        "\n",
        "df_fake_meta_information = pd.concat(li, axis=0, ignore_index=True)\n",
        "df_fake_meta_information.rename(columns=information, inplace=True)\n",
        "#df_fake_meta_information.head()"
      ],
      "execution_count": 4,
      "outputs": []
    },
    {
      "cell_type": "code",
      "metadata": {
        "id": "DwnUx1a4BPvb"
      },
      "source": [
        "pages = []\n",
        "for i in range(3602):\n",
        "  if i not in (696,1467):\n",
        "    pages.append(f'/content/full_texts/true-meta-information/{i+1}-meta.txt')\n",
        "\n",
        "le = []\n",
        "\n",
        "for filename in pages:\n",
        "    df = pd.read_csv(filename, encoding='utf8', index_col=None, header=None, delimiter='\\t')\n",
        "    df = df.transpose()\n",
        "    df = df.dropna()\n",
        "    le.append(df)\n",
        "\n",
        "df_true_meta_information = pd.concat(le, axis=0, ignore_index=True)\n",
        "df_true_meta_information.rename(columns=information, inplace=True)\n",
        "#df_true_meta_information.head()"
      ],
      "execution_count": 5,
      "outputs": []
    },
    {
      "cell_type": "code",
      "metadata": {
        "id": "iM6YfZEaoUQg"
      },
      "source": [
        "texts = []\n",
        "for i in range(3602):\n",
        "  if i not in (696,1467):\n",
        "    f = open(f'/content/full_texts/fake/{i+1}.txt', 'r')\n",
        "    texts.append(f.read())\n",
        "df_fake_meta_information['news'] = texts\n",
        "df_fake_meta_information['label'] = 'fake'\n",
        "#df_fake_meta_information.head()"
      ],
      "execution_count": 6,
      "outputs": []
    },
    {
      "cell_type": "code",
      "metadata": {
        "id": "VeiA9hEqAm2A"
      },
      "source": [
        "texts = []\n",
        "for i in range(3602):\n",
        "  if i not in (696,1467):\n",
        "    f = open(f'/content/full_texts/true/{i+1}.txt', 'r')\n",
        "    texts.append(f.read())\n",
        "df_true_meta_information['news'] = texts\n",
        "df_true_meta_information['label'] = 'true'\n",
        "#df_true_meta_information.head()"
      ],
      "execution_count": 7,
      "outputs": []
    },
    {
      "cell_type": "code",
      "metadata": {
        "id": "DM8yzlFCBPUW",
        "colab": {
          "base_uri": "https://localhost:8080/"
        },
        "outputId": "820e665b-529b-4bc2-b612-661d6af482a6"
      },
      "source": [
        "df_fake_meta_information.info()"
      ],
      "execution_count": 8,
      "outputs": [
        {
          "output_type": "stream",
          "text": [
            "<class 'pandas.core.frame.DataFrame'>\n",
            "RangeIndex: 3600 entries, 0 to 3599\n",
            "Data columns (total 27 columns):\n",
            " #   Column                                                 Non-Null Count  Dtype \n",
            "---  ------                                                 --------------  ----- \n",
            " 0   author                                                 3600 non-null   object\n",
            " 1   link                                                   3600 non-null   object\n",
            " 2   category                                               3600 non-null   object\n",
            " 3   date of publication                                    3600 non-null   object\n",
            " 4   number of tokens                                       3600 non-null   object\n",
            " 5   number of words without punctuation                    3600 non-null   object\n",
            " 6   number of types                                        3600 non-null   object\n",
            " 7   number of links inside the news                        3600 non-null   object\n",
            " 8   number of words in upper case                          3600 non-null   object\n",
            " 9   number of verbs                                        3600 non-null   object\n",
            " 10  number of subjuntive and imperative verbs              3600 non-null   object\n",
            " 11  number of nouns                                        3600 non-null   object\n",
            " 12  number of adjectives                                   3600 non-null   object\n",
            " 13  number of adverbs                                      3600 non-null   object\n",
            " 14  number of modal verbs (mainly auxiliary verbs)         3600 non-null   object\n",
            " 15  number of singular first and second personal pronouns  3600 non-null   object\n",
            " 16  number of plural first personal pronouns               3600 non-null   object\n",
            " 17  number of pronouns                                     3600 non-null   object\n",
            " 18  pausality                                              3600 non-null   object\n",
            " 19  number of characters                                   3600 non-null   object\n",
            " 20  average sentence length                                3600 non-null   object\n",
            " 21  average word length                                    3600 non-null   object\n",
            " 22  percentage of news with speeling errors                3600 non-null   object\n",
            " 23  emotiveness                                            3600 non-null   object\n",
            " 24  diversity                                              3600 non-null   object\n",
            " 25  news                                                   3600 non-null   object\n",
            " 26  label                                                  3600 non-null   object\n",
            "dtypes: object(27)\n",
            "memory usage: 759.5+ KB\n"
          ],
          "name": "stdout"
        }
      ]
    },
    {
      "cell_type": "code",
      "metadata": {
        "id": "U_o-sl-F1BTZ"
      },
      "source": [
        "#df_fake_meta_information.head()"
      ],
      "execution_count": 9,
      "outputs": []
    },
    {
      "cell_type": "code",
      "metadata": {
        "id": "a-nT9I93FHJw"
      },
      "source": [
        "def extract_headline_fake(t):\n",
        "  headline_fake = nltk.sent_tokenize(t)\n",
        "  t = re.sub(r'\\s+', ' ', headline_fake[0])\n",
        "  t = re.sub(r'“|”', '', t)\n",
        "  t = re.sub(r'\\\\x\\d{2}|||||', '', t)\n",
        "  texto_formatado = t.lower()\n",
        "  return texto_formatado"
      ],
      "execution_count": 10,
      "outputs": []
    },
    {
      "cell_type": "code",
      "metadata": {
        "id": "NQLcoOY4GhDE"
      },
      "source": [
        "df_fake_meta_information['headline_fake'] = df_fake_meta_information.news.apply(extract_headline_fake)"
      ],
      "execution_count": 11,
      "outputs": []
    },
    {
      "cell_type": "code",
      "metadata": {
        "id": "HscEtqyBsDJg"
      },
      "source": [
        "def extract_news_fake(t):\n",
        "  news_fake = nltk.sent_tokenize(t)\n",
        "  news_fake = ' '.join(news_fake[1:])\n",
        "  t = re.sub(r'\\s+', ' ', news_fake)\n",
        "  t = re.sub(r'“|”', '', t)\n",
        "  t = re.sub(r'\\\\x\\d{2}|||||', '', t)\n",
        "  texto_formatado = t.lower()\n",
        "  return texto_formatado"
      ],
      "execution_count": 12,
      "outputs": []
    },
    {
      "cell_type": "code",
      "metadata": {
        "id": "skLWuP4msLiL"
      },
      "source": [
        "df_fake_meta_information['news'] = df_fake_meta_information.news.apply(extract_news_fake)\n",
        "#df_fake_meta_information.head()"
      ],
      "execution_count": 13,
      "outputs": []
    },
    {
      "cell_type": "code",
      "metadata": {
        "id": "u5YP0vByC9X2"
      },
      "source": [
        "df_fake = df_fake_meta_information[['news', 'label', 'headline_fake']]\n",
        "df_fake = df_fake.rename(columns={'news':'news_fake', 'label':'label_fake'})\n",
        "#df_fake.head()"
      ],
      "execution_count": 14,
      "outputs": []
    },
    {
      "cell_type": "code",
      "metadata": {
        "id": "aSISeAEtBUQR",
        "colab": {
          "base_uri": "https://localhost:8080/"
        },
        "outputId": "fcd26c44-87ba-4cf8-afd3-224b40517178"
      },
      "source": [
        "df_true_meta_information.info()"
      ],
      "execution_count": 15,
      "outputs": [
        {
          "output_type": "stream",
          "text": [
            "<class 'pandas.core.frame.DataFrame'>\n",
            "RangeIndex: 3600 entries, 0 to 3599\n",
            "Data columns (total 27 columns):\n",
            " #   Column                                                 Non-Null Count  Dtype \n",
            "---  ------                                                 --------------  ----- \n",
            " 0   author                                                 3600 non-null   object\n",
            " 1   link                                                   3600 non-null   object\n",
            " 2   category                                               3600 non-null   object\n",
            " 3   date of publication                                    3600 non-null   object\n",
            " 4   number of tokens                                       3600 non-null   object\n",
            " 5   number of words without punctuation                    3600 non-null   object\n",
            " 6   number of types                                        3600 non-null   object\n",
            " 7   number of links inside the news                        3600 non-null   object\n",
            " 8   number of words in upper case                          3600 non-null   object\n",
            " 9   number of verbs                                        3600 non-null   object\n",
            " 10  number of subjuntive and imperative verbs              3600 non-null   object\n",
            " 11  number of nouns                                        3600 non-null   object\n",
            " 12  number of adjectives                                   3600 non-null   object\n",
            " 13  number of adverbs                                      3600 non-null   object\n",
            " 14  number of modal verbs (mainly auxiliary verbs)         3600 non-null   object\n",
            " 15  number of singular first and second personal pronouns  3600 non-null   object\n",
            " 16  number of plural first personal pronouns               3600 non-null   object\n",
            " 17  number of pronouns                                     3600 non-null   object\n",
            " 18  pausality                                              3600 non-null   object\n",
            " 19  number of characters                                   3600 non-null   object\n",
            " 20  average sentence length                                3600 non-null   object\n",
            " 21  average word length                                    3600 non-null   object\n",
            " 22  percentage of news with speeling errors                3600 non-null   object\n",
            " 23  emotiveness                                            3600 non-null   object\n",
            " 24  diversity                                              3574 non-null   object\n",
            " 25  news                                                   3600 non-null   object\n",
            " 26  label                                                  3600 non-null   object\n",
            "dtypes: object(27)\n",
            "memory usage: 759.5+ KB\n"
          ],
          "name": "stdout"
        }
      ]
    },
    {
      "cell_type": "code",
      "metadata": {
        "id": "M8pHjT2MJ3SC",
        "colab": {
          "base_uri": "https://localhost:8080/",
          "height": 836
        },
        "outputId": "03358a51-c8e1-4525-8c96-6c3d089e9686"
      },
      "source": [
        "df_true_meta_information.head()"
      ],
      "execution_count": 16,
      "outputs": [
        {
          "output_type": "execute_result",
          "data": {
            "text/html": [
              "<div>\n",
              "<style scoped>\n",
              "    .dataframe tbody tr th:only-of-type {\n",
              "        vertical-align: middle;\n",
              "    }\n",
              "\n",
              "    .dataframe tbody tr th {\n",
              "        vertical-align: top;\n",
              "    }\n",
              "\n",
              "    .dataframe thead th {\n",
              "        text-align: right;\n",
              "    }\n",
              "</style>\n",
              "<table border=\"1\" class=\"dataframe\">\n",
              "  <thead>\n",
              "    <tr style=\"text-align: right;\">\n",
              "      <th></th>\n",
              "      <th>author</th>\n",
              "      <th>link</th>\n",
              "      <th>category</th>\n",
              "      <th>date of publication</th>\n",
              "      <th>number of tokens</th>\n",
              "      <th>number of words without punctuation</th>\n",
              "      <th>number of types</th>\n",
              "      <th>number of links inside the news</th>\n",
              "      <th>number of words in upper case</th>\n",
              "      <th>number of verbs</th>\n",
              "      <th>number of subjuntive and imperative verbs</th>\n",
              "      <th>number of nouns</th>\n",
              "      <th>number of adjectives</th>\n",
              "      <th>number of adverbs</th>\n",
              "      <th>number of modal verbs (mainly auxiliary verbs)</th>\n",
              "      <th>number of singular first and second personal pronouns</th>\n",
              "      <th>number of plural first personal pronouns</th>\n",
              "      <th>number of pronouns</th>\n",
              "      <th>pausality</th>\n",
              "      <th>number of characters</th>\n",
              "      <th>average sentence length</th>\n",
              "      <th>average word length</th>\n",
              "      <th>percentage of news with speeling errors</th>\n",
              "      <th>emotiveness</th>\n",
              "      <th>diversity</th>\n",
              "      <th>news</th>\n",
              "      <th>label</th>\n",
              "    </tr>\n",
              "  </thead>\n",
              "  <tbody>\n",
              "    <tr>\n",
              "      <th>0</th>\n",
              "      <td>Naira Trindade</td>\n",
              "      <td>http://politica.estadao.com.br/blogs/coluna-do...</td>\n",
              "      <td>politica</td>\n",
              "      <td>13/12/2017</td>\n",
              "      <td>168</td>\n",
              "      <td>148</td>\n",
              "      <td>107</td>\n",
              "      <td>None</td>\n",
              "      <td>0</td>\n",
              "      <td>24</td>\n",
              "      <td>2</td>\n",
              "      <td>43</td>\n",
              "      <td>5</td>\n",
              "      <td>4</td>\n",
              "      <td>3</td>\n",
              "      <td>0</td>\n",
              "      <td>0</td>\n",
              "      <td>7</td>\n",
              "      <td>3.33333</td>\n",
              "      <td>761</td>\n",
              "      <td>24.6667</td>\n",
              "      <td>5.14189</td>\n",
              "      <td>0.0</td>\n",
              "      <td>0.134328</td>\n",
              "      <td>0.722973</td>\n",
              "      <td>﻿O Podemos decidiu  expulsar o deputado federa...</td>\n",
              "      <td>true</td>\n",
              "    </tr>\n",
              "    <tr>\n",
              "      <th>1</th>\n",
              "      <td>Estadão Conteúdo</td>\n",
              "      <td>http://esportes.estadao.com.br/noticias/futebo...</td>\n",
              "      <td>sociedade_cotidiano</td>\n",
              "      <td>26/12/2017</td>\n",
              "      <td>349</td>\n",
              "      <td>294</td>\n",
              "      <td>182</td>\n",
              "      <td>None</td>\n",
              "      <td>3</td>\n",
              "      <td>60</td>\n",
              "      <td>1</td>\n",
              "      <td>72</td>\n",
              "      <td>19</td>\n",
              "      <td>24</td>\n",
              "      <td>4</td>\n",
              "      <td>0</td>\n",
              "      <td>0</td>\n",
              "      <td>29</td>\n",
              "      <td>2.75</td>\n",
              "      <td>1477</td>\n",
              "      <td>14.7</td>\n",
              "      <td>5.02381</td>\n",
              "      <td>0.0</td>\n",
              "      <td>0.325758</td>\n",
              "      <td>0.619048</td>\n",
              "      <td>Em evento realizado nesta terça-feira para div...</td>\n",
              "      <td>true</td>\n",
              "    </tr>\n",
              "    <tr>\n",
              "      <th>2</th>\n",
              "      <td>Juliana Diógenes</td>\n",
              "      <td>http://politica.estadao.com.br/noticias/geral,...</td>\n",
              "      <td>politica</td>\n",
              "      <td>26/12/2017</td>\n",
              "      <td>249</td>\n",
              "      <td>204</td>\n",
              "      <td>128</td>\n",
              "      <td>None</td>\n",
              "      <td>0</td>\n",
              "      <td>38</td>\n",
              "      <td>1</td>\n",
              "      <td>62</td>\n",
              "      <td>10</td>\n",
              "      <td>6</td>\n",
              "      <td>4</td>\n",
              "      <td>3</td>\n",
              "      <td>0</td>\n",
              "      <td>8</td>\n",
              "      <td>3.0</td>\n",
              "      <td>1019</td>\n",
              "      <td>13.6</td>\n",
              "      <td>4.9951</td>\n",
              "      <td>0.0147059</td>\n",
              "      <td>0.16</td>\n",
              "      <td>0.627451</td>\n",
              "      <td>﻿Após o prefeito de Manaus Arthur Virgílio (PS...</td>\n",
              "      <td>true</td>\n",
              "    </tr>\n",
              "    <tr>\n",
              "      <th>3</th>\n",
              "      <td>Mônica Bergamo</td>\n",
              "      <td>http://www1.folha.uol.com.br/colunas/monicaber...</td>\n",
              "      <td>politica</td>\n",
              "      <td>11/1/2018</td>\n",
              "      <td>170</td>\n",
              "      <td>147</td>\n",
              "      <td>102</td>\n",
              "      <td>None</td>\n",
              "      <td>2</td>\n",
              "      <td>22</td>\n",
              "      <td>1</td>\n",
              "      <td>50</td>\n",
              "      <td>1</td>\n",
              "      <td>4</td>\n",
              "      <td>3</td>\n",
              "      <td>0</td>\n",
              "      <td>0</td>\n",
              "      <td>7</td>\n",
              "      <td>2.875</td>\n",
              "      <td>700</td>\n",
              "      <td>18.375</td>\n",
              "      <td>4.7619</td>\n",
              "      <td>0.0</td>\n",
              "      <td>0.0694444</td>\n",
              "      <td>0.693878</td>\n",
              "      <td>﻿Doria vai receber Zé Celso após reunião com r...</td>\n",
              "      <td>true</td>\n",
              "    </tr>\n",
              "    <tr>\n",
              "      <th>4</th>\n",
              "      <td>Luiz Vassallo E Breno Pires</td>\n",
              "      <td>http://politica.estadao.com.br/blogs/fausto-ma...</td>\n",
              "      <td>politica</td>\n",
              "      <td>28/12/2017</td>\n",
              "      <td>389</td>\n",
              "      <td>341</td>\n",
              "      <td>181</td>\n",
              "      <td>None</td>\n",
              "      <td>12</td>\n",
              "      <td>53</td>\n",
              "      <td>2</td>\n",
              "      <td>101</td>\n",
              "      <td>10</td>\n",
              "      <td>7</td>\n",
              "      <td>10</td>\n",
              "      <td>0</td>\n",
              "      <td>0</td>\n",
              "      <td>14</td>\n",
              "      <td>2.66667</td>\n",
              "      <td>1587</td>\n",
              "      <td>18.9444</td>\n",
              "      <td>4.65396</td>\n",
              "      <td>0.00879765</td>\n",
              "      <td>0.11039</td>\n",
              "      <td>0.530792</td>\n",
              "      <td>Gustavo Pedreira Ferraz, que admitiu buscar ma...</td>\n",
              "      <td>true</td>\n",
              "    </tr>\n",
              "  </tbody>\n",
              "</table>\n",
              "</div>"
            ],
            "text/plain": [
              "                        author  ... label\n",
              "0               Naira Trindade  ...  true\n",
              "1             Estadão Conteúdo  ...  true\n",
              "2             Juliana Diógenes  ...  true\n",
              "3               Mônica Bergamo  ...  true\n",
              "4  Luiz Vassallo E Breno Pires  ...  true\n",
              "\n",
              "[5 rows x 27 columns]"
            ]
          },
          "metadata": {
            "tags": []
          },
          "execution_count": 16
        }
      ]
    },
    {
      "cell_type": "code",
      "metadata": {
        "id": "IUnAd94jBFtK"
      },
      "source": [
        "def extract_headline_true(url):\n",
        "  headline = urlparse(url)\n",
        "  #print(headline.path)\n",
        "  headline = re.sub(r'/$', '', headline.path)\n",
        "  headline = re.sub(r'\\.\\w+', '', headline)\n",
        "  headline = re.sub(r',\\d+', '', headline)  \n",
        "  headline = headline.split('/')\n",
        "  headline = headline[-1]\n",
        "  headline = re.sub(r'^\\d+', '', headline)\n",
        "  headline = headline.split(',')\n",
        "  headline = headline[-1]\n",
        "  headline = re.sub(r'\\W', ' ', headline)\n",
        "  #print(headline)\n",
        "  #print()\n",
        "  return headline"
      ],
      "execution_count": 17,
      "outputs": []
    },
    {
      "cell_type": "code",
      "metadata": {
        "id": "Y0RnF3lpBWFl"
      },
      "source": [
        "df_true_meta_information['headline_true'] = df_true_meta_information.link.apply(extract_headline_true)"
      ],
      "execution_count": 18,
      "outputs": []
    },
    {
      "cell_type": "code",
      "metadata": {
        "id": "y5BrYonWEBqM"
      },
      "source": [
        "df_true = df_true_meta_information[['news', 'label', 'headline_true']]\n",
        "df_true = df_true.rename(columns={'news':'news_true', 'label':'label_true'})\n",
        "#df_true.head()"
      ],
      "execution_count": 19,
      "outputs": []
    },
    {
      "cell_type": "code",
      "metadata": {
        "id": "NUx-wEJNFdFD"
      },
      "source": [
        "df1 = pd.merge(df_fake, df_true, how='inner', on = df_fake.index)\n",
        "#df1.head()"
      ],
      "execution_count": 45,
      "outputs": []
    },
    {
      "cell_type": "code",
      "metadata": {
        "id": "057X0rLxmwhu"
      },
      "source": [
        "df1_disagree = df1.drop(columns=['label_fake', 'headline_fake', 'news_true', 'label_true', 'key_0'])\n",
        "df1_disagree['tag'] = 'disagree'\n",
        "#df1_disagree.head()"
      ],
      "execution_count": 46,
      "outputs": []
    },
    {
      "cell_type": "code",
      "metadata": {
        "id": "1BgTr9cno2_8"
      },
      "source": [
        "df2 = pd.merge(df_fake, df_true, how='inner', on = df_fake.index)\n",
        "#df2.head()"
      ],
      "execution_count": 47,
      "outputs": []
    },
    {
      "cell_type": "code",
      "metadata": {
        "id": "EgXtvanBpI_l"
      },
      "source": [
        "df2_disagree = df2.drop(columns=['news_fake', 'label_fake', 'label_true', 'headline_true', 'key_0'])\n",
        "df2_disagree['tag'] = 'disagree'\n",
        "#df2_disagree.head()"
      ],
      "execution_count": 48,
      "outputs": []
    },
    {
      "cell_type": "code",
      "metadata": {
        "id": "Zh1f5CIBqvA2"
      },
      "source": [
        "df3_agree = pd.concat([df_fake.rename(columns={'news_fake':'news', 'headline_fake':'headline', 'label_fake':'label'}), \n",
        "                       df_true.rename(columns={'news_true':'news', 'headline_true':'headline', 'label_true':'label'})])\n",
        "df3_agree['tag'] = 'agree'\n",
        "df3_agree = df3_agree.drop(columns='label')\n",
        "#df3_agree.head()"
      ],
      "execution_count": 49,
      "outputs": []
    },
    {
      "cell_type": "code",
      "metadata": {
        "id": "F6N1FM_muHMX"
      },
      "source": [
        "#df3_agree"
      ],
      "execution_count": 50,
      "outputs": []
    },
    {
      "cell_type": "code",
      "metadata": {
        "colab": {
          "base_uri": "https://localhost:8080/"
        },
        "id": "AcnHaENbxO3V",
        "outputId": "56e976da-df9e-4672-853a-65f5c07008a6"
      },
      "source": [
        "df1_disagree.columns"
      ],
      "execution_count": 51,
      "outputs": [
        {
          "output_type": "execute_result",
          "data": {
            "text/plain": [
              "Index(['news_fake', 'headline_true', 'tag'], dtype='object')"
            ]
          },
          "metadata": {
            "tags": []
          },
          "execution_count": 51
        }
      ]
    },
    {
      "cell_type": "code",
      "metadata": {
        "colab": {
          "base_uri": "https://localhost:8080/"
        },
        "id": "fd8F7yUFQjg4",
        "outputId": "225637dd-a536-4f7a-f4bc-0642aaaf4252"
      },
      "source": [
        "df1_disagree.info()"
      ],
      "execution_count": 52,
      "outputs": [
        {
          "output_type": "stream",
          "text": [
            "<class 'pandas.core.frame.DataFrame'>\n",
            "Int64Index: 3600 entries, 0 to 3599\n",
            "Data columns (total 3 columns):\n",
            " #   Column         Non-Null Count  Dtype \n",
            "---  ------         --------------  ----- \n",
            " 0   news_fake      3600 non-null   object\n",
            " 1   headline_true  3600 non-null   object\n",
            " 2   tag            3600 non-null   object\n",
            "dtypes: object(3)\n",
            "memory usage: 112.5+ KB\n"
          ],
          "name": "stdout"
        }
      ]
    },
    {
      "cell_type": "code",
      "metadata": {
        "colab": {
          "base_uri": "https://localhost:8080/"
        },
        "id": "ier9sUPPopBX",
        "outputId": "193a4708-4b72-4bcc-ab2a-e504319cfd4e"
      },
      "source": [
        "df2_disagree.columns"
      ],
      "execution_count": 53,
      "outputs": [
        {
          "output_type": "execute_result",
          "data": {
            "text/plain": [
              "Index(['headline_fake', 'news_true', 'tag'], dtype='object')"
            ]
          },
          "metadata": {
            "tags": []
          },
          "execution_count": 53
        }
      ]
    },
    {
      "cell_type": "code",
      "metadata": {
        "colab": {
          "base_uri": "https://localhost:8080/"
        },
        "id": "lD5m0_I9Qw9W",
        "outputId": "a3ba0fc9-da45-4af3-c222-5fe8d16bfcca"
      },
      "source": [
        "df2_disagree.info()"
      ],
      "execution_count": 54,
      "outputs": [
        {
          "output_type": "stream",
          "text": [
            "<class 'pandas.core.frame.DataFrame'>\n",
            "Int64Index: 3600 entries, 0 to 3599\n",
            "Data columns (total 3 columns):\n",
            " #   Column         Non-Null Count  Dtype \n",
            "---  ------         --------------  ----- \n",
            " 0   headline_fake  3600 non-null   object\n",
            " 1   news_true      3600 non-null   object\n",
            " 2   tag            3600 non-null   object\n",
            "dtypes: object(3)\n",
            "memory usage: 112.5+ KB\n"
          ],
          "name": "stdout"
        }
      ]
    },
    {
      "cell_type": "code",
      "metadata": {
        "colab": {
          "base_uri": "https://localhost:8080/"
        },
        "id": "n96eXSEALJVc",
        "outputId": "b71dece4-6fca-4bb6-f1f5-b4a6a5a0b6b4"
      },
      "source": [
        "df3_agree.columns"
      ],
      "execution_count": 55,
      "outputs": [
        {
          "output_type": "execute_result",
          "data": {
            "text/plain": [
              "Index(['news', 'headline', 'tag'], dtype='object')"
            ]
          },
          "metadata": {
            "tags": []
          },
          "execution_count": 55
        }
      ]
    },
    {
      "cell_type": "code",
      "metadata": {
        "colab": {
          "base_uri": "https://localhost:8080/"
        },
        "id": "RuSZrf6fQ0RF",
        "outputId": "2b6b10b1-9b01-4b55-f813-05db1bc40298"
      },
      "source": [
        "df3_agree.info()"
      ],
      "execution_count": 56,
      "outputs": [
        {
          "output_type": "stream",
          "text": [
            "<class 'pandas.core.frame.DataFrame'>\n",
            "Int64Index: 7200 entries, 0 to 3599\n",
            "Data columns (total 3 columns):\n",
            " #   Column    Non-Null Count  Dtype \n",
            "---  ------    --------------  ----- \n",
            " 0   news      7200 non-null   object\n",
            " 1   headline  7200 non-null   object\n",
            " 2   tag       7200 non-null   object\n",
            "dtypes: object(3)\n",
            "memory usage: 225.0+ KB\n"
          ],
          "name": "stdout"
        }
      ]
    },
    {
      "cell_type": "code",
      "metadata": {
        "colab": {
          "base_uri": "https://localhost:8080/"
        },
        "id": "ikrjkvzLL32W",
        "outputId": "43c2b4a7-a004-4161-f4a5-b6ee429a3a3b"
      },
      "source": [
        "df3_agree.tag.value_counts()"
      ],
      "execution_count": 57,
      "outputs": [
        {
          "output_type": "execute_result",
          "data": {
            "text/plain": [
              "agree    7200\n",
              "Name: tag, dtype: int64"
            ]
          },
          "metadata": {
            "tags": []
          },
          "execution_count": 57
        }
      ]
    },
    {
      "cell_type": "code",
      "metadata": {
        "colab": {
          "base_uri": "https://localhost:8080/"
        },
        "id": "wGwuQkWEoUF1",
        "outputId": "4e35ae04-ec0d-4470-ee05-b60609069778"
      },
      "source": [
        "df1_disagree_part = df1_disagree.iloc[0:1200,:].copy()\n",
        "df1_disagree_part.info()"
      ],
      "execution_count": 58,
      "outputs": [
        {
          "output_type": "stream",
          "text": [
            "<class 'pandas.core.frame.DataFrame'>\n",
            "Int64Index: 1200 entries, 0 to 1199\n",
            "Data columns (total 3 columns):\n",
            " #   Column         Non-Null Count  Dtype \n",
            "---  ------         --------------  ----- \n",
            " 0   news_fake      1200 non-null   object\n",
            " 1   headline_true  1200 non-null   object\n",
            " 2   tag            1200 non-null   object\n",
            "dtypes: object(3)\n",
            "memory usage: 37.5+ KB\n"
          ],
          "name": "stdout"
        }
      ]
    },
    {
      "cell_type": "code",
      "metadata": {
        "colab": {
          "base_uri": "https://localhost:8080/"
        },
        "id": "sJbeOm9TprxT",
        "outputId": "99d31460-10b5-40b5-e385-e3e802812aca"
      },
      "source": [
        "df2_disagree_part = df2_disagree.iloc[1200:2400,:].copy()\n",
        "df2_disagree_part.info()"
      ],
      "execution_count": 59,
      "outputs": [
        {
          "output_type": "stream",
          "text": [
            "<class 'pandas.core.frame.DataFrame'>\n",
            "Int64Index: 1200 entries, 1200 to 2399\n",
            "Data columns (total 3 columns):\n",
            " #   Column         Non-Null Count  Dtype \n",
            "---  ------         --------------  ----- \n",
            " 0   headline_fake  1200 non-null   object\n",
            " 1   news_true      1200 non-null   object\n",
            " 2   tag            1200 non-null   object\n",
            "dtypes: object(3)\n",
            "memory usage: 37.5+ KB\n"
          ],
          "name": "stdout"
        }
      ]
    },
    {
      "cell_type": "code",
      "metadata": {
        "colab": {
          "base_uri": "https://localhost:8080/"
        },
        "id": "-WWWURsaq0dY",
        "outputId": "e63331c2-cb73-44f3-f979-abb7c6b2c4c1"
      },
      "source": [
        "df3_agree_part = df3_agree.iloc[2400:3600,:].copy()\n",
        "df3_agree_part.info()"
      ],
      "execution_count": 60,
      "outputs": [
        {
          "output_type": "stream",
          "text": [
            "<class 'pandas.core.frame.DataFrame'>\n",
            "Int64Index: 1200 entries, 2400 to 3599\n",
            "Data columns (total 3 columns):\n",
            " #   Column    Non-Null Count  Dtype \n",
            "---  ------    --------------  ----- \n",
            " 0   news      1200 non-null   object\n",
            " 1   headline  1200 non-null   object\n",
            " 2   tag       1200 non-null   object\n",
            "dtypes: object(3)\n",
            "memory usage: 37.5+ KB\n"
          ],
          "name": "stdout"
        }
      ]
    },
    {
      "cell_type": "code",
      "metadata": {
        "colab": {
          "base_uri": "https://localhost:8080/"
        },
        "id": "TfwgC5-tLhgE",
        "outputId": "70d66343-60d7-42a8-a302-e60b0d513d0a"
      },
      "source": [
        "df4_agree_part = df3_agree.iloc[6000:,:].copy()\n",
        "df4_agree_part.info()"
      ],
      "execution_count": 61,
      "outputs": [
        {
          "output_type": "stream",
          "text": [
            "<class 'pandas.core.frame.DataFrame'>\n",
            "Int64Index: 1200 entries, 2400 to 3599\n",
            "Data columns (total 3 columns):\n",
            " #   Column    Non-Null Count  Dtype \n",
            "---  ------    --------------  ----- \n",
            " 0   news      1200 non-null   object\n",
            " 1   headline  1200 non-null   object\n",
            " 2   tag       1200 non-null   object\n",
            "dtypes: object(3)\n",
            "memory usage: 37.5+ KB\n"
          ],
          "name": "stdout"
        }
      ]
    },
    {
      "cell_type": "code",
      "metadata": {
        "colab": {
          "base_uri": "https://localhost:8080/",
          "height": 419
        },
        "id": "7N0uujqFsbna",
        "outputId": "eb36022c-9e28-43fb-86b6-93ba2e4fd352"
      },
      "source": [
        "df1_disagree_part = df1_disagree_part.rename(columns={'news_fake':'news', 'headline_true':'headline'})\n",
        "df2_disagree_part = df2_disagree_part[['news_true', 'headline_fake', 'tag']]\n",
        "df2_disagree_part = df2_disagree_part.rename(columns={'news_true':'news', 'headline_fake':'headline'})\n",
        "df = pd.concat([df1_disagree_part, df2_disagree_part, df3_agree_part, df4_agree_part])\n",
        "df"
      ],
      "execution_count": 62,
      "outputs": [
        {
          "output_type": "execute_result",
          "data": {
            "text/html": [
              "<div>\n",
              "<style scoped>\n",
              "    .dataframe tbody tr th:only-of-type {\n",
              "        vertical-align: middle;\n",
              "    }\n",
              "\n",
              "    .dataframe tbody tr th {\n",
              "        vertical-align: top;\n",
              "    }\n",
              "\n",
              "    .dataframe thead th {\n",
              "        text-align: right;\n",
              "    }\n",
              "</style>\n",
              "<table border=\"1\" class=\"dataframe\">\n",
              "  <thead>\n",
              "    <tr style=\"text-align: right;\">\n",
              "      <th></th>\n",
              "      <th>news</th>\n",
              "      <th>headline</th>\n",
              "      <th>tag</th>\n",
              "    </tr>\n",
              "  </thead>\n",
              "  <tbody>\n",
              "    <tr>\n",
              "      <th>0</th>\n",
              "      <td>a senadora kátia abreu (sem partido-to) disse ...</td>\n",
              "      <td>podemos expulsa gaguim e abre espaco para kati...</td>\n",
              "      <td>disagree</td>\n",
              "    </tr>\n",
              "    <tr>\n",
              "      <th>1</th>\n",
              "      <td>um texto de jorge gauthier, para o blog me sal...</td>\n",
              "      <td>zico critica montagem do elenco no flamengo e ...</td>\n",
              "      <td>disagree</td>\n",
              "    </tr>\n",
              "    <tr>\n",
              "      <th>2</th>\n",
              "      <td>o governador de são paulo, geraldo alckmin, as...</td>\n",
              "      <td>alckmin diz que previa nao divide previa escolhe</td>\n",
              "      <td>disagree</td>\n",
              "    </tr>\n",
              "    <tr>\n",
              "      <th>3</th>\n",
              "      <td>o teatro oficina procurou o ministério público...</td>\n",
              "      <td>doria vai receber ze celso apos reuniao com r...</td>\n",
              "      <td>disagree</td>\n",
              "    </tr>\n",
              "    <tr>\n",
              "      <th>4</th>\n",
              "      <td>a ministra dos direitos humanos luislinda valo...</td>\n",
              "      <td>laranja de geddel trabalhou na campanha de aecio</td>\n",
              "      <td>disagree</td>\n",
              "    </tr>\n",
              "    <tr>\n",
              "      <th>...</th>\n",
              "      <td>...</td>\n",
              "      <td>...</td>\n",
              "      <td>...</td>\n",
              "    </tr>\n",
              "    <tr>\n",
              "      <th>3595</th>\n",
              "      <td>Como a Bahia virou uma potência mundial do mar...</td>\n",
              "      <td>como a bahia virou uma potencia mundial do mar...</td>\n",
              "      <td>agree</td>\n",
              "    </tr>\n",
              "    <tr>\n",
              "      <th>3596</th>\n",
              "      <td>Alvo da Lava Jato, Bendine tinha passagem comp...</td>\n",
              "      <td>alvo da lava jato bendine tinha passagem compr...</td>\n",
              "      <td>agree</td>\n",
              "    </tr>\n",
              "    <tr>\n",
              "      <th>3597</th>\n",
              "      <td>Chefs convidados do Encontro Mundial das Cidad...</td>\n",
              "      <td>chefs convidados do encontro mundial das cidad...</td>\n",
              "      <td>agree</td>\n",
              "    </tr>\n",
              "    <tr>\n",
              "      <th>3598</th>\n",
              "      <td>As lições de educação moral e cívica, que o b...</td>\n",
              "      <td>joesley janot fachin temer cia</td>\n",
              "      <td>agree</td>\n",
              "    </tr>\n",
              "    <tr>\n",
              "      <th>3599</th>\n",
              "      <td>Moraes foi filiado ao PSDB, é constitucionalis...</td>\n",
              "      <td>alexandre de moraes e promotor licenciado e es...</td>\n",
              "      <td>agree</td>\n",
              "    </tr>\n",
              "  </tbody>\n",
              "</table>\n",
              "<p>4800 rows × 3 columns</p>\n",
              "</div>"
            ],
            "text/plain": [
              "                                                   news  ...       tag\n",
              "0     a senadora kátia abreu (sem partido-to) disse ...  ...  disagree\n",
              "1     um texto de jorge gauthier, para o blog me sal...  ...  disagree\n",
              "2     o governador de são paulo, geraldo alckmin, as...  ...  disagree\n",
              "3     o teatro oficina procurou o ministério público...  ...  disagree\n",
              "4     a ministra dos direitos humanos luislinda valo...  ...  disagree\n",
              "...                                                 ...  ...       ...\n",
              "3595  Como a Bahia virou uma potência mundial do mar...  ...     agree\n",
              "3596  Alvo da Lava Jato, Bendine tinha passagem comp...  ...     agree\n",
              "3597  Chefs convidados do Encontro Mundial das Cidad...  ...     agree\n",
              "3598   As lições de educação moral e cívica, que o b...  ...     agree\n",
              "3599  Moraes foi filiado ao PSDB, é constitucionalis...  ...     agree\n",
              "\n",
              "[4800 rows x 3 columns]"
            ]
          },
          "metadata": {
            "tags": []
          },
          "execution_count": 62
        }
      ]
    },
    {
      "cell_type": "code",
      "metadata": {
        "colab": {
          "base_uri": "https://localhost:8080/"
        },
        "id": "CA_nLTgVt0Sr",
        "outputId": "5c1743c2-5669-4697-b944-66f32a0dc8b6"
      },
      "source": [
        "df.tag.value_counts()"
      ],
      "execution_count": 63,
      "outputs": [
        {
          "output_type": "execute_result",
          "data": {
            "text/plain": [
              "agree       2400\n",
              "disagree    2400\n",
              "Name: tag, dtype: int64"
            ]
          },
          "metadata": {
            "tags": []
          },
          "execution_count": 63
        }
      ]
    },
    {
      "cell_type": "code",
      "metadata": {
        "colab": {
          "base_uri": "https://localhost:8080/"
        },
        "id": "lqn90dIHICzL",
        "outputId": "633c2b90-211c-407e-a24a-7ae74063ca02"
      },
      "source": [
        "df_drop_indexes = df[df['news'].apply(len) < 50].index\n",
        "df_drop_indexes"
      ],
      "execution_count": 64,
      "outputs": [
        {
          "output_type": "execute_result",
          "data": {
            "text/plain": [
              "Int64Index([ 402,  479,  585,  649,  786,  976, 1093, 1140, 2424, 2444, 2496,\n",
              "            2757, 3225, 3297, 3307, 3383, 3440, 3492, 3515, 3518, 3536, 3547],\n",
              "           dtype='int64')"
            ]
          },
          "metadata": {
            "tags": []
          },
          "execution_count": 64
        }
      ]
    },
    {
      "cell_type": "code",
      "metadata": {
        "colab": {
          "base_uri": "https://localhost:8080/",
          "height": 419
        },
        "id": "Ln5M7tJ7JLtY",
        "outputId": "12b0422f-37d2-44af-f2a4-de5f2fe81570"
      },
      "source": [
        "df.drop(df_drop_indexes, inplace=True)\n",
        "df"
      ],
      "execution_count": 65,
      "outputs": [
        {
          "output_type": "execute_result",
          "data": {
            "text/html": [
              "<div>\n",
              "<style scoped>\n",
              "    .dataframe tbody tr th:only-of-type {\n",
              "        vertical-align: middle;\n",
              "    }\n",
              "\n",
              "    .dataframe tbody tr th {\n",
              "        vertical-align: top;\n",
              "    }\n",
              "\n",
              "    .dataframe thead th {\n",
              "        text-align: right;\n",
              "    }\n",
              "</style>\n",
              "<table border=\"1\" class=\"dataframe\">\n",
              "  <thead>\n",
              "    <tr style=\"text-align: right;\">\n",
              "      <th></th>\n",
              "      <th>news</th>\n",
              "      <th>headline</th>\n",
              "      <th>tag</th>\n",
              "    </tr>\n",
              "  </thead>\n",
              "  <tbody>\n",
              "    <tr>\n",
              "      <th>0</th>\n",
              "      <td>a senadora kátia abreu (sem partido-to) disse ...</td>\n",
              "      <td>podemos expulsa gaguim e abre espaco para kati...</td>\n",
              "      <td>disagree</td>\n",
              "    </tr>\n",
              "    <tr>\n",
              "      <th>1</th>\n",
              "      <td>um texto de jorge gauthier, para o blog me sal...</td>\n",
              "      <td>zico critica montagem do elenco no flamengo e ...</td>\n",
              "      <td>disagree</td>\n",
              "    </tr>\n",
              "    <tr>\n",
              "      <th>2</th>\n",
              "      <td>o governador de são paulo, geraldo alckmin, as...</td>\n",
              "      <td>alckmin diz que previa nao divide previa escolhe</td>\n",
              "      <td>disagree</td>\n",
              "    </tr>\n",
              "    <tr>\n",
              "      <th>3</th>\n",
              "      <td>o teatro oficina procurou o ministério público...</td>\n",
              "      <td>doria vai receber ze celso apos reuniao com r...</td>\n",
              "      <td>disagree</td>\n",
              "    </tr>\n",
              "    <tr>\n",
              "      <th>4</th>\n",
              "      <td>a ministra dos direitos humanos luislinda valo...</td>\n",
              "      <td>laranja de geddel trabalhou na campanha de aecio</td>\n",
              "      <td>disagree</td>\n",
              "    </tr>\n",
              "    <tr>\n",
              "      <th>...</th>\n",
              "      <td>...</td>\n",
              "      <td>...</td>\n",
              "      <td>...</td>\n",
              "    </tr>\n",
              "    <tr>\n",
              "      <th>3595</th>\n",
              "      <td>Como a Bahia virou uma potência mundial do mar...</td>\n",
              "      <td>como a bahia virou uma potencia mundial do mar...</td>\n",
              "      <td>agree</td>\n",
              "    </tr>\n",
              "    <tr>\n",
              "      <th>3596</th>\n",
              "      <td>Alvo da Lava Jato, Bendine tinha passagem comp...</td>\n",
              "      <td>alvo da lava jato bendine tinha passagem compr...</td>\n",
              "      <td>agree</td>\n",
              "    </tr>\n",
              "    <tr>\n",
              "      <th>3597</th>\n",
              "      <td>Chefs convidados do Encontro Mundial das Cidad...</td>\n",
              "      <td>chefs convidados do encontro mundial das cidad...</td>\n",
              "      <td>agree</td>\n",
              "    </tr>\n",
              "    <tr>\n",
              "      <th>3598</th>\n",
              "      <td>As lições de educação moral e cívica, que o b...</td>\n",
              "      <td>joesley janot fachin temer cia</td>\n",
              "      <td>agree</td>\n",
              "    </tr>\n",
              "    <tr>\n",
              "      <th>3599</th>\n",
              "      <td>Moraes foi filiado ao PSDB, é constitucionalis...</td>\n",
              "      <td>alexandre de moraes e promotor licenciado e es...</td>\n",
              "      <td>agree</td>\n",
              "    </tr>\n",
              "  </tbody>\n",
              "</table>\n",
              "<p>4764 rows × 3 columns</p>\n",
              "</div>"
            ],
            "text/plain": [
              "                                                   news  ...       tag\n",
              "0     a senadora kátia abreu (sem partido-to) disse ...  ...  disagree\n",
              "1     um texto de jorge gauthier, para o blog me sal...  ...  disagree\n",
              "2     o governador de são paulo, geraldo alckmin, as...  ...  disagree\n",
              "3     o teatro oficina procurou o ministério público...  ...  disagree\n",
              "4     a ministra dos direitos humanos luislinda valo...  ...  disagree\n",
              "...                                                 ...  ...       ...\n",
              "3595  Como a Bahia virou uma potência mundial do mar...  ...     agree\n",
              "3596  Alvo da Lava Jato, Bendine tinha passagem comp...  ...     agree\n",
              "3597  Chefs convidados do Encontro Mundial das Cidad...  ...     agree\n",
              "3598   As lições de educação moral e cívica, que o b...  ...     agree\n",
              "3599  Moraes foi filiado ao PSDB, é constitucionalis...  ...     agree\n",
              "\n",
              "[4764 rows x 3 columns]"
            ]
          },
          "metadata": {
            "tags": []
          },
          "execution_count": 65
        }
      ]
    },
    {
      "cell_type": "code",
      "metadata": {
        "colab": {
          "base_uri": "https://localhost:8080/",
          "height": 359
        },
        "id": "y0riZXpgup5K",
        "outputId": "70941350-384c-4382-f063-c757bd4a8f19"
      },
      "source": [
        "df.sample(10)"
      ],
      "execution_count": 66,
      "outputs": [
        {
          "output_type": "execute_result",
          "data": {
            "text/html": [
              "<div>\n",
              "<style scoped>\n",
              "    .dataframe tbody tr th:only-of-type {\n",
              "        vertical-align: middle;\n",
              "    }\n",
              "\n",
              "    .dataframe tbody tr th {\n",
              "        vertical-align: top;\n",
              "    }\n",
              "\n",
              "    .dataframe thead th {\n",
              "        text-align: right;\n",
              "    }\n",
              "</style>\n",
              "<table border=\"1\" class=\"dataframe\">\n",
              "  <thead>\n",
              "    <tr style=\"text-align: right;\">\n",
              "      <th></th>\n",
              "      <th>news</th>\n",
              "      <th>headline</th>\n",
              "      <th>tag</th>\n",
              "    </tr>\n",
              "  </thead>\n",
              "  <tbody>\n",
              "    <tr>\n",
              "      <th>566</th>\n",
              "      <td>a força aérea dos estados unidos ordenou que s...</td>\n",
              "      <td>qual a ameaca real do torpedo do juizo final a...</td>\n",
              "      <td>disagree</td>\n",
              "    </tr>\n",
              "    <tr>\n",
              "      <th>2845</th>\n",
              "      <td>Em alegações finais enviadas à Justiça nesta ...</td>\n",
              "      <td>procuradoria diz que delcidio mentiu e quer co...</td>\n",
              "      <td>agree</td>\n",
              "    </tr>\n",
              "    <tr>\n",
              "      <th>3504</th>\n",
              "      <td>Complexo Esportivo Canhoteiro em São Luís sofr...</td>\n",
              "      <td>complexo esportivo do canhoto em sao luis sofr...</td>\n",
              "      <td>agree</td>\n",
              "    </tr>\n",
              "    <tr>\n",
              "      <th>2430</th>\n",
              "      <td>CPF em troca de desconto: MP investiga venda d...</td>\n",
              "      <td>cpf em troca de desconto mp investiga venda de...</td>\n",
              "      <td>agree</td>\n",
              "    </tr>\n",
              "    <tr>\n",
              "      <th>3264</th>\n",
              "      <td>a jornalista claudia cruz, esposa do president...</td>\n",
              "      <td>esposa de cunha tentou contato com grandes emi...</td>\n",
              "      <td>agree</td>\n",
              "    </tr>\n",
              "    <tr>\n",
              "      <th>1114</th>\n",
              "      <td>quem derrubará temer? cunha ou funaro?. preso ...</td>\n",
              "      <td>politica</td>\n",
              "      <td>disagree</td>\n",
              "    </tr>\n",
              "    <tr>\n",
              "      <th>2688</th>\n",
              "      <td>processos estão a um passo de curitiba. teori ...</td>\n",
              "      <td>saiba o que anda tirando o sono de lula.</td>\n",
              "      <td>agree</td>\n",
              "    </tr>\n",
              "    <tr>\n",
              "      <th>3077</th>\n",
              "      <td>a presidente dilma pode estar trabalhando na m...</td>\n",
              "      <td>jornalista diz que dilma pode estar trabalhand...</td>\n",
              "      <td>agree</td>\n",
              "    </tr>\n",
              "    <tr>\n",
              "      <th>1335</th>\n",
              "      <td>Com denúncia rejeitada, governo quer aprovar r...</td>\n",
              "      <td>policiais invadem o congresso nacional em prot...</td>\n",
              "      <td>disagree</td>\n",
              "    </tr>\n",
              "    <tr>\n",
              "      <th>1627</th>\n",
              "      <td>OMS diz que nenhum caso de zika ocorreu na Oli...</td>\n",
              "      <td>rússia faz alerta sobre zika virus: \"porcaria ...</td>\n",
              "      <td>disagree</td>\n",
              "    </tr>\n",
              "  </tbody>\n",
              "</table>\n",
              "</div>"
            ],
            "text/plain": [
              "                                                   news  ...       tag\n",
              "566   a força aérea dos estados unidos ordenou que s...  ...  disagree\n",
              "2845   Em alegações finais enviadas à Justiça nesta ...  ...     agree\n",
              "3504  Complexo Esportivo Canhoteiro em São Luís sofr...  ...     agree\n",
              "2430  CPF em troca de desconto: MP investiga venda d...  ...     agree\n",
              "3264  a jornalista claudia cruz, esposa do president...  ...     agree\n",
              "1114  quem derrubará temer? cunha ou funaro?. preso ...  ...  disagree\n",
              "2688  processos estão a um passo de curitiba. teori ...  ...     agree\n",
              "3077  a presidente dilma pode estar trabalhando na m...  ...     agree\n",
              "1335  Com denúncia rejeitada, governo quer aprovar r...  ...  disagree\n",
              "1627  OMS diz que nenhum caso de zika ocorreu na Oli...  ...  disagree\n",
              "\n",
              "[10 rows x 3 columns]"
            ]
          },
          "metadata": {
            "tags": []
          },
          "execution_count": 66
        }
      ]
    },
    {
      "cell_type": "code",
      "metadata": {
        "id": "sJBthsrJKpUP"
      },
      "source": [
        "df.to_csv('/content/stance_detection_3.csv', index=False)"
      ],
      "execution_count": 67,
      "outputs": []
    }
  ]
}